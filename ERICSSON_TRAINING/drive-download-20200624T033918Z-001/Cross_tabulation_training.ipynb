{
 "cells": [
  {
   "cell_type": "code",
   "execution_count": 5,
   "metadata": {},
   "outputs": [],
   "source": [
    "import pandas as pd\n",
    "import numpy as np\n",
    "import matplotlib.pyplot as plt\n",
    "import seaborn as sns\n",
    "%matplotlib inline  "
   ]
  },
  {
   "cell_type": "markdown",
   "metadata": {},
   "source": [
    "### Load CSV file and Read"
   ]
  },
  {
   "cell_type": "code",
   "execution_count": 6,
   "metadata": {},
   "outputs": [
    {
     "data": {
      "text/html": [
       "<div>\n",
       "<style scoped>\n",
       "    .dataframe tbody tr th:only-of-type {\n",
       "        vertical-align: middle;\n",
       "    }\n",
       "\n",
       "    .dataframe tbody tr th {\n",
       "        vertical-align: top;\n",
       "    }\n",
       "\n",
       "    .dataframe thead th {\n",
       "        text-align: right;\n",
       "    }\n",
       "</style>\n",
       "<table border=\"1\" class=\"dataframe\">\n",
       "  <thead>\n",
       "    <tr style=\"text-align: right;\">\n",
       "      <th></th>\n",
       "      <th>Auditor ID</th>\n",
       "      <th>First</th>\n",
       "      <th>Last</th>\n",
       "      <th>Region</th>\n",
       "    </tr>\n",
       "  </thead>\n",
       "  <tbody>\n",
       "    <tr>\n",
       "      <td>0</td>\n",
       "      <td>234</td>\n",
       "      <td>Sue</td>\n",
       "      <td>Smith</td>\n",
       "      <td>Northern California</td>\n",
       "    </tr>\n",
       "    <tr>\n",
       "      <td>1</td>\n",
       "      <td>536</td>\n",
       "      <td>Bob</td>\n",
       "      <td>Smith</td>\n",
       "      <td>Northern California</td>\n",
       "    </tr>\n",
       "    <tr>\n",
       "      <td>2</td>\n",
       "      <td>98</td>\n",
       "      <td>Jack</td>\n",
       "      <td>Smith</td>\n",
       "      <td>New York</td>\n",
       "    </tr>\n",
       "    <tr>\n",
       "      <td>3</td>\n",
       "      <td>203</td>\n",
       "      <td>Jill</td>\n",
       "      <td>Smith</td>\n",
       "      <td>New York</td>\n",
       "    </tr>\n",
       "    <tr>\n",
       "      <td>4</td>\n",
       "      <td>304</td>\n",
       "      <td>Jerry</td>\n",
       "      <td>Johnson</td>\n",
       "      <td>Texas</td>\n",
       "    </tr>\n",
       "  </tbody>\n",
       "</table>\n",
       "</div>"
      ],
      "text/plain": [
       "   Auditor ID  First     Last               Region\n",
       "0         234    Sue    Smith  Northern California\n",
       "1         536    Bob    Smith  Northern California\n",
       "2          98   Jack    Smith             New York\n",
       "3         203   Jill    Smith             New York\n",
       "4         304  Jerry  Johnson                Texas"
      ]
     },
     "execution_count": 6,
     "metadata": {},
     "output_type": "execute_result"
    }
   ],
   "source": [
    "auditors = pd.read_csv('auditors.csv' )\n",
    "auditors.head()"
   ]
  },
  {
   "cell_type": "code",
   "execution_count": 7,
   "metadata": {},
   "outputs": [
    {
     "data": {
      "text/html": [
       "<div>\n",
       "<style scoped>\n",
       "    .dataframe tbody tr th:only-of-type {\n",
       "        vertical-align: middle;\n",
       "    }\n",
       "\n",
       "    .dataframe tbody tr th {\n",
       "        vertical-align: top;\n",
       "    }\n",
       "\n",
       "    .dataframe thead th {\n",
       "        text-align: right;\n",
       "    }\n",
       "</style>\n",
       "<table border=\"1\" class=\"dataframe\">\n",
       "  <thead>\n",
       "    <tr style=\"text-align: right;\">\n",
       "      <th></th>\n",
       "      <th>Auditor ID</th>\n",
       "      <th>Date</th>\n",
       "      <th>Price</th>\n",
       "      <th>Store ID</th>\n",
       "      <th>UPC</th>\n",
       "    </tr>\n",
       "  </thead>\n",
       "  <tbody>\n",
       "    <tr>\n",
       "      <td>0</td>\n",
       "      <td>234</td>\n",
       "      <td>10/18/2017</td>\n",
       "      <td>24.95</td>\n",
       "      <td>66999</td>\n",
       "      <td>268588472</td>\n",
       "    </tr>\n",
       "    <tr>\n",
       "      <td>1</td>\n",
       "      <td>234</td>\n",
       "      <td>10/27/2017</td>\n",
       "      <td>49.71</td>\n",
       "      <td>66999</td>\n",
       "      <td>475245085</td>\n",
       "    </tr>\n",
       "    <tr>\n",
       "      <td>2</td>\n",
       "      <td>234</td>\n",
       "      <td>10/20/2017</td>\n",
       "      <td>25.75</td>\n",
       "      <td>66999</td>\n",
       "      <td>126967843</td>\n",
       "    </tr>\n",
       "    <tr>\n",
       "      <td>3</td>\n",
       "      <td>234</td>\n",
       "      <td>10/23/2017</td>\n",
       "      <td>18.81</td>\n",
       "      <td>66999</td>\n",
       "      <td>708930835</td>\n",
       "    </tr>\n",
       "    <tr>\n",
       "      <td>4</td>\n",
       "      <td>234</td>\n",
       "      <td>10/23/2017</td>\n",
       "      <td>33.32</td>\n",
       "      <td>66999</td>\n",
       "      <td>325885139</td>\n",
       "    </tr>\n",
       "  </tbody>\n",
       "</table>\n",
       "</div>"
      ],
      "text/plain": [
       "   Auditor ID        Date  Price  Store ID        UPC\n",
       "0         234  10/18/2017  24.95     66999  268588472\n",
       "1         234  10/27/2017  49.71     66999  475245085\n",
       "2         234  10/20/2017  25.75     66999  126967843\n",
       "3         234  10/23/2017  18.81     66999  708930835\n",
       "4         234  10/23/2017  33.32     66999  325885139"
      ]
     },
     "execution_count": 7,
     "metadata": {},
     "output_type": "execute_result"
    }
   ],
   "source": [
    "prices = pd.read_csv('prices.csv' )\n",
    "prices.head()"
   ]
  },
  {
   "cell_type": "markdown",
   "metadata": {},
   "source": [
    "### Import json Library and Load Json file."
   ]
  },
  {
   "cell_type": "code",
   "execution_count": 9,
   "metadata": {},
   "outputs": [
    {
     "data": {
      "text/html": [
       "<div>\n",
       "<style scoped>\n",
       "    .dataframe tbody tr th:only-of-type {\n",
       "        vertical-align: middle;\n",
       "    }\n",
       "\n",
       "    .dataframe tbody tr th {\n",
       "        vertical-align: top;\n",
       "    }\n",
       "\n",
       "    .dataframe thead th {\n",
       "        text-align: right;\n",
       "    }\n",
       "</style>\n",
       "<table border=\"1\" class=\"dataframe\">\n",
       "  <thead>\n",
       "    <tr style=\"text-align: right;\">\n",
       "      <th></th>\n",
       "      <th>Store ID</th>\n",
       "      <th>Banner</th>\n",
       "      <th>Region</th>\n",
       "    </tr>\n",
       "  </thead>\n",
       "  <tbody>\n",
       "    <tr>\n",
       "      <td>0</td>\n",
       "      <td>66999</td>\n",
       "      <td>Walmart</td>\n",
       "      <td>Northern California</td>\n",
       "    </tr>\n",
       "    <tr>\n",
       "      <td>1</td>\n",
       "      <td>4698</td>\n",
       "      <td>Trader Joes</td>\n",
       "      <td>Northern California</td>\n",
       "    </tr>\n",
       "    <tr>\n",
       "      <td>2</td>\n",
       "      <td>39482</td>\n",
       "      <td>Safeway</td>\n",
       "      <td>Northern California</td>\n",
       "    </tr>\n",
       "    <tr>\n",
       "      <td>3</td>\n",
       "      <td>34957</td>\n",
       "      <td>Whole Foods</td>\n",
       "      <td>Northern California</td>\n",
       "    </tr>\n",
       "    <tr>\n",
       "      <td>4</td>\n",
       "      <td>12837</td>\n",
       "      <td>Walmart</td>\n",
       "      <td>New York</td>\n",
       "    </tr>\n",
       "  </tbody>\n",
       "</table>\n",
       "</div>"
      ],
      "text/plain": [
       "   Store ID       Banner               Region\n",
       "0     66999      Walmart  Northern California\n",
       "1      4698  Trader Joes  Northern California\n",
       "2     39482      Safeway  Northern California\n",
       "3     34957  Whole Foods  Northern California\n",
       "4     12837      Walmart             New York"
      ]
     },
     "execution_count": 9,
     "metadata": {},
     "output_type": "execute_result"
    }
   ],
   "source": [
    "import json\n",
    "%matplotlib inline\n",
    "with open(\"stores.json\") as datafile:\n",
    "  stores = json.load(datafile)\n",
    "stores = pd.DataFrame(stores)\n",
    "stores.head()"
   ]
  },
  {
   "cell_type": "markdown",
   "metadata": {},
   "source": [
    "### Merge certain columns of prices table with auditors table."
   ]
  },
  {
   "cell_type": "code",
   "execution_count": 10,
   "metadata": {},
   "outputs": [
    {
     "data": {
      "text/html": [
       "<div>\n",
       "<style scoped>\n",
       "    .dataframe tbody tr th:only-of-type {\n",
       "        vertical-align: middle;\n",
       "    }\n",
       "\n",
       "    .dataframe tbody tr th {\n",
       "        vertical-align: top;\n",
       "    }\n",
       "\n",
       "    .dataframe thead th {\n",
       "        text-align: right;\n",
       "    }\n",
       "</style>\n",
       "<table border=\"1\" class=\"dataframe\">\n",
       "  <thead>\n",
       "    <tr style=\"text-align: right;\">\n",
       "      <th></th>\n",
       "      <th>Auditor ID</th>\n",
       "      <th>First</th>\n",
       "      <th>Last</th>\n",
       "      <th>Region</th>\n",
       "      <th>Price</th>\n",
       "      <th>Store ID</th>\n",
       "      <th>UPC</th>\n",
       "    </tr>\n",
       "  </thead>\n",
       "  <tbody>\n",
       "    <tr>\n",
       "      <td>0</td>\n",
       "      <td>234</td>\n",
       "      <td>Sue</td>\n",
       "      <td>Smith</td>\n",
       "      <td>Northern California</td>\n",
       "      <td>24.95</td>\n",
       "      <td>66999</td>\n",
       "      <td>268588472</td>\n",
       "    </tr>\n",
       "    <tr>\n",
       "      <td>1</td>\n",
       "      <td>234</td>\n",
       "      <td>Sue</td>\n",
       "      <td>Smith</td>\n",
       "      <td>Northern California</td>\n",
       "      <td>49.71</td>\n",
       "      <td>66999</td>\n",
       "      <td>475245085</td>\n",
       "    </tr>\n",
       "    <tr>\n",
       "      <td>2</td>\n",
       "      <td>234</td>\n",
       "      <td>Sue</td>\n",
       "      <td>Smith</td>\n",
       "      <td>Northern California</td>\n",
       "      <td>25.75</td>\n",
       "      <td>66999</td>\n",
       "      <td>126967843</td>\n",
       "    </tr>\n",
       "    <tr>\n",
       "      <td>3</td>\n",
       "      <td>234</td>\n",
       "      <td>Sue</td>\n",
       "      <td>Smith</td>\n",
       "      <td>Northern California</td>\n",
       "      <td>18.81</td>\n",
       "      <td>66999</td>\n",
       "      <td>708930835</td>\n",
       "    </tr>\n",
       "    <tr>\n",
       "      <td>4</td>\n",
       "      <td>234</td>\n",
       "      <td>Sue</td>\n",
       "      <td>Smith</td>\n",
       "      <td>Northern California</td>\n",
       "      <td>33.32</td>\n",
       "      <td>66999</td>\n",
       "      <td>325885139</td>\n",
       "    </tr>\n",
       "  </tbody>\n",
       "</table>\n",
       "</div>"
      ],
      "text/plain": [
       "   Auditor ID First   Last               Region  Price  Store ID        UPC\n",
       "0         234   Sue  Smith  Northern California  24.95     66999  268588472\n",
       "1         234   Sue  Smith  Northern California  49.71     66999  475245085\n",
       "2         234   Sue  Smith  Northern California  25.75     66999  126967843\n",
       "3         234   Sue  Smith  Northern California  18.81     66999  708930835\n",
       "4         234   Sue  Smith  Northern California  33.32     66999  325885139"
      ]
     },
     "execution_count": 10,
     "metadata": {},
     "output_type": "execute_result"
    }
   ],
   "source": [
    "result = pd.merge(auditors, prices[['Auditor ID','Price', 'Store ID','UPC']],on='Auditor ID')\n",
    "result.head()"
   ]
  },
  {
   "cell_type": "markdown",
   "metadata": {},
   "source": [
    "### Merge certain columns of stores table with result table."
   ]
  },
  {
   "cell_type": "code",
   "execution_count": 11,
   "metadata": {},
   "outputs": [
    {
     "data": {
      "text/html": [
       "<div>\n",
       "<style scoped>\n",
       "    .dataframe tbody tr th:only-of-type {\n",
       "        vertical-align: middle;\n",
       "    }\n",
       "\n",
       "    .dataframe tbody tr th {\n",
       "        vertical-align: top;\n",
       "    }\n",
       "\n",
       "    .dataframe thead th {\n",
       "        text-align: right;\n",
       "    }\n",
       "</style>\n",
       "<table border=\"1\" class=\"dataframe\">\n",
       "  <thead>\n",
       "    <tr style=\"text-align: right;\">\n",
       "      <th></th>\n",
       "      <th>Auditor ID</th>\n",
       "      <th>First</th>\n",
       "      <th>Last</th>\n",
       "      <th>Region</th>\n",
       "      <th>Price</th>\n",
       "      <th>Store ID</th>\n",
       "      <th>UPC</th>\n",
       "      <th>Banner</th>\n",
       "    </tr>\n",
       "  </thead>\n",
       "  <tbody>\n",
       "    <tr>\n",
       "      <td>0</td>\n",
       "      <td>234</td>\n",
       "      <td>Sue</td>\n",
       "      <td>Smith</td>\n",
       "      <td>Northern California</td>\n",
       "      <td>24.95</td>\n",
       "      <td>66999</td>\n",
       "      <td>268588472</td>\n",
       "      <td>Walmart</td>\n",
       "    </tr>\n",
       "    <tr>\n",
       "      <td>1</td>\n",
       "      <td>234</td>\n",
       "      <td>Sue</td>\n",
       "      <td>Smith</td>\n",
       "      <td>Northern California</td>\n",
       "      <td>49.71</td>\n",
       "      <td>66999</td>\n",
       "      <td>475245085</td>\n",
       "      <td>Walmart</td>\n",
       "    </tr>\n",
       "    <tr>\n",
       "      <td>2</td>\n",
       "      <td>234</td>\n",
       "      <td>Sue</td>\n",
       "      <td>Smith</td>\n",
       "      <td>Northern California</td>\n",
       "      <td>25.75</td>\n",
       "      <td>66999</td>\n",
       "      <td>126967843</td>\n",
       "      <td>Walmart</td>\n",
       "    </tr>\n",
       "    <tr>\n",
       "      <td>3</td>\n",
       "      <td>234</td>\n",
       "      <td>Sue</td>\n",
       "      <td>Smith</td>\n",
       "      <td>Northern California</td>\n",
       "      <td>18.81</td>\n",
       "      <td>66999</td>\n",
       "      <td>708930835</td>\n",
       "      <td>Walmart</td>\n",
       "    </tr>\n",
       "    <tr>\n",
       "      <td>4</td>\n",
       "      <td>234</td>\n",
       "      <td>Sue</td>\n",
       "      <td>Smith</td>\n",
       "      <td>Northern California</td>\n",
       "      <td>33.32</td>\n",
       "      <td>66999</td>\n",
       "      <td>325885139</td>\n",
       "      <td>Walmart</td>\n",
       "    </tr>\n",
       "  </tbody>\n",
       "</table>\n",
       "</div>"
      ],
      "text/plain": [
       "   Auditor ID First   Last               Region  Price  Store ID        UPC  \\\n",
       "0         234   Sue  Smith  Northern California  24.95     66999  268588472   \n",
       "1         234   Sue  Smith  Northern California  49.71     66999  475245085   \n",
       "2         234   Sue  Smith  Northern California  25.75     66999  126967843   \n",
       "3         234   Sue  Smith  Northern California  18.81     66999  708930835   \n",
       "4         234   Sue  Smith  Northern California  33.32     66999  325885139   \n",
       "\n",
       "    Banner  \n",
       "0  Walmart  \n",
       "1  Walmart  \n",
       "2  Walmart  \n",
       "3  Walmart  \n",
       "4  Walmart  "
      ]
     },
     "execution_count": 11,
     "metadata": {},
     "output_type": "execute_result"
    }
   ],
   "source": [
    "result1 = pd.merge(result, stores[['Store ID','Banner']],on='Store ID')\n",
    "result1.head()"
   ]
  },
  {
   "cell_type": "markdown",
   "metadata": {},
   "source": [
    "### Drop the columns which are not required"
   ]
  },
  {
   "cell_type": "code",
   "execution_count": 12,
   "metadata": {},
   "outputs": [
    {
     "data": {
      "text/html": [
       "<div>\n",
       "<style scoped>\n",
       "    .dataframe tbody tr th:only-of-type {\n",
       "        vertical-align: middle;\n",
       "    }\n",
       "\n",
       "    .dataframe tbody tr th {\n",
       "        vertical-align: top;\n",
       "    }\n",
       "\n",
       "    .dataframe thead th {\n",
       "        text-align: right;\n",
       "    }\n",
       "</style>\n",
       "<table border=\"1\" class=\"dataframe\">\n",
       "  <thead>\n",
       "    <tr style=\"text-align: right;\">\n",
       "      <th></th>\n",
       "      <th>Region</th>\n",
       "      <th>Price</th>\n",
       "      <th>UPC</th>\n",
       "      <th>Banner</th>\n",
       "    </tr>\n",
       "  </thead>\n",
       "  <tbody>\n",
       "    <tr>\n",
       "      <td>0</td>\n",
       "      <td>Northern California</td>\n",
       "      <td>24.95</td>\n",
       "      <td>268588472</td>\n",
       "      <td>Walmart</td>\n",
       "    </tr>\n",
       "    <tr>\n",
       "      <td>1</td>\n",
       "      <td>Northern California</td>\n",
       "      <td>49.71</td>\n",
       "      <td>475245085</td>\n",
       "      <td>Walmart</td>\n",
       "    </tr>\n",
       "    <tr>\n",
       "      <td>2</td>\n",
       "      <td>Northern California</td>\n",
       "      <td>25.75</td>\n",
       "      <td>126967843</td>\n",
       "      <td>Walmart</td>\n",
       "    </tr>\n",
       "    <tr>\n",
       "      <td>3</td>\n",
       "      <td>Northern California</td>\n",
       "      <td>18.81</td>\n",
       "      <td>708930835</td>\n",
       "      <td>Walmart</td>\n",
       "    </tr>\n",
       "    <tr>\n",
       "      <td>4</td>\n",
       "      <td>Northern California</td>\n",
       "      <td>33.32</td>\n",
       "      <td>325885139</td>\n",
       "      <td>Walmart</td>\n",
       "    </tr>\n",
       "  </tbody>\n",
       "</table>\n",
       "</div>"
      ],
      "text/plain": [
       "                Region  Price        UPC   Banner\n",
       "0  Northern California  24.95  268588472  Walmart\n",
       "1  Northern California  49.71  475245085  Walmart\n",
       "2  Northern California  25.75  126967843  Walmart\n",
       "3  Northern California  18.81  708930835  Walmart\n",
       "4  Northern California  33.32  325885139  Walmart"
      ]
     },
     "execution_count": 12,
     "metadata": {},
     "output_type": "execute_result"
    }
   ],
   "source": [
    "result2=result1.drop(columns=['Auditor ID','First','Last','Store ID'])\n",
    "result2.head()"
   ]
  },
  {
   "cell_type": "markdown",
   "metadata": {},
   "source": [
    "### Crosstab of the dataframe"
   ]
  },
  {
   "cell_type": "code",
   "execution_count": 13,
   "metadata": {},
   "outputs": [
    {
     "data": {
      "text/html": [
       "<div>\n",
       "<style scoped>\n",
       "    .dataframe tbody tr th:only-of-type {\n",
       "        vertical-align: middle;\n",
       "    }\n",
       "\n",
       "    .dataframe tbody tr th {\n",
       "        vertical-align: top;\n",
       "    }\n",
       "\n",
       "    .dataframe thead th {\n",
       "        text-align: right;\n",
       "    }\n",
       "</style>\n",
       "<table border=\"1\" class=\"dataframe\">\n",
       "  <thead>\n",
       "    <tr style=\"text-align: right;\">\n",
       "      <th></th>\n",
       "      <th>Region</th>\n",
       "      <th>Kansas</th>\n",
       "      <th>New York</th>\n",
       "      <th>Northern California</th>\n",
       "      <th>Texas</th>\n",
       "    </tr>\n",
       "    <tr>\n",
       "      <th>Banner</th>\n",
       "      <th>UPC</th>\n",
       "      <th></th>\n",
       "      <th></th>\n",
       "      <th></th>\n",
       "      <th></th>\n",
       "    </tr>\n",
       "  </thead>\n",
       "  <tbody>\n",
       "    <tr>\n",
       "      <td rowspan=\"5\" valign=\"top\">Safeway</td>\n",
       "      <td>11873171</td>\n",
       "      <td>NaN</td>\n",
       "      <td>6.09</td>\n",
       "      <td>NaN</td>\n",
       "      <td>5.19</td>\n",
       "    </tr>\n",
       "    <tr>\n",
       "      <td>15052612</td>\n",
       "      <td>53.99</td>\n",
       "      <td>NaN</td>\n",
       "      <td>NaN</td>\n",
       "      <td>54.49</td>\n",
       "    </tr>\n",
       "    <tr>\n",
       "      <td>16482322</td>\n",
       "      <td>17.89</td>\n",
       "      <td>NaN</td>\n",
       "      <td>NaN</td>\n",
       "      <td>18.09</td>\n",
       "    </tr>\n",
       "    <tr>\n",
       "      <td>16729338</td>\n",
       "      <td>7.99</td>\n",
       "      <td>9.39</td>\n",
       "      <td>NaN</td>\n",
       "      <td>8.09</td>\n",
       "    </tr>\n",
       "    <tr>\n",
       "      <td>16829288</td>\n",
       "      <td>3.59</td>\n",
       "      <td>4.19</td>\n",
       "      <td>NaN</td>\n",
       "      <td>3.59</td>\n",
       "    </tr>\n",
       "  </tbody>\n",
       "</table>\n",
       "</div>"
      ],
      "text/plain": [
       "Region            Kansas  New York  Northern California  Texas\n",
       "Banner  UPC                                                   \n",
       "Safeway 11873171     NaN      6.09                  NaN   5.19\n",
       "        15052612   53.99       NaN                  NaN  54.49\n",
       "        16482322   17.89       NaN                  NaN  18.09\n",
       "        16729338    7.99      9.39                  NaN   8.09\n",
       "        16829288    3.59      4.19                  NaN   3.59"
      ]
     },
     "execution_count": 13,
     "metadata": {},
     "output_type": "execute_result"
    }
   ],
   "source": [
    "result3=pd.crosstab([result2.Banner, result2.UPC],result2.Region,values=result2.Price,aggfunc=np.sum)\n",
    "result3.head()"
   ]
  },
  {
   "cell_type": "markdown",
   "metadata": {},
   "source": [
    "### Count missing values for each columns"
   ]
  },
  {
   "cell_type": "code",
   "execution_count": 14,
   "metadata": {},
   "outputs": [
    {
     "data": {
      "text/plain": [
       "Region\n",
       "Kansas                 1844\n",
       "New York               1600\n",
       "Northern California    3603\n",
       "Texas                  1166\n",
       "dtype: int64"
      ]
     },
     "execution_count": 14,
     "metadata": {},
     "output_type": "execute_result"
    }
   ],
   "source": [
    "result3.isna().sum()"
   ]
  },
  {
   "cell_type": "markdown",
   "metadata": {},
   "source": [
    "### Count non-null values for each columns"
   ]
  },
  {
   "cell_type": "code",
   "execution_count": 15,
   "metadata": {},
   "outputs": [
    {
     "name": "stdout",
     "output_type": "stream",
     "text": [
      "<class 'pandas.core.frame.DataFrame'>\n",
      "MultiIndex: 4931 entries, (Safeway, 11873171) to (Whole Foods, 999185078)\n",
      "Data columns (total 4 columns):\n",
      "Kansas                 3087 non-null float64\n",
      "New York               3331 non-null float64\n",
      "Northern California    1328 non-null float64\n",
      "Texas                  3765 non-null float64\n",
      "dtypes: float64(4)\n",
      "memory usage: 176.5+ KB\n"
     ]
    }
   ],
   "source": [
    "result3.info() #no null objects"
   ]
  },
  {
   "cell_type": "markdown",
   "metadata": {},
   "source": [
    "### See statistical parameters"
   ]
  },
  {
   "cell_type": "code",
   "execution_count": 16,
   "metadata": {
    "scrolled": false
   },
   "outputs": [
    {
     "data": {
      "text/html": [
       "<div>\n",
       "<style scoped>\n",
       "    .dataframe tbody tr th:only-of-type {\n",
       "        vertical-align: middle;\n",
       "    }\n",
       "\n",
       "    .dataframe tbody tr th {\n",
       "        vertical-align: top;\n",
       "    }\n",
       "\n",
       "    .dataframe thead th {\n",
       "        text-align: right;\n",
       "    }\n",
       "</style>\n",
       "<table border=\"1\" class=\"dataframe\">\n",
       "  <thead>\n",
       "    <tr style=\"text-align: right;\">\n",
       "      <th>Region</th>\n",
       "      <th>Kansas</th>\n",
       "      <th>New York</th>\n",
       "      <th>Northern California</th>\n",
       "      <th>Texas</th>\n",
       "    </tr>\n",
       "  </thead>\n",
       "  <tbody>\n",
       "    <tr>\n",
       "      <td>count</td>\n",
       "      <td>3087.000000</td>\n",
       "      <td>3331.000000</td>\n",
       "      <td>1328.000000</td>\n",
       "      <td>3765.000000</td>\n",
       "    </tr>\n",
       "    <tr>\n",
       "      <td>mean</td>\n",
       "      <td>21.390198</td>\n",
       "      <td>31.368157</td>\n",
       "      <td>35.471310</td>\n",
       "      <td>30.084550</td>\n",
       "    </tr>\n",
       "    <tr>\n",
       "      <td>std</td>\n",
       "      <td>18.610435</td>\n",
       "      <td>17.436303</td>\n",
       "      <td>19.717375</td>\n",
       "      <td>16.709557</td>\n",
       "    </tr>\n",
       "    <tr>\n",
       "      <td>min</td>\n",
       "      <td>0.690000</td>\n",
       "      <td>0.590000</td>\n",
       "      <td>0.690000</td>\n",
       "      <td>0.590000</td>\n",
       "    </tr>\n",
       "    <tr>\n",
       "      <td>25%</td>\n",
       "      <td>1.990000</td>\n",
       "      <td>17.020000</td>\n",
       "      <td>19.090000</td>\n",
       "      <td>16.290000</td>\n",
       "    </tr>\n",
       "    <tr>\n",
       "      <td>50%</td>\n",
       "      <td>17.690000</td>\n",
       "      <td>31.090000</td>\n",
       "      <td>34.990000</td>\n",
       "      <td>29.840000</td>\n",
       "    </tr>\n",
       "    <tr>\n",
       "      <td>75%</td>\n",
       "      <td>37.490000</td>\n",
       "      <td>45.590000</td>\n",
       "      <td>51.597500</td>\n",
       "      <td>44.060000</td>\n",
       "    </tr>\n",
       "    <tr>\n",
       "      <td>max</td>\n",
       "      <td>59.990000</td>\n",
       "      <td>70.090000</td>\n",
       "      <td>74.490000</td>\n",
       "      <td>63.890000</td>\n",
       "    </tr>\n",
       "  </tbody>\n",
       "</table>\n",
       "</div>"
      ],
      "text/plain": [
       "Region       Kansas     New York  Northern California        Texas\n",
       "count   3087.000000  3331.000000          1328.000000  3765.000000\n",
       "mean      21.390198    31.368157            35.471310    30.084550\n",
       "std       18.610435    17.436303            19.717375    16.709557\n",
       "min        0.690000     0.590000             0.690000     0.590000\n",
       "25%        1.990000    17.020000            19.090000    16.290000\n",
       "50%       17.690000    31.090000            34.990000    29.840000\n",
       "75%       37.490000    45.590000            51.597500    44.060000\n",
       "max       59.990000    70.090000            74.490000    63.890000"
      ]
     },
     "execution_count": 16,
     "metadata": {},
     "output_type": "execute_result"
    }
   ],
   "source": [
    "result3.describe()"
   ]
  },
  {
   "cell_type": "markdown",
   "metadata": {},
   "source": [
    "### Drop missing values"
   ]
  },
  {
   "cell_type": "code",
   "execution_count": 17,
   "metadata": {
    "scrolled": true
   },
   "outputs": [
    {
     "data": {
      "text/html": [
       "<div>\n",
       "<style scoped>\n",
       "    .dataframe tbody tr th:only-of-type {\n",
       "        vertical-align: middle;\n",
       "    }\n",
       "\n",
       "    .dataframe tbody tr th {\n",
       "        vertical-align: top;\n",
       "    }\n",
       "\n",
       "    .dataframe thead th {\n",
       "        text-align: right;\n",
       "    }\n",
       "</style>\n",
       "<table border=\"1\" class=\"dataframe\">\n",
       "  <thead>\n",
       "    <tr style=\"text-align: right;\">\n",
       "      <th></th>\n",
       "      <th>Region</th>\n",
       "      <th>Kansas</th>\n",
       "      <th>New York</th>\n",
       "      <th>Northern California</th>\n",
       "      <th>Texas</th>\n",
       "    </tr>\n",
       "    <tr>\n",
       "      <th>Banner</th>\n",
       "      <th>UPC</th>\n",
       "      <th></th>\n",
       "      <th></th>\n",
       "      <th></th>\n",
       "      <th></th>\n",
       "    </tr>\n",
       "  </thead>\n",
       "  <tbody>\n",
       "    <tr>\n",
       "      <td rowspan=\"5\" valign=\"top\">Trader Joes</td>\n",
       "      <td>16729338</td>\n",
       "      <td>7.59</td>\n",
       "      <td>7.89</td>\n",
       "      <td>8.89</td>\n",
       "      <td>7.69</td>\n",
       "    </tr>\n",
       "    <tr>\n",
       "      <td>19911643</td>\n",
       "      <td>28.99</td>\n",
       "      <td>30.09</td>\n",
       "      <td>33.99</td>\n",
       "      <td>29.19</td>\n",
       "    </tr>\n",
       "    <tr>\n",
       "      <td>44276570</td>\n",
       "      <td>36.19</td>\n",
       "      <td>37.69</td>\n",
       "      <td>42.49</td>\n",
       "      <td>36.59</td>\n",
       "    </tr>\n",
       "    <tr>\n",
       "      <td>54548062</td>\n",
       "      <td>39.29</td>\n",
       "      <td>40.89</td>\n",
       "      <td>46.09</td>\n",
       "      <td>39.69</td>\n",
       "    </tr>\n",
       "    <tr>\n",
       "      <td>58785197</td>\n",
       "      <td>19.79</td>\n",
       "      <td>20.59</td>\n",
       "      <td>23.19</td>\n",
       "      <td>19.99</td>\n",
       "    </tr>\n",
       "  </tbody>\n",
       "</table>\n",
       "</div>"
      ],
      "text/plain": [
       "Region                Kansas  New York  Northern California  Texas\n",
       "Banner      UPC                                                   \n",
       "Trader Joes 16729338    7.59      7.89                 8.89   7.69\n",
       "            19911643   28.99     30.09                33.99  29.19\n",
       "            44276570   36.19     37.69                42.49  36.59\n",
       "            54548062   39.29     40.89                46.09  39.69\n",
       "            58785197   19.79     20.59                23.19  19.99"
      ]
     },
     "execution_count": 17,
     "metadata": {},
     "output_type": "execute_result"
    }
   ],
   "source": [
    "result4=result3.dropna()\n",
    "result4.head()"
   ]
  },
  {
   "cell_type": "markdown",
   "metadata": {},
   "source": [
    "### See statistical parameters after removing NA's"
   ]
  },
  {
   "cell_type": "code",
   "execution_count": 18,
   "metadata": {
    "scrolled": false
   },
   "outputs": [
    {
     "data": {
      "text/html": [
       "<div>\n",
       "<style scoped>\n",
       "    .dataframe tbody tr th:only-of-type {\n",
       "        vertical-align: middle;\n",
       "    }\n",
       "\n",
       "    .dataframe tbody tr th {\n",
       "        vertical-align: top;\n",
       "    }\n",
       "\n",
       "    .dataframe thead th {\n",
       "        text-align: right;\n",
       "    }\n",
       "</style>\n",
       "<table border=\"1\" class=\"dataframe\">\n",
       "  <thead>\n",
       "    <tr style=\"text-align: right;\">\n",
       "      <th>Region</th>\n",
       "      <th>Kansas</th>\n",
       "      <th>New York</th>\n",
       "      <th>Northern California</th>\n",
       "      <th>Texas</th>\n",
       "    </tr>\n",
       "  </thead>\n",
       "  <tbody>\n",
       "    <tr>\n",
       "      <td>count</td>\n",
       "      <td>388.000000</td>\n",
       "      <td>388.000000</td>\n",
       "      <td>388.000000</td>\n",
       "      <td>388.000000</td>\n",
       "    </tr>\n",
       "    <tr>\n",
       "      <td>mean</td>\n",
       "      <td>13.543093</td>\n",
       "      <td>31.652216</td>\n",
       "      <td>35.631495</td>\n",
       "      <td>30.711804</td>\n",
       "    </tr>\n",
       "    <tr>\n",
       "      <td>std</td>\n",
       "      <td>16.476823</td>\n",
       "      <td>18.098351</td>\n",
       "      <td>20.350657</td>\n",
       "      <td>17.529367</td>\n",
       "    </tr>\n",
       "    <tr>\n",
       "      <td>min</td>\n",
       "      <td>0.860000</td>\n",
       "      <td>0.690000</td>\n",
       "      <td>0.690000</td>\n",
       "      <td>0.590000</td>\n",
       "    </tr>\n",
       "    <tr>\n",
       "      <td>25%</td>\n",
       "      <td>1.990000</td>\n",
       "      <td>16.477500</td>\n",
       "      <td>18.570000</td>\n",
       "      <td>16.055000</td>\n",
       "    </tr>\n",
       "    <tr>\n",
       "      <td>50%</td>\n",
       "      <td>1.990000</td>\n",
       "      <td>30.440000</td>\n",
       "      <td>34.340000</td>\n",
       "      <td>29.540000</td>\n",
       "    </tr>\n",
       "    <tr>\n",
       "      <td>75%</td>\n",
       "      <td>23.845000</td>\n",
       "      <td>46.285000</td>\n",
       "      <td>52.097500</td>\n",
       "      <td>44.885000</td>\n",
       "    </tr>\n",
       "    <tr>\n",
       "      <td>max</td>\n",
       "      <td>56.390000</td>\n",
       "      <td>65.390000</td>\n",
       "      <td>73.690000</td>\n",
       "      <td>63.490000</td>\n",
       "    </tr>\n",
       "  </tbody>\n",
       "</table>\n",
       "</div>"
      ],
      "text/plain": [
       "Region      Kansas    New York  Northern California       Texas\n",
       "count   388.000000  388.000000           388.000000  388.000000\n",
       "mean     13.543093   31.652216            35.631495   30.711804\n",
       "std      16.476823   18.098351            20.350657   17.529367\n",
       "min       0.860000    0.690000             0.690000    0.590000\n",
       "25%       1.990000   16.477500            18.570000   16.055000\n",
       "50%       1.990000   30.440000            34.340000   29.540000\n",
       "75%      23.845000   46.285000            52.097500   44.885000\n",
       "max      56.390000   65.390000            73.690000   63.490000"
      ]
     },
     "execution_count": 18,
     "metadata": {},
     "output_type": "execute_result"
    }
   ],
   "source": [
    "result4.describe()"
   ]
  },
  {
   "cell_type": "code",
   "execution_count": 19,
   "metadata": {
    "scrolled": false
   },
   "outputs": [
    {
     "data": {
      "text/plain": [
       "<seaborn.axisgrid.FacetGrid at 0x1a228abb10>"
      ]
     },
     "execution_count": 19,
     "metadata": {},
     "output_type": "execute_result"
    },
    {
     "data": {
      "image/png": "[encoded data removed]",
      "text/plain": [
       "<Figure size 864x1080 with 20 Axes>"
      ]
     },
     "metadata": {
      "needs_background": "light"
     },
     "output_type": "display_data"
    }
   ],
   "source": [
    "grid = sns.FacetGrid(result2, row=\"Banner\", col=\"Region\", margin_titles=True)\n",
    "grid.map(plt.hist, \"Price\", bins=np.linspace(0, 80, 15))"
   ]
  },
  {
   "cell_type": "markdown",
   "metadata": {},
   "source": [
    "### Northern California has only three banners (Not Safeway and Wegmans)\n",
    "### Kansas has maximum number of Whole Foods\n",
    "### Newyork has minimum number of Safeway "
   ]
  },
  {
   "cell_type": "code",
   "execution_count": 20,
   "metadata": {},
   "outputs": [
    {
     "data": {
      "image/png": "[encoded data removed]",
      "text/plain": [
       "<Figure size 432x288 with 1 Axes>"
      ]
     },
     "metadata": {
      "needs_background": "light"
     },
     "output_type": "display_data"
    }
   ],
   "source": [
    "group = result2.groupby([\"Region\",\"Banner\"]).sum()\n",
    "total_price = group[\"Price\"].groupby(level=0, group_keys=False)\n",
    "gtp = total_price.nlargest(5)\n",
    "ax = gtp.plot(kind=\"bar\")"
   ]
  },
  {
   "cell_type": "code",
   "execution_count": 21,
   "metadata": {
    "scrolled": false
   },
   "outputs": [
    {
     "data": {
      "image/png": "[encoded data removed]",
      "text/plain": [
       "<Figure size 432x288 with 1 Axes>"
      ]
     },
     "metadata": {
      "needs_background": "light"
     },
     "output_type": "display_data"
    }
   ],
   "source": [
    "group = result2.groupby([\"Region\",\"Banner\"]).sum()\n",
    "total_price = group[\"Price\"].groupby(level=0, group_keys=False)\n",
    "gtp = total_price.nlargest(5)\n",
    "ax = gtp.plot(kind=\"bar\")\n",
    "#draw lines and titles\n",
    "count = gtp.groupby(\"Region\").count()\n",
    "cs = np.cumsum(count)\n",
    "#numpy.cumsum() function is used when we want to compute the cumulative sum of array elements over a given axis."
   ]
  },
  {
   "cell_type": "code",
   "execution_count": 22,
   "metadata": {},
   "outputs": [
    {
     "data": {
      "text/plain": [
       "array(['Kansas', 'New York', 'Northern California'], dtype=object)"
      ]
     },
     "execution_count": 22,
     "metadata": {},
     "output_type": "execute_result"
    }
   ],
   "source": [
    "title = count.index.values[0:3]\n",
    "title"
   ]
  },
  {
   "cell_type": "markdown",
   "metadata": {},
   "source": [
    "### For Kansas price of Whole foods are cheapest among all four states and all Banners."
   ]
  },
  {
   "cell_type": "code",
   "execution_count": 23,
   "metadata": {},
   "outputs": [
    {
     "data": {
      "text/plain": [
       "<matplotlib.axes._subplots.AxesSubplot at 0x1a23cdeb10>"
      ]
     },
     "execution_count": 23,
     "metadata": {},
     "output_type": "execute_result"
    },
    {
     "data": {
      "image/png": "[encoded data removed]",
      "text/plain": [
       "<Figure size 432x288 with 1 Axes>"
      ]
     },
     "metadata": {
      "needs_background": "light"
     },
     "output_type": "display_data"
    }
   ],
   "source": [
    "bx = sns.boxplot(x=\"Region\", y=\"Price\", data=result2)\n",
    "bx"
   ]
  },
  {
   "cell_type": "markdown",
   "metadata": {},
   "source": [
    "### Mean price of Kansas is minimum with maximum range.\n",
    "### Mean price of Northern California is maximum."
   ]
  },
  {
   "cell_type": "code",
   "execution_count": 24,
   "metadata": {
    "scrolled": true
   },
   "outputs": [
    {
     "data": {
      "text/plain": [
       "<matplotlib.axes._subplots.AxesSubplot at 0x1a23dd8e50>"
      ]
     },
     "execution_count": 24,
     "metadata": {},
     "output_type": "execute_result"
    },
    {
     "data": {
      "image/png": "[encoded data removed]",
      "text/plain": [
       "<Figure size 432x288 with 1 Axes>"
      ]
     },
     "metadata": {
      "needs_background": "light"
     },
     "output_type": "display_data"
    }
   ],
   "source": [
    "bx1 = sns.boxplot(x=\"Banner\", y=\"Price\", data=result2)\n",
    "bx1"
   ]
  },
  {
   "cell_type": "markdown",
   "metadata": {},
   "source": [
    "### Mean price of Kansas is minimum with maximum range.\n",
    "### Mean price of North California is maximum."
   ]
  },
  {
   "cell_type": "code",
   "execution_count": 25,
   "metadata": {
    "scrolled": true
   },
   "outputs": [
    {
     "data": {
      "text/plain": [
       "<matplotlib.axes._subplots.AxesSubplot at 0x1a23f49250>"
      ]
     },
     "execution_count": 25,
     "metadata": {},
     "output_type": "execute_result"
    },
    {
     "data": {
      "image/png": "[encoded data removed]",
      "text/plain": [
       "<Figure size 432x288 with 1 Axes>"
      ]
     },
     "metadata": {
      "needs_background": "light"
     },
     "output_type": "display_data"
    }
   ],
   "source": [
    "sns.barplot(x='Banner',y='Price',data=result2)"
   ]
  },
  {
   "cell_type": "markdown",
   "metadata": {},
   "source": [
    "### Counting total number of different Banners "
   ]
  },
  {
   "cell_type": "code",
   "execution_count": 26,
   "metadata": {},
   "outputs": [
    {
     "data": {
      "text/plain": [
       "<matplotlib.axes._subplots.AxesSubplot at 0x1a24064090>"
      ]
     },
     "execution_count": 26,
     "metadata": {},
     "output_type": "execute_result"
    },
    {
     "data": {
      "image/png": "[encoded data removed]",
      "text/plain": [
       "<Figure size 432x288 with 1 Axes>"
      ]
     },
     "metadata": {
      "needs_background": "light"
     },
     "output_type": "display_data"
    }
   ],
   "source": [
    "sns.countplot(x='Banner',data=result2)"
   ]
  },
  {
   "cell_type": "markdown",
   "metadata": {},
   "source": [
    "## Export cross tabulated table as csv file."
   ]
  },
  {
   "cell_type": "code",
   "execution_count": 27,
   "metadata": {},
   "outputs": [],
   "source": [
    "import csv\n",
    "results=pd.DataFrame(result3)\n",
    "results.head()\n",
    "results.to_csv('Cross_Table.csv',sep= ';')"
   ]
  },
  {
   "cell_type": "code",
   "execution_count": null,
   "metadata": {},
   "outputs": [],
   "source": []
  }
 ],
 "metadata": {
  "kernelspec": {
   "display_name": "Python 3",
   "language": "python",
   "name": "python3"
  },
  "language_info": {
   "codemirror_mode": {
    "name": "ipython",
    "version": 3
   },
   "file_extension": ".py",
   "mimetype": "text/x-python",
   "name": "python",
   "nbconvert_exporter": "python",
   "pygments_lexer": "ipython3",
   "version": "3.7.4"
  }
 },
 "nbformat": 4,
 "nbformat_minor": 2
}
