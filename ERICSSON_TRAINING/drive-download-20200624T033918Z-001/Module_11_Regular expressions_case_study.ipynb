{
 "cells": [
  {
   "cell_type": "markdown",
   "metadata": {},
   "source": []
  },
  {
   "cell_type": "markdown",
   "metadata": {},
   "source": [
    "## f-Strings: A New and Improvemd Way to Format Strings in Python"
   ]
  },
  {
   "cell_type": "code",
   "execution_count": 1,
   "metadata": {},
   "outputs": [],
   "source": [
    "### Also called “formatted string literals,” f-strings are string literals that have an f at the beginning and \n",
    "### curly braces containing expressions that will be replaced with their values. \n",
    "### The expressions are evaluated at runtime and then formatted using the __format__ protocol"
   ]
  },
  {
   "cell_type": "code",
   "execution_count": 2,
   "metadata": {},
   "outputs": [
    {
     "data": {
      "text/plain": [
       "'Hello, Sudhanshu. You are 37.'"
      ]
     },
     "execution_count": 2,
     "metadata": {},
     "output_type": "execute_result"
    }
   ],
   "source": [
    "#Simple Syntax\n",
    "##The syntax is similar to the one you used with str.format() but less verbose.\n",
    "\n",
    "name = \"Sudhanshu\"\n",
    "age = 37\n",
    "f\"Hello, {name}. You are {age}.\""
   ]
  },
  {
   "cell_type": "code",
   "execution_count": 3,
   "metadata": {},
   "outputs": [
    {
     "data": {
      "text/plain": [
       "'Hello, Sudhanshu. You are 37.'"
      ]
     },
     "execution_count": 3,
     "metadata": {},
     "output_type": "execute_result"
    }
   ],
   "source": [
    "F\"Hello, {name}. You are {age}.\""
   ]
  },
  {
   "cell_type": "code",
   "execution_count": 4,
   "metadata": {},
   "outputs": [
    {
     "data": {
      "text/plain": [
       "'74'"
      ]
     },
     "execution_count": 4,
     "metadata": {},
     "output_type": "execute_result"
    }
   ],
   "source": [
    "f\"{2 * 37}\""
   ]
  },
  {
   "cell_type": "code",
   "execution_count": 5,
   "metadata": {},
   "outputs": [],
   "source": [
    "def to_lowercase(input):\n",
    "...     return input.lower()"
   ]
  },
  {
   "cell_type": "code",
   "execution_count": 6,
   "metadata": {},
   "outputs": [
    {
     "data": {
      "text/plain": [
       "'sudhanshu saxena is funny.'"
      ]
     },
     "execution_count": 6,
     "metadata": {},
     "output_type": "execute_result"
    }
   ],
   "source": [
    "name = \"Sudhanshu Saxena\"\n",
    "f\"{to_lowercase(name)} is funny.\""
   ]
  },
  {
   "cell_type": "markdown",
   "metadata": {},
   "source": [
    "## Match_a_symbol"
   ]
  },
  {
   "cell_type": "code",
   "execution_count": 7,
   "metadata": {},
   "outputs": [],
   "source": [
    "# Load regex package\n",
    "import re"
   ]
  },
  {
   "cell_type": "code",
   "execution_count": 8,
   "metadata": {},
   "outputs": [],
   "source": [
    "# Create a variable containing a text string\n",
    "text = '$100'"
   ]
  },
  {
   "cell_type": "code",
   "execution_count": 9,
   "metadata": {},
   "outputs": [
    {
     "data": {
      "text/plain": [
       "['$']"
      ]
     },
     "execution_count": 9,
     "metadata": {},
     "output_type": "execute_result"
    }
   ],
   "source": [
    "## Apply Regex\n",
    "# Find all instances of the exact match '$'\n",
    "re.findall(r'\\$', text)"
   ]
  },
  {
   "cell_type": "markdown",
   "metadata": {},
   "source": [
    "## Match_a_unicode_character"
   ]
  },
  {
   "cell_type": "code",
   "execution_count": 10,
   "metadata": {},
   "outputs": [
    {
     "data": {
      "text/plain": [
       "['™']"
      ]
     },
     "execution_count": 10,
     "metadata": {},
     "output_type": "execute_result"
    }
   ],
   "source": [
    "# Load regex package\n",
    "import re\n",
    "\n",
    "# Create a variable containing a text string\n",
    "text = 'Microsoft™.'\n",
    "\n",
    "# Find any unicode character for a trademark\n",
    "re.findall(r'\\u2122', text)"
   ]
  },
  {
   "cell_type": "markdown",
   "metadata": {},
   "source": [
    "## Match_a_word"
   ]
  },
  {
   "cell_type": "code",
   "execution_count": 11,
   "metadata": {},
   "outputs": [
    {
     "data": {
      "text/plain": [
       "['The', 'fox', 'the']"
      ]
     },
     "execution_count": 11,
     "metadata": {},
     "output_type": "execute_result"
    }
   ],
   "source": [
    "# Load regex package\n",
    "import re\n",
    "\n",
    "# Create a variable containing a text string\n",
    "text = 'The quick brown fox jumped over the lazy brown bear.'\n",
    "\n",
    "# Find any word of three letters\n",
    "re.findall(r'\\b...\\b', text)"
   ]
  },
  {
   "cell_type": "markdown",
   "metadata": {},
   "source": [
    "## Match_any_character"
   ]
  },
  {
   "cell_type": "code",
   "execution_count": 12,
   "metadata": {},
   "outputs": [
    {
     "data": {
      "text/plain": [
       "['The']"
      ]
     },
     "execution_count": 12,
     "metadata": {},
     "output_type": "execute_result"
    }
   ],
   "source": [
    "# Find anything with a 'T' and then the next two characters\n",
    "re.findall(r'T..', text)"
   ]
  },
  {
   "cell_type": "markdown",
   "metadata": {},
   "source": [
    "## Match_any_of_a_list_of_symbols"
   ]
  },
  {
   "cell_type": "code",
   "execution_count": 13,
   "metadata": {},
   "outputs": [
    {
     "data": {
      "text/plain": [
       "['e', 'u', 'i', 'o', 'o', 'u', 'e', 'o', 'e', 'e', 'a', 'o', 'e', 'a']"
      ]
     },
     "execution_count": 13,
     "metadata": {},
     "output_type": "execute_result"
    }
   ],
   "source": [
    "# Find all instances of any vowel\n",
    "re.findall(r'[aeiou]', text)"
   ]
  },
  {
   "cell_type": "markdown",
   "metadata": {},
   "source": [
    "## Match_any_of_series_of_characters"
   ]
  },
  {
   "cell_type": "code",
   "execution_count": 14,
   "metadata": {},
   "outputs": [
    {
     "data": {
      "text/plain": [
       "['fox', 'bear']"
      ]
     },
     "execution_count": 14,
     "metadata": {},
     "output_type": "execute_result"
    }
   ],
   "source": [
    "# Find any of fox, snake, or bear\n",
    "re.findall(r'fox|snake|bear', text)"
   ]
  },
  {
   "cell_type": "markdown",
   "metadata": {},
   "source": [
    "## Match_any_of_series_of_words"
   ]
  },
  {
   "cell_type": "code",
   "execution_count": 15,
   "metadata": {},
   "outputs": [
    {
     "data": {
      "text/plain": [
       "['fox', 'bear']"
      ]
     },
     "execution_count": 15,
     "metadata": {},
     "output_type": "execute_result"
    }
   ],
   "source": [
    "# Find any of fox, snake, or bear\n",
    "re.findall(r'\\b(fox|snake|bear)\\b', text)"
   ]
  },
  {
   "cell_type": "markdown",
   "metadata": {},
   "source": [
    "## Match_dates"
   ]
  },
  {
   "cell_type": "code",
   "execution_count": 16,
   "metadata": {},
   "outputs": [],
   "source": [
    "# Create a variable containing a text string\n",
    "text = 'My birthday is 09/15/1983. My brother\\'s birthday is 01/01/01. My other two brothers have birthdays of 9/3/2001 and 09/1/83.'"
   ]
  },
  {
   "cell_type": "code",
   "execution_count": 17,
   "metadata": {},
   "outputs": [
    {
     "data": {
      "text/plain": [
       "['09/15/1983', '01/01/01', '9/3/2001', '09/1/83']"
      ]
     },
     "execution_count": 17,
     "metadata": {},
     "output_type": "execute_result"
    }
   ],
   "source": [
    "# Find any text that fits the regex\n",
    "re.findall(r'\\b[0-3]?[0-9]/[0-3]?[0-9]/(?:[0-9]{2})?[0-9]{2}\\b', text)"
   ]
  },
  {
   "cell_type": "markdown",
   "metadata": {},
   "source": [
    "## Match_email_addresses"
   ]
  },
  {
   "cell_type": "code",
   "execution_count": 18,
   "metadata": {},
   "outputs": [],
   "source": [
    "# Create a variable containing a text string\n",
    "text =  'My email is chris@hotmail.com, thanks! No, I am at bob@data.ninja.'"
   ]
  },
  {
   "cell_type": "code",
   "execution_count": 19,
   "metadata": {},
   "outputs": [
    {
     "data": {
      "text/plain": [
       "['chris@hotmail.com', 'bob@data.ninja']"
      ]
     },
     "execution_count": 19,
     "metadata": {},
     "output_type": "execute_result"
    }
   ],
   "source": [
    "# Find all email addresses\n",
    "re.findall(r'[a-zA-Z0-9_.+-]+@[a-zA-Z0-9-]+\\.[a-zA-Z0-9]+', text)\n",
    "\n",
    "# Explanation:\n",
    "# This regex has three parts\n",
    "# [a-zA-Z0-9_.+-]+ Matches a word (the username) of any length\n",
    "# @[a-zA-Z0-9-]+  Matches a word (the domain name) of any length\n",
    "# \\.[a-zA-Z0-9-.]+ Matches a word (the TLD) of any length"
   ]
  },
  {
   "cell_type": "markdown",
   "metadata": {},
   "source": [
    "## Match_exact_text"
   ]
  },
  {
   "cell_type": "code",
   "execution_count": 20,
   "metadata": {},
   "outputs": [],
   "source": [
    "# Create a variable containing a text string\n",
    "text = 'The quick brown fox jumped over the lazy brown bear.'"
   ]
  },
  {
   "cell_type": "code",
   "execution_count": 21,
   "metadata": {},
   "outputs": [
    {
     "data": {
      "text/plain": [
       "['The']"
      ]
     },
     "execution_count": 21,
     "metadata": {},
     "output_type": "execute_result"
    }
   ],
   "source": [
    "# Find all instances of the exact match 'The'\n",
    "re.findall(r'The', text)"
   ]
  },
  {
   "cell_type": "markdown",
   "metadata": {},
   "source": [
    "## Match_integers_of_any_length"
   ]
  },
  {
   "cell_type": "code",
   "execution_count": 22,
   "metadata": {},
   "outputs": [],
   "source": [
    "# Create a variable containing a text string\n",
    "text = '21 scouts and 3 tanks fought against 4,003 protestors.'"
   ]
  },
  {
   "cell_type": "code",
   "execution_count": 23,
   "metadata": {},
   "outputs": [
    {
     "data": {
      "text/plain": [
       "['21', '3', '4,003']"
      ]
     },
     "execution_count": 23,
     "metadata": {},
     "output_type": "execute_result"
    }
   ],
   "source": [
    "# Find any character block that is a integer of any length\n",
    "re.findall(r'[1-9](?:\\d{0,2})(?:,\\d{3})*(?:\\.\\d*[1-9])?|0?\\.\\d*[1-9]|0', text)"
   ]
  },
  {
   "cell_type": "markdown",
   "metadata": {},
   "source": [
    "## Match_text_between_html_tags"
   ]
  },
  {
   "cell_type": "code",
   "execution_count": 24,
   "metadata": {},
   "outputs": [],
   "source": [
    "# Create a variable containing a text string\n",
    "text = '<p>The quick brown fox.</p><p>The lazy brown bear.</p>'"
   ]
  },
  {
   "cell_type": "code",
   "execution_count": 25,
   "metadata": {},
   "outputs": [
    {
     "data": {
      "text/plain": [
       "['The quick brown fox.', 'The lazy brown bear.']"
      ]
     },
     "execution_count": 25,
     "metadata": {},
     "output_type": "execute_result"
    }
   ],
   "source": [
    "# Find any text between '<p>' and '</p>'\n",
    "re.findall(r'<p>(.*?)</p>', text)"
   ]
  },
  {
   "cell_type": "markdown",
   "metadata": {},
   "source": [
    "## Match_times"
   ]
  },
  {
   "cell_type": "code",
   "execution_count": 26,
   "metadata": {},
   "outputs": [],
   "source": [
    "# Create a variable containing a text string\n",
    "text = 'Chris: 12:34am. Steve: 16:30'"
   ]
  },
  {
   "cell_type": "code",
   "execution_count": 27,
   "metadata": {},
   "outputs": [
    {
     "data": {
      "text/plain": [
       "['12:34', '16:30']"
      ]
     },
     "execution_count": 27,
     "metadata": {},
     "output_type": "execute_result"
    }
   ],
   "source": [
    "# Find any text that fits the regex\n",
    "re.findall(r'([0-1]\\d:[0-5]\\d)\\s*(?:AM|PM)?', text)"
   ]
  },
  {
   "cell_type": "code",
   "execution_count": null,
   "metadata": {},
   "outputs": [],
   "source": []
  },
  {
   "cell_type": "code",
   "execution_count": null,
   "metadata": {},
   "outputs": [],
   "source": []
  },
  {
   "cell_type": "code",
   "execution_count": null,
   "metadata": {},
   "outputs": [],
   "source": []
  },
  {
   "cell_type": "code",
   "execution_count": null,
   "metadata": {},
   "outputs": [],
   "source": []
  },
  {
   "cell_type": "code",
   "execution_count": 28,
   "metadata": {},
   "outputs": [],
   "source": [
    "import re"
   ]
  },
  {
   "cell_type": "markdown",
   "metadata": {},
   "source": [
    "### RegEx Functions\n",
    "The re module offers a set of functions that allows us to search a string for a match:\n",
    "\n",
    "findall\t    ----Returns a list containing all matches<br>\n",
    "search\t    ----Returns a Match object if there is a match anywhere in the string<br>\n",
    "split\t    ----Returns a list where the string has been split at each match<br>\n",
    "sub\t        ----Replaces one or many matches with a string<br>"
   ]
  },
  {
   "cell_type": "code",
   "execution_count": 29,
   "metadata": {},
   "outputs": [
    {
     "name": "stdout",
     "output_type": "stream",
     "text": [
      "['ai', 'ai']\n"
     ]
    }
   ],
   "source": [
    "import re\n",
    "\n",
    "str = \"The rain in Spain\"\n",
    "x = re.findall(\"ai\", str)\n",
    "print(x)"
   ]
  },
  {
   "cell_type": "code",
   "execution_count": 30,
   "metadata": {},
   "outputs": [
    {
     "name": "stdout",
     "output_type": "stream",
     "text": [
      "[]\n"
     ]
    }
   ],
   "source": [
    "str = \"The rain in Spain\"\n",
    "x = re.findall(\"Portugal\", str)\n",
    "print(x)"
   ]
  },
  {
   "cell_type": "code",
   "execution_count": 31,
   "metadata": {},
   "outputs": [
    {
     "data": {
      "text/plain": [
       "<re.Match object; span=(0, 17), match='The rain in Spain'>"
      ]
     },
     "execution_count": 31,
     "metadata": {},
     "output_type": "execute_result"
    }
   ],
   "source": [
    "txt = \"The rain in Spain\"\n",
    "x = re.search(\"^The.*Spain$\", txt)\n",
    "x"
   ]
  },
  {
   "cell_type": "code",
   "execution_count": 32,
   "metadata": {},
   "outputs": [
    {
     "name": "stdout",
     "output_type": "stream",
     "text": [
      "['The', 'rain', 'in', 'Spain']\n"
     ]
    }
   ],
   "source": [
    "##The split() function returns a list where the string has been split at each match:\n",
    "\n",
    "str = \"The rain in Spain\"\n",
    "x = re.split(\"\\s\", str)\n",
    "print(x)"
   ]
  },
  {
   "cell_type": "code",
   "execution_count": 33,
   "metadata": {},
   "outputs": [
    {
     "name": "stdout",
     "output_type": "stream",
     "text": [
      "['The', 'rain in Spain']\n"
     ]
    }
   ],
   "source": [
    "#You can control the number of occurrences by specifying the maxsplit parameter:\n",
    "\n",
    "\n",
    "str = \"The rain in Spain\"\n",
    "x = re.split(\"\\s\", str, 1)\n",
    "print(x)"
   ]
  },
  {
   "cell_type": "code",
   "execution_count": 34,
   "metadata": {},
   "outputs": [
    {
     "name": "stdout",
     "output_type": "stream",
     "text": [
      "The9rain9in9Spain\n"
     ]
    }
   ],
   "source": [
    "#The sub() function replaces the matches with the text of your choice:\n",
    "\n",
    "str = \"The rain in Spain\"\n",
    "x = re.sub(\"\\s\", \"9\", str)\n",
    "print(x)"
   ]
  },
  {
   "cell_type": "code",
   "execution_count": 35,
   "metadata": {},
   "outputs": [
    {
     "name": "stdout",
     "output_type": "stream",
     "text": [
      "The9rain9in Spain\n"
     ]
    }
   ],
   "source": [
    "#You can control the number of replacements by specifying the count parameter:\n",
    "\n",
    "str = \"The rain in Spain\"\n",
    "x = re.sub(\"\\s\", \"9\", str, 2)\n",
    "print(x)"
   ]
  },
  {
   "cell_type": "markdown",
   "metadata": {},
   "source": [
    "Element\tDescription\n",
    ".\tThis element matches any character except \\n<br>\n",
    "\\d\tThis matches any digit [0-9]<br>\n",
    "\\D\tThis matches non-digit characters [^0-9]<br>\n",
    "\\s\tThis matches whitespace character [ \\t\\n\\r\\f\\v]<br>\n",
    "\\S\tThis matches non-whitespace character [^ \\t\\n\\r\\f\\v]<br>\n",
    "\\w\tThis matches alphanumeric character [a-zA-Z0-9_]<br>\n",
    "\\W\tThis matches any non-alphanumeric character [^a-zA-Z0-9]<br>"
   ]
  },
  {
   "cell_type": "markdown",
   "metadata": {},
   "source": [
    "### A Match Object is an object containing information about the search and the result.\n",
    "\n",
    " "
   ]
  },
  {
   "cell_type": "markdown",
   "metadata": {},
   "source": [
    "The Match object has properties and methods used to retrieve information about the search, and the result:\n",
    "\n",
    ".span() returns a tuple containing the start-, and end positions of the match.<br>\n",
    ".string returns the string passed into the function<br>\n",
    ".group() returns the part of the string where there was a match<br>"
   ]
  },
  {
   "cell_type": "code",
   "execution_count": 36,
   "metadata": {},
   "outputs": [
    {
     "name": "stdout",
     "output_type": "stream",
     "text": [
      "matchObj.group() :  Cats are smarter than dogs\n",
      "matchObj.group(1) :  Cats\n",
      "matchObj.group(2) :  smarter\n"
     ]
    }
   ],
   "source": [
    "line = \"Cats are smarter than dogs\"\n",
    "\n",
    "matchObj = re.match( r'(.*) are (.*?) .*', line, re.M|re.I)\n",
    "\n",
    "if matchObj:\n",
    "   print (\"matchObj.group() : \", matchObj.group())\n",
    "   print (\"matchObj.group(1) : \", matchObj.group(1))\n",
    "   print (\"matchObj.group(2) : \", matchObj.group(2))\n",
    "else:\n",
    "   print (\"No match!!\")"
   ]
  },
  {
   "cell_type": "markdown",
   "metadata": {},
   "source": [
    "### The search Function\n",
    "This function searches for first occurrence of RE pattern within string with optional flags.\n",
    "\n",
    "Here is the syntax for this function −\n",
    "\n",
    "re.search(pattern, string, flags=0)\n"
   ]
  },
  {
   "cell_type": "code",
   "execution_count": 37,
   "metadata": {},
   "outputs": [
    {
     "name": "stdout",
     "output_type": "stream",
     "text": [
      "searchObj.group() :  Cats are smarter than dogs\n",
      "searchObj.group(1) :  Cats\n",
      "searchObj.group(2) :  smarter\n"
     ]
    }
   ],
   "source": [
    "line = \"Cats are smarter than dogs\";\n",
    "\n",
    "searchObj = re.search( r'(.*) are (.*?) .*', line, re.M|re.I)\n",
    "\n",
    "if searchObj:\n",
    "   print (\"searchObj.group() : \", searchObj.group())\n",
    "   print (\"searchObj.group(1) : \", searchObj.group(1))\n",
    "   print (\"searchObj.group(2) : \", searchObj.group(2))\n",
    "else:\n",
    "   print (\"Nothing found!!\")"
   ]
  },
  {
   "cell_type": "markdown",
   "metadata": {},
   "source": [
    "# Use cases for re"
   ]
  },
  {
   "cell_type": "markdown",
   "metadata": {},
   "source": [
    "1\t\n",
    "[Pp]ython\n",
    "\n",
    "Match \"Python\" or \"python\"\n",
    "\n",
    "2\t\n",
    "rub[ye]\n",
    "\n",
    "Match \"ruby\" or \"rube\"\n",
    "\n",
    "3\t\n",
    "[aeiou]\n",
    "\n",
    "Match any one lowercase vowel\n",
    "\n",
    "4\t\n",
    "[0-9]\n",
    "\n",
    "Match any digit; same as [0123456789]\n",
    "\n",
    "5\t\n",
    "[a-z]\n",
    "\n",
    "Match any lowercase ASCII letter\n",
    "\n",
    "6\t\n",
    "[A-Z]\n",
    "\n",
    "Match any uppercase ASCII letter\n",
    "\n",
    "7\t\n",
    "[a-zA-Z0-9]\n",
    "\n",
    "Match any of the above\n",
    "\n",
    "8\t\n",
    "[^aeiou]\n",
    "\n",
    "Match anything other than a lowercase vowel\n",
    "\n",
    "9\t\n",
    "[^0-9]\n",
    "\n",
    "Match anything other than a digit"
   ]
  },
  {
   "cell_type": "code",
   "execution_count": 38,
   "metadata": {},
   "outputs": [
    {
     "name": "stdout",
     "output_type": "stream",
     "text": [
      "yes\n",
      "no\n",
      "no\n"
     ]
    }
   ],
   "source": [
    "import re\n",
    "li=['9999999999','999999-999','99999x9999']\n",
    "for val in li:\n",
    " if re.match(r'[8-9]{1}[0-9]{9}',val) and len(val) == 10:\n",
    "     print ('yes')\n",
    " else:\n",
    "     print ('no')"
   ]
  },
  {
   "cell_type": "code",
   "execution_count": 39,
   "metadata": {},
   "outputs": [],
   "source": [
    "sentence = \"Samsung rolled out a beta update for the samsung Galaxy S10 a couple of days to iron out bugs related to Bluetooth tethering, volume control bar, and status bar. Today, the Samsung company released a new beta build for the S10 lineup with over a dozen bug fixes.The new firmware fixes issues related to device reset, always-on display, file moving, Wi-Fi hanging, and Bluetooth headset noise. You can check out the screenshot below for the complete list of bug fixes.\""
   ]
  },
  {
   "cell_type": "markdown",
   "metadata": {},
   "source": []
  },
  {
   "cell_type": "code",
   "execution_count": 40,
   "metadata": {},
   "outputs": [
    {
     "data": {
      "text/plain": [
       "'Samsung rolled out a beta update for the samsung Galaxy S10 a couple of days to iron out bugs related to Bluetooth tethering, volume control bar, and status bar. Today, the Samsung company released a new beta build for the S10 lineup with over a dozen bug fixes.The new firmware fixes issues related to device reset, always-on display, file moving, Wi-Fi hanging, and Bluetooth headset noise. You can check out the screenshot below for the complete list of bug fixes.'"
      ]
     },
     "execution_count": 40,
     "metadata": {},
     "output_type": "execute_result"
    }
   ],
   "source": [
    "sentence"
   ]
  },
  {
   "cell_type": "code",
   "execution_count": 41,
   "metadata": {},
   "outputs": [
    {
     "name": "stdout",
     "output_type": "stream",
     "text": [
      "Samsung\n"
     ]
    }
   ],
   "source": [
    "match = re.match(r\"[Ss]amsung\", sentence)\n",
    "if match:\n",
    "    print(match.group())"
   ]
  },
  {
   "cell_type": "markdown",
   "metadata": {},
   "source": [
    "### Substitute the values in the Data"
   ]
  },
  {
   "cell_type": "markdown",
   "metadata": {},
   "source": [
    "import re\n",
    "list = [ \"mouse\", \"cat\", \"dog\", \"no-match\"]\n",
    "# Loop starts here\n",
    "for elements in list:\n",
    "    m = re.match(\"(d\\w+) \\W(d/w+)\" , elements)\n",
    "# Check for matching\n",
    "if m:\n",
    "    print (m . groups ( ))"
   ]
  },
  {
   "cell_type": "code",
   "execution_count": 42,
   "metadata": {},
   "outputs": [
    {
     "name": "stdout",
     "output_type": "stream",
     "text": [
      "Samsung rolled out a beta update for the Microsoft Galaxy S10 a couple of days to iron out bugs related to Bluetooth tethering, volume control bar, and status bar. Today, the Samsung company released a new beta build for the S10 lineup with over a dozen bug fixes.The new firmware fixes issues related to device reset, always-on display, file moving, Wi-Fi hanging, and Bluetooth headset noise. You can check out the screenshot below for the complete list of bug fixes.\n"
     ]
    }
   ],
   "source": [
    "print(re.sub (r\"samsung\", \"Microsoft\", sentence))"
   ]
  },
  {
   "cell_type": "code",
   "execution_count": 43,
   "metadata": {},
   "outputs": [
    {
     "name": "stdout",
     "output_type": "stream",
     "text": [
      "S000000 000000 000 0 0000 000000 000 000 0000000 G00000 S10 0 000000 00 0000 00 0000 000 0000 0000000 00 B00000000 000000000, 000000 0000000 000, 000 000000 000. T0000, 000 S000000 0000000 00000000 0 000 0000 00000 000 000 S10 000000 0000 0000 0 00000 000 00000.T00 000 00000000 00000 000000 0000000 00 000000 00000, 000000-00 0000000, 0000 000000, W0-F0 0000000, 000 B00000000 0000000 00000. Y00 000 00000 000 000 0000000000 00000 000 000 00000000 0000 00 000 00000.\n"
     ]
    }
   ],
   "source": [
    "print(re.sub(r\"[a-z]\",\"0\", sentence))"
   ]
  },
  {
   "cell_type": "code",
   "execution_count": 44,
   "metadata": {},
   "outputs": [
    {
     "name": "stdout",
     "output_type": "stream",
     "text": [
      "0000000 000000 000 0 0000 000000 000 000 0000000 000000 010 0 000000 00 0000 00 0000 000 0000 0000000 00 000000000 000000000, 000000 0000000 000, 000 000000 000. 00000, 000 0000000 0000000 00000000 0 000 0000 00000 000 000 010 000000 0000 0000 0 00000 000 00000.000 000 00000000 00000 000000 0000000 00 000000 00000, 000000-00 0000000, 0000 000000, 00-00 0000000, 000 000000000 0000000 00000. 000 000 00000 000 000 0000000000 00000 000 000 00000000 0000 00 000 00000.\n"
     ]
    }
   ],
   "source": [
    "print(re.sub(r\"[a-z]\",\"0\", sentence, flags = re.I))"
   ]
  },
  {
   "cell_type": "code",
   "execution_count": 45,
   "metadata": {},
   "outputs": [
    {
     "name": "stdout",
     "output_type": "stream",
     "text": [
      "0amsung rolled out a beta update for the samsung Galaxy S10 a couple of days to iron out bugs related to Bluetooth tethering, volume control bar, and status bar. Today, the Samsung company released a new beta build for the S10 lineup with over a dozen bug fixes.The new firmware fixes issues related to device reset, always-on display, file moving, Wi-Fi hanging, and Bluetooth headset noise. You can check out the screenshot below for the complete list of bug fixes.\n"
     ]
    }
   ],
   "source": [
    "print(re.sub(r\"[a-z]\",\"0\", sentence,1, flags = re.I)) ### First Pattern"
   ]
  },
  {
   "cell_type": "code",
   "execution_count": 46,
   "metadata": {},
   "outputs": [
    {
     "name": "stdout",
     "output_type": "stream",
     "text": [
      "0000000 000led out a beta update for the samsung Galaxy S10 a couple of days to iron out bugs related to Bluetooth tethering, volume control bar, and status bar. Today, the Samsung company released a new beta build for the S10 lineup with over a dozen bug fixes.The new firmware fixes issues related to device reset, always-on display, file moving, Wi-Fi hanging, and Bluetooth headset noise. You can check out the screenshot below for the complete list of bug fixes.\n"
     ]
    }
   ],
   "source": [
    "print(re.sub(r\"[a-z]\",\"0\", sentence,10, flags = re.I)) ### First ten Pattern"
   ]
  },
  {
   "cell_type": "code",
   "execution_count": 47,
   "metadata": {},
   "outputs": [],
   "source": [
    "sentence1 = \"Samsung 2019 rolled out a beta update for the ^%#^^^samsung Galaxy SSSS10 a couple of days s to iron out bugs related to Bluetooth tethering, volume control bar, and status bar. Today, the Samsung company released a new beta build for the S10 lineup with over a dozen bug fixes.The new firmware fixes issues related to device reset, always-on display, file moving, Wi-Fi hanging, and &^$#%&^$@ . ^^^ . $$#$#$# . @$$@Bluetooth headset noise. You can check out  *%&# *#&%^ the $^#^%#@screenshot z below for the complete list of bug fixes.\""
   ]
  },
  {
   "cell_type": "code",
   "execution_count": 48,
   "metadata": {},
   "outputs": [
    {
     "data": {
      "text/plain": [
       "'Samsung 2019 rolled out a beta update for the ^%#^^^samsung Galaxy SSSS10 a couple of days s to iron out bugs related to Bluetooth tethering, volume control bar, and status bar. Today, the Samsung company released a new beta build for the S10 lineup with over a dozen bug fixes.The new firmware fixes issues related to device reset, always-on display, file moving, Wi-Fi hanging, and &^$#%&^$@ . ^^^ . $$#$#$# . @$$@Bluetooth headset noise. You can check out  *%&# *#&%^ the $^#^%#@screenshot z below for the complete list of bug fixes.'"
      ]
     },
     "execution_count": 48,
     "metadata": {},
     "output_type": "execute_result"
    }
   ],
   "source": [
    "sentence1"
   ]
  },
  {
   "cell_type": "code",
   "execution_count": 49,
   "metadata": {},
   "outputs": [],
   "source": [
    "modified_sentences_1 = re.sub(r\"\\d\",\"\", sentence1)"
   ]
  },
  {
   "cell_type": "code",
   "execution_count": 50,
   "metadata": {},
   "outputs": [
    {
     "data": {
      "text/plain": [
       "'Samsung  rolled out a beta update for the ^%#^^^samsung Galaxy SSSS a couple of days s to iron out bugs related to Bluetooth tethering, volume control bar, and status bar. Today, the Samsung company released a new beta build for the S lineup with over a dozen bug fixes.The new firmware fixes issues related to device reset, always-on display, file moving, Wi-Fi hanging, and &^$#%&^$@ . ^^^ . $$#$#$# . @$$@Bluetooth headset noise. You can check out  *%&# *#&%^ the $^#^%#@screenshot z below for the complete list of bug fixes.'"
      ]
     },
     "execution_count": 50,
     "metadata": {},
     "output_type": "execute_result"
    }
   ],
   "source": [
    "modified_sentences_1"
   ]
  },
  {
   "cell_type": "code",
   "execution_count": 51,
   "metadata": {},
   "outputs": [],
   "source": [
    "modified_sentences_2 = re.sub(r\"[!@#$%^&*.]\",\"\", sentence1)"
   ]
  },
  {
   "cell_type": "code",
   "execution_count": 52,
   "metadata": {},
   "outputs": [
    {
     "data": {
      "text/plain": [
       "'Samsung 2019 rolled out a beta update for the samsung Galaxy SSSS10 a couple of days s to iron out bugs related to Bluetooth tethering, volume control bar, and status bar Today, the Samsung company released a new beta build for the S10 lineup with over a dozen bug fixesThe new firmware fixes issues related to device reset, always-on display, file moving, Wi-Fi hanging, and       Bluetooth headset noise You can check out    the screenshot z below for the complete list of bug fixes'"
      ]
     },
     "execution_count": 52,
     "metadata": {},
     "output_type": "execute_result"
    }
   ],
   "source": [
    "modified_sentences_2"
   ]
  },
  {
   "cell_type": "code",
   "execution_count": 53,
   "metadata": {},
   "outputs": [],
   "source": [
    "modified_sentences_3 = re.sub(r\"[/d!@#$%^&*.]\",\"\", sentence1)"
   ]
  },
  {
   "cell_type": "code",
   "execution_count": 54,
   "metadata": {},
   "outputs": [
    {
     "data": {
      "text/plain": [
       "'Samsung 2019 rolle out a beta upate for the samsung Galaxy SSSS10 a couple of ays s to iron out bugs relate to Bluetooth tethering, volume control bar, an status bar Toay, the Samsung company release a new beta buil for the S10 lineup with over a ozen bug fixesThe new firmware fixes issues relate to evice reset, always-on isplay, file moving, Wi-Fi hanging, an       Bluetooth heaset noise You can check out    the screenshot z below for the complete list of bug fixes'"
      ]
     },
     "execution_count": 54,
     "metadata": {},
     "output_type": "execute_result"
    }
   ],
   "source": [
    "modified_sentences_3"
   ]
  },
  {
   "cell_type": "code",
   "execution_count": 55,
   "metadata": {},
   "outputs": [
    {
     "data": {
      "text/plain": [
       "'Samsung 2019 rolled out a beta update for the ^%#^^^samsung Galaxy SSSS10 a couple of days s to iron out bugs related to Bluetooth tethering, volume control bar, and status bar. Today, the Samsung company released a new beta build for the S10 lineup with over a dozen bug fixes.The new firmware fixes issues related to device reset, always-on display, file moving, Wi-Fi hanging, and &^$#%&^$@ . ^^^ . $$#$#$# . @$$@Bluetooth headset noise. You can check out  *%&# *#&%^ the $^#^%#@screenshot z below for the complete list of bug fixes.'"
      ]
     },
     "execution_count": 55,
     "metadata": {},
     "output_type": "execute_result"
    }
   ],
   "source": [
    "sentence1"
   ]
  },
  {
   "cell_type": "code",
   "execution_count": 56,
   "metadata": {},
   "outputs": [],
   "source": [
    "modified_sentences_3 = re.sub(r\"\\W\",\" \", sentence1)"
   ]
  },
  {
   "cell_type": "code",
   "execution_count": 57,
   "metadata": {
    "scrolled": true
   },
   "outputs": [
    {
     "data": {
      "text/plain": [
       "'Samsung 2019 rolled out a beta update for the       samsung Galaxy SSSS10 a couple of days s to iron out bugs related to Bluetooth tethering  volume control bar  and status bar  Today  the Samsung company released a new beta build for the S10 lineup with over a dozen bug fixes The new firmware fixes issues related to device reset  always on display  file moving  Wi Fi hanging  and                                 Bluetooth headset noise  You can check out             the        screenshot z below for the complete list of bug fixes '"
      ]
     },
     "execution_count": 57,
     "metadata": {},
     "output_type": "execute_result"
    }
   ],
   "source": [
    "modified_sentences_3"
   ]
  },
  {
   "cell_type": "code",
   "execution_count": 58,
   "metadata": {},
   "outputs": [],
   "source": [
    "modified_sentences_4 = re.sub(r\"\\w\",\" \", sentence1)"
   ]
  },
  {
   "cell_type": "code",
   "execution_count": 59,
   "metadata": {},
   "outputs": [
    {
     "data": {
      "text/plain": [
       "'                                              ^%#^^^                                                                                        ,                   ,               .      ,                                                                                             .                                                     ,       -          ,            ,   -          ,     &^$#%&^$@ . ^^^ . $$#$#$# . @$$@                       .                    *%&# *#&%^     $^#^%#@                                                     .'"
      ]
     },
     "execution_count": 59,
     "metadata": {},
     "output_type": "execute_result"
    }
   ],
   "source": [
    "modified_sentences_4"
   ]
  },
  {
   "cell_type": "code",
   "execution_count": 60,
   "metadata": {},
   "outputs": [],
   "source": [
    "modified_sentences_5 = re.sub(r\"\\s+\",\" \", modified_sentences_3)"
   ]
  },
  {
   "cell_type": "code",
   "execution_count": 61,
   "metadata": {},
   "outputs": [
    {
     "data": {
      "text/plain": [
       "'Samsung 2019 rolled out a beta update for the samsung Galaxy SSSS10 a couple of days s to iron out bugs related to Bluetooth tethering volume control bar and status bar Today the Samsung company released a new beta build for the S10 lineup with over a dozen bug fixes The new firmware fixes issues related to device reset always on display file moving Wi Fi hanging and Bluetooth headset noise You can check out the screenshot z below for the complete list of bug fixes '"
      ]
     },
     "execution_count": 61,
     "metadata": {},
     "output_type": "execute_result"
    }
   ],
   "source": [
    "modified_sentences_5"
   ]
  },
  {
   "cell_type": "code",
   "execution_count": 62,
   "metadata": {},
   "outputs": [],
   "source": [
    "modified_sentences_6 = re.sub(r\"\\s+[a-zA-Z]\\s+\",\" \", modified_sentences_5)"
   ]
  },
  {
   "cell_type": "code",
   "execution_count": 63,
   "metadata": {},
   "outputs": [
    {
     "data": {
      "text/plain": [
       "'Samsung 2019 rolled out beta update for the samsung Galaxy SSSS10 couple of days to iron out bugs related to Bluetooth tethering volume control bar and status bar Today the Samsung company released new beta build for the S10 lineup with over dozen bug fixes The new firmware fixes issues related to device reset always on display file moving Wi Fi hanging and Bluetooth headset noise You can check out the screenshot below for the complete list of bug fixes '"
      ]
     },
     "execution_count": 63,
     "metadata": {},
     "output_type": "execute_result"
    }
   ],
   "source": [
    "modified_sentences_6"
   ]
  },
  {
   "cell_type": "code",
   "execution_count": 64,
   "metadata": {},
   "outputs": [
    {
     "data": {
      "text/plain": [
       "'Samsung 2019 rolled out a beta update for the ^%#^^^samsung Galaxy SSSS10 a couple of days s to iron out bugs related to Bluetooth tethering, volume control bar, and status bar. Today, the Samsung company released a new beta build for the S10 lineup with over a dozen bug fixes.The new firmware fixes issues related to device reset, always-on display, file moving, Wi-Fi hanging, and &^$#%&^$@ . ^^^ . $$#$#$# . @$$@Bluetooth headset noise. You can check out  *%&# *#&%^ the $^#^%#@screenshot z below for the complete list of bug fixes.'"
      ]
     },
     "execution_count": 64,
     "metadata": {},
     "output_type": "execute_result"
    }
   ],
   "source": [
    "sentence1"
   ]
  },
  {
   "cell_type": "code",
   "execution_count": 65,
   "metadata": {},
   "outputs": [],
   "source": [
    "text =  'Excccept'"
   ]
  },
  {
   "cell_type": "code",
   "execution_count": 66,
   "metadata": {},
   "outputs": [],
   "source": [
    "modified_sentences_7 = re.sub(r\"[c]{2}\",\"\", text)"
   ]
  },
  {
   "cell_type": "code",
   "execution_count": 67,
   "metadata": {},
   "outputs": [
    {
     "data": {
      "text/plain": [
       "'Except'"
      ]
     },
     "execution_count": 67,
     "metadata": {},
     "output_type": "execute_result"
    }
   ],
   "source": [
    "modified_sentences_7"
   ]
  },
  {
   "cell_type": "markdown",
   "metadata": {},
   "source": [
    "## Web scraping Basic"
   ]
  },
  {
   "cell_type": "code",
   "execution_count": 68,
   "metadata": {},
   "outputs": [
    {
     "data": {
      "text/plain": [
       "b\"The following are the graphical (non-control) characters defined by\\nISO 8859-1 (1987).  Descriptions in words aren't all that helpful,\\nbut they're the best we can do in text.  A graphics file illustrating\\nthe character set should be available from the same archive as this\\nfile.\\n\\nHex Description                 Hex Description\\n\\n20  SPACE\\n21  EXCLAMATION MARK            A1  INVERTED EXCLAMATION MARK\\n22  QUOTATION MARK              A2  CENT SIGN\\n23  NUMBER SIGN                 A3  POUND SIGN\\n24  DOLLAR SIGN                 A4  CURRENCY SIGN\\n25  PERCENT SIGN                A5  YEN SIGN\\n26  AMPERSAND                   A6  BROKEN BAR\\n27  APOSTROPHE                  A7  SECTION SIGN\\n28  LEFT PARENTHESIS            A8  DIAERESIS\\n29  RIGHT PARENTHESIS           A9  COPYRIGHT SIGN\\n2A  ASTERISK                    AA  FEMININE ORDINAL INDICATOR\\n2B  PLUS SIGN                   AB  LEFT-POINTING DOUBLE ANGLE QUOTATION MARK\\n2C  COMMA                       AC  NOT SIGN\\n2D  HYPHEN-MINUS                AD  SOFT HYPHEN\\n2E  FULL STOP                   AE  REGISTERED SIGN\\n2F  SOLIDUS                     AF  OVERLINE\\n30  DIGIT ZERO                  B0  DEGREE SIGN\\n31  DIGIT ONE                   B1  PLUS-MINUS SIGN\\n32  DIGIT TWO                   B2  SUPERSCRIPT TWO\\n33  DIGIT THREE                 B3  SUPERSCRIPT THREE\\n34  DIGIT FOUR                  B4  ACUTE ACCENT\\n35  DIGIT FIVE                  B5  MICRO SIGN\\n36  DIGIT SIX                   B6  PILCROW SIGN\\n37  DIGIT SEVEN                 B7  MIDDLE DOT\\n38  DIGIT EIGHT                 B8  CEDILLA\\n39  DIGIT NINE                  B9  SUPERSCRIPT ONE\\n3A  COLON                       BA  MASCULINE ORDINAL INDICATOR\\n3B  SEMICOLON                   BB  RIGHT-POINTING DOUBLE ANGLE QUOTATION MARK\\n3C  LESS-THAN SIGN              BC  VULGAR FRACTION ONE QUARTER\\n3D  EQUALS SIGN                 BD  VULGAR FRACTION ONE HALF\\n3E  GREATER-THAN SIGN           BE  VULGAR FRACTION THREE QUARTERS\\n3F  QUESTION MARK               BF  INVERTED QUESTION MARK\\n40  COMMERCIAL AT               C0  CAPITAL LETTER A WITH GRAVE\\n41  CAPITAL LETTER A            C1  CAPITAL LETTER A WITH ACUTE\\n42  CAPITAL LETTER B            C2  CAPITAL LETTER A WITH CIRCUMFLEX\\n43  CAPITAL LETTER C            C3  CAPITAL LETTER A WITH TILDE\\n44  CAPITAL LETTER D            C4  CAPITAL LETTER A WITH DIAERESIS\\n45  CAPITAL LETTER E            C5  CAPITAL LETTER A WITH RING ABOVE\\n46  CAPITAL LETTER F            C6  CAPITAL LETTER AE\\n47  CAPITAL LETTER G            C7  CAPITAL LETTER C WITH CEDILLA\\n48  CAPITAL LETTER H            C8  CAPITAL LETTER E WITH GRAVE\\n49  CAPITAL LETTER I            C9  CAPITAL LETTER E WITH ACUTE\\n4A  CAPITAL LETTER J            CA  CAPITAL LETTER E WITH CIRCUMFLEX\\n4B  CAPITAL LETTER K            CB  CAPITAL LETTER E WITH DIAERESIS\\n4C  CAPITAL LETTER L            CC  CAPITAL LETTER I WITH GRAVE\\n4D  CAPITAL LETTER M            CD  CAPITAL LETTER I WITH ACUTE\\n4E  CAPITAL LETTER N            CE  CAPITAL LETTER I WITH CIRCUMFLEX\\n4F  CAPITAL LETTER O            CF  CAPITAL LETTER I WITH DIAERESIS\\n50  CAPITAL LETTER P            D0  CAPITAL LETTER ETH (Icelandic)\\n51  CAPITAL LETTER Q            D1  CAPITAL LETTER N WITH TILDE\\n52  CAPITAL LETTER R            D2  CAPITAL LETTER O WITH GRAVE\\n53  CAPITAL LETTER S            D3  CAPITAL LETTER O WITH ACUTE\\n54  CAPITAL LETTER T            D4  CAPITAL LETTER O WITH CIRCUMFLEX\\n55  CAPITAL LETTER U            D5  CAPITAL LETTER O WITH TILDE\\n56  CAPITAL LETTER V            D6  CAPITAL LETTER O WITH DIAERESIS\\n57  CAPITAL LETTER W            D7  MULTIPLICATION SIGN\\n58  CAPITAL LETTER X            D8  CAPITAL LETTER O WITH STROKE\\n59  CAPITAL LETTER Y            D9  CAPITAL LETTER U WITH GRAVE\\n5A  CAPITAL LETTER Z            DA  CAPITAL LETTER U WITH ACUTE\\n5B  LEFT SQUARE BRACKET         DB  CAPITAL LETTER U WITH CIRCUMFLEX\\n5C  REVERSE SOLIDUS             DC  CAPITAL LETTER U WITH DIAERESIS\\n5D  RIGHT SQUARE BRACKET        DD  CAPITAL LETTER Y WITH ACUTE\\n5E  CIRCUMFLEX ACCENT           DE  CAPITAL LETTER THORN (Icelandic)\\n5F  LOW LINE                    DF  SMALL LETTER SHARP S (German)\\n60  GRAVE ACCENT                E0  SMALL LETTER A WITH GRAVE\\n61  SMALL LETTER A              E1  SMALL LETTER A WITH ACUTE\\n62  SMALL LETTER B              E2  SMALL LETTER A WITH CIRCUMFLEX\\n63  SMALL LETTER C              E3  SMALL LETTER A WITH TILDE\\n64  SMALL LETTER D              E4  SMALL LETTER A WITH DIAERESIS\\n65  SMALL LETTER E              E5  SMALL LETTER A WITH RING ABOVE\\n66  SMALL LETTER F              E6  SMALL LETTER AE\\n67  SMALL LETTER G              E7  SMALL LETTER C WITH CEDILLA\\n68  SMALL LETTER H              E8  SMALL LETTER E WITH GRAVE\\n69  SMALL LETTER I              E9  SMALL LETTER E WITH ACUTE\\n6A  SMALL LETTER J              EA  SMALL LETTER E WITH CIRCUMFLEX\\n6B  SMALL LETTER K              EB  SMALL LETTER E WITH DIAERESIS\\n6C  SMALL LETTER L              EC  SMALL LETTER I WITH GRAVE\\n6D  SMALL LETTER M              ED  SMALL LETTER I WITH ACUTE\\n6E  SMALL LETTER N              EE  SMALL LETTER I WITH CIRCUMFLEX\\n6F  SMALL LETTER O              EF  SMALL LETTER I WITH DIAERESIS\\n70  SMALL LETTER P              F0  SMALL LETTER ETH (Icelandic)\\n71  SMALL LETTER Q              F1  SMALL LETTER N WITH TILDE\\n72  SMALL LETTER R              F2  SMALL LETTER O WITH GRAVE\\n73  SMALL LETTER S              F3  SMALL LETTER O WITH ACUTE\\n74  SMALL LETTER T              F4  SMALL LETTER O WITH CIRCUMFLEX\\n75  SMALL LETTER U              F5  SMALL LETTER O WITH TILDE\\n76  SMALL LETTER V              F6  SMALL LETTER O WITH DIAERESIS\\n77  SMALL LETTER W              F7  DIVISION SIGN\\n78  SMALL LETTER X              F8  SMALL LETTER O WITH STROKE\\n79  SMALL LETTER Y              F9  SMALL LETTER U WITH GRAVE\\n7A  SMALL LETTER Z              FA  SMALL LETTER U WITH ACUTE\\n7B  LEFT CURLY BRACKET          FB  SMALL LETTER U WITH CIRCUMFLEX\\n7C  VERTICAL LINE               FC  SMALL LETTER U WITH DIAERESIS\\n7D  RIGHT CURLY BRACKET         FD  SMALL LETTER Y WITH ACUTE\\n7E  TILDE                       FE  SMALL LETTER THORN (Icelandic)\\n                                FF  SMALL LETTER Y WITH DIAERESIS\\n\""
      ]
     },
     "execution_count": 68,
     "metadata": {},
     "output_type": "execute_result"
    }
   ],
   "source": [
    "# importing libraries \n",
    "import nltk \n",
    "from bs4 import BeautifulSoup \n",
    "from urllib.request import urlopen \n",
    "\n",
    "# extract all the contents of the text file. \n",
    "raw = urlopen(\"https://www.w3.org/TR/PNG/iso_8859-1.txt\").read() \n",
    "raw"
   ]
  },
  {
   "cell_type": "code",
   "execution_count": 69,
   "metadata": {},
   "outputs": [
    {
     "data": {
      "text/plain": [
       "<html><body><p>The following are the graphical (non-control) characters defined by\n",
       "ISO 8859-1 (1987).  Descriptions in words aren't all that helpful,\n",
       "but they're the best we can do in text.  A graphics file illustrating\n",
       "the character set should be available from the same archive as this\n",
       "file.\n",
       "\n",
       "Hex Description                 Hex Description\n",
       "\n",
       "20  SPACE\n",
       "21  EXCLAMATION MARK            A1  INVERTED EXCLAMATION MARK\n",
       "22  QUOTATION MARK              A2  CENT SIGN\n",
       "23  NUMBER SIGN                 A3  POUND SIGN\n",
       "24  DOLLAR SIGN                 A4  CURRENCY SIGN\n",
       "25  PERCENT SIGN                A5  YEN SIGN\n",
       "26  AMPERSAND                   A6  BROKEN BAR\n",
       "27  APOSTROPHE                  A7  SECTION SIGN\n",
       "28  LEFT PARENTHESIS            A8  DIAERESIS\n",
       "29  RIGHT PARENTHESIS           A9  COPYRIGHT SIGN\n",
       "2A  ASTERISK                    AA  FEMININE ORDINAL INDICATOR\n",
       "2B  PLUS SIGN                   AB  LEFT-POINTING DOUBLE ANGLE QUOTATION MARK\n",
       "2C  COMMA                       AC  NOT SIGN\n",
       "2D  HYPHEN-MINUS                AD  SOFT HYPHEN\n",
       "2E  FULL STOP                   AE  REGISTERED SIGN\n",
       "2F  SOLIDUS                     AF  OVERLINE\n",
       "30  DIGIT ZERO                  B0  DEGREE SIGN\n",
       "31  DIGIT ONE                   B1  PLUS-MINUS SIGN\n",
       "32  DIGIT TWO                   B2  SUPERSCRIPT TWO\n",
       "33  DIGIT THREE                 B3  SUPERSCRIPT THREE\n",
       "34  DIGIT FOUR                  B4  ACUTE ACCENT\n",
       "35  DIGIT FIVE                  B5  MICRO SIGN\n",
       "36  DIGIT SIX                   B6  PILCROW SIGN\n",
       "37  DIGIT SEVEN                 B7  MIDDLE DOT\n",
       "38  DIGIT EIGHT                 B8  CEDILLA\n",
       "39  DIGIT NINE                  B9  SUPERSCRIPT ONE\n",
       "3A  COLON                       BA  MASCULINE ORDINAL INDICATOR\n",
       "3B  SEMICOLON                   BB  RIGHT-POINTING DOUBLE ANGLE QUOTATION MARK\n",
       "3C  LESS-THAN SIGN              BC  VULGAR FRACTION ONE QUARTER\n",
       "3D  EQUALS SIGN                 BD  VULGAR FRACTION ONE HALF\n",
       "3E  GREATER-THAN SIGN           BE  VULGAR FRACTION THREE QUARTERS\n",
       "3F  QUESTION MARK               BF  INVERTED QUESTION MARK\n",
       "40  COMMERCIAL AT               C0  CAPITAL LETTER A WITH GRAVE\n",
       "41  CAPITAL LETTER A            C1  CAPITAL LETTER A WITH ACUTE\n",
       "42  CAPITAL LETTER B            C2  CAPITAL LETTER A WITH CIRCUMFLEX\n",
       "43  CAPITAL LETTER C            C3  CAPITAL LETTER A WITH TILDE\n",
       "44  CAPITAL LETTER D            C4  CAPITAL LETTER A WITH DIAERESIS\n",
       "45  CAPITAL LETTER E            C5  CAPITAL LETTER A WITH RING ABOVE\n",
       "46  CAPITAL LETTER F            C6  CAPITAL LETTER AE\n",
       "47  CAPITAL LETTER G            C7  CAPITAL LETTER C WITH CEDILLA\n",
       "48  CAPITAL LETTER H            C8  CAPITAL LETTER E WITH GRAVE\n",
       "49  CAPITAL LETTER I            C9  CAPITAL LETTER E WITH ACUTE\n",
       "4A  CAPITAL LETTER J            CA  CAPITAL LETTER E WITH CIRCUMFLEX\n",
       "4B  CAPITAL LETTER K            CB  CAPITAL LETTER E WITH DIAERESIS\n",
       "4C  CAPITAL LETTER L            CC  CAPITAL LETTER I WITH GRAVE\n",
       "4D  CAPITAL LETTER M            CD  CAPITAL LETTER I WITH ACUTE\n",
       "4E  CAPITAL LETTER N            CE  CAPITAL LETTER I WITH CIRCUMFLEX\n",
       "4F  CAPITAL LETTER O            CF  CAPITAL LETTER I WITH DIAERESIS\n",
       "50  CAPITAL LETTER P            D0  CAPITAL LETTER ETH (Icelandic)\n",
       "51  CAPITAL LETTER Q            D1  CAPITAL LETTER N WITH TILDE\n",
       "52  CAPITAL LETTER R            D2  CAPITAL LETTER O WITH GRAVE\n",
       "53  CAPITAL LETTER S            D3  CAPITAL LETTER O WITH ACUTE\n",
       "54  CAPITAL LETTER T            D4  CAPITAL LETTER O WITH CIRCUMFLEX\n",
       "55  CAPITAL LETTER U            D5  CAPITAL LETTER O WITH TILDE\n",
       "56  CAPITAL LETTER V            D6  CAPITAL LETTER O WITH DIAERESIS\n",
       "57  CAPITAL LETTER W            D7  MULTIPLICATION SIGN\n",
       "58  CAPITAL LETTER X            D8  CAPITAL LETTER O WITH STROKE\n",
       "59  CAPITAL LETTER Y            D9  CAPITAL LETTER U WITH GRAVE\n",
       "5A  CAPITAL LETTER Z            DA  CAPITAL LETTER U WITH ACUTE\n",
       "5B  LEFT SQUARE BRACKET         DB  CAPITAL LETTER U WITH CIRCUMFLEX\n",
       "5C  REVERSE SOLIDUS             DC  CAPITAL LETTER U WITH DIAERESIS\n",
       "5D  RIGHT SQUARE BRACKET        DD  CAPITAL LETTER Y WITH ACUTE\n",
       "5E  CIRCUMFLEX ACCENT           DE  CAPITAL LETTER THORN (Icelandic)\n",
       "5F  LOW LINE                    DF  SMALL LETTER SHARP S (German)\n",
       "60  GRAVE ACCENT                E0  SMALL LETTER A WITH GRAVE\n",
       "61  SMALL LETTER A              E1  SMALL LETTER A WITH ACUTE\n",
       "62  SMALL LETTER B              E2  SMALL LETTER A WITH CIRCUMFLEX\n",
       "63  SMALL LETTER C              E3  SMALL LETTER A WITH TILDE\n",
       "64  SMALL LETTER D              E4  SMALL LETTER A WITH DIAERESIS\n",
       "65  SMALL LETTER E              E5  SMALL LETTER A WITH RING ABOVE\n",
       "66  SMALL LETTER F              E6  SMALL LETTER AE\n",
       "67  SMALL LETTER G              E7  SMALL LETTER C WITH CEDILLA\n",
       "68  SMALL LETTER H              E8  SMALL LETTER E WITH GRAVE\n",
       "69  SMALL LETTER I              E9  SMALL LETTER E WITH ACUTE\n",
       "6A  SMALL LETTER J              EA  SMALL LETTER E WITH CIRCUMFLEX\n",
       "6B  SMALL LETTER K              EB  SMALL LETTER E WITH DIAERESIS\n",
       "6C  SMALL LETTER L              EC  SMALL LETTER I WITH GRAVE\n",
       "6D  SMALL LETTER M              ED  SMALL LETTER I WITH ACUTE\n",
       "6E  SMALL LETTER N              EE  SMALL LETTER I WITH CIRCUMFLEX\n",
       "6F  SMALL LETTER O              EF  SMALL LETTER I WITH DIAERESIS\n",
       "70  SMALL LETTER P              F0  SMALL LETTER ETH (Icelandic)\n",
       "71  SMALL LETTER Q              F1  SMALL LETTER N WITH TILDE\n",
       "72  SMALL LETTER R              F2  SMALL LETTER O WITH GRAVE\n",
       "73  SMALL LETTER S              F3  SMALL LETTER O WITH ACUTE\n",
       "74  SMALL LETTER T              F4  SMALL LETTER O WITH CIRCUMFLEX\n",
       "75  SMALL LETTER U              F5  SMALL LETTER O WITH TILDE\n",
       "76  SMALL LETTER V              F6  SMALL LETTER O WITH DIAERESIS\n",
       "77  SMALL LETTER W              F7  DIVISION SIGN\n",
       "78  SMALL LETTER X              F8  SMALL LETTER O WITH STROKE\n",
       "79  SMALL LETTER Y              F9  SMALL LETTER U WITH GRAVE\n",
       "7A  SMALL LETTER Z              FA  SMALL LETTER U WITH ACUTE\n",
       "7B  LEFT CURLY BRACKET          FB  SMALL LETTER U WITH CIRCUMFLEX\n",
       "7C  VERTICAL LINE               FC  SMALL LETTER U WITH DIAERESIS\n",
       "7D  RIGHT CURLY BRACKET         FD  SMALL LETTER Y WITH ACUTE\n",
       "7E  TILDE                       FE  SMALL LETTER THORN (Icelandic)\n",
       "                                FF  SMALL LETTER Y WITH DIAERESIS\n",
       "</p></body></html>"
      ]
     },
     "execution_count": 69,
     "metadata": {},
     "output_type": "execute_result"
    }
   ],
   "source": [
    "# remove any html/xml tags \n",
    "raw1 = BeautifulSoup(raw)\n",
    "raw1"
   ]
  },
  {
   "cell_type": "code",
   "execution_count": 70,
   "metadata": {},
   "outputs": [
    {
     "data": {
      "text/plain": [
       "\"The following are the graphical (non-control) characters defined by\\nISO 8859-1 (1987).  Descriptions in words aren't all that helpful,\\nbut they're the best we can do in text.  A graphics file illustrating\\nthe character set should be available from the same archive as this\\nfile.\\n\\nHex Description                 Hex Description\\n\\n20  SPACE\\n21  EXCLAMATION MARK            A1  INVERTED EXCLAMATION MARK\\n22  QUOTATION MARK              A2  CENT SIGN\\n23  NUMBER SIGN                 A3  POUND SIGN\\n24  DOLLAR SIGN                 A4  CURRENCY SIGN\\n25  PERCENT SIGN                A5  YEN SIGN\\n26  AMPERSAND                   A6  BROKEN BAR\\n27  APOSTROPHE                  A7  SECTION SIGN\\n28  LEFT PARENTHESIS            A8  DIAERESIS\\n29  RIGHT PARENTHESIS           A9  COPYRIGHT SIGN\\n2A  ASTERISK                    AA  FEMININE ORDINAL INDICATOR\\n2B  PLUS SIGN                   AB  LEFT-POINTING DOUBLE ANGLE QUOTATION MARK\\n2C  COMMA                       AC  NOT SIGN\\n2D  HYPHEN-MINUS                AD  SOFT HYPHEN\\n2E  FULL STOP                   AE  REGISTERED SIGN\\n2F  SOLIDUS                     AF  OVERLINE\\n30  DIGIT ZERO                  B0  DEGREE SIGN\\n31  DIGIT ONE                   B1  PLUS-MINUS SIGN\\n32  DIGIT TWO                   B2  SUPERSCRIPT TWO\\n33  DIGIT THREE                 B3  SUPERSCRIPT THREE\\n34  DIGIT FOUR                  B4  ACUTE ACCENT\\n35  DIGIT FIVE                  B5  MICRO SIGN\\n36  DIGIT SIX                   B6  PILCROW SIGN\\n37  DIGIT SEVEN                 B7  MIDDLE DOT\\n38  DIGIT EIGHT                 B8  CEDILLA\\n39  DIGIT NINE                  B9  SUPERSCRIPT ONE\\n3A  COLON                       BA  MASCULINE ORDINAL INDICATOR\\n3B  SEMICOLON                   BB  RIGHT-POINTING DOUBLE ANGLE QUOTATION MARK\\n3C  LESS-THAN SIGN              BC  VULGAR FRACTION ONE QUARTER\\n3D  EQUALS SIGN                 BD  VULGAR FRACTION ONE HALF\\n3E  GREATER-THAN SIGN           BE  VULGAR FRACTION THREE QUARTERS\\n3F  QUESTION MARK               BF  INVERTED QUESTION MARK\\n40  COMMERCIAL AT               C0  CAPITAL LETTER A WITH GRAVE\\n41  CAPITAL LETTER A            C1  CAPITAL LETTER A WITH ACUTE\\n42  CAPITAL LETTER B            C2  CAPITAL LETTER A WITH CIRCUMFLEX\\n43  CAPITAL LETTER C            C3  CAPITAL LETTER A WITH TILDE\\n44  CAPITAL LETTER D            C4  CAPITAL LETTER A WITH DIAERESIS\\n45  CAPITAL LETTER E            C5  CAPITAL LETTER A WITH RING ABOVE\\n46  CAPITAL LETTER F            C6  CAPITAL LETTER AE\\n47  CAPITAL LETTER G            C7  CAPITAL LETTER C WITH CEDILLA\\n48  CAPITAL LETTER H            C8  CAPITAL LETTER E WITH GRAVE\\n49  CAPITAL LETTER I            C9  CAPITAL LETTER E WITH ACUTE\\n4A  CAPITAL LETTER J            CA  CAPITAL LETTER E WITH CIRCUMFLEX\\n4B  CAPITAL LETTER K            CB  CAPITAL LETTER E WITH DIAERESIS\\n4C  CAPITAL LETTER L            CC  CAPITAL LETTER I WITH GRAVE\\n4D  CAPITAL LETTER M            CD  CAPITAL LETTER I WITH ACUTE\\n4E  CAPITAL LETTER N            CE  CAPITAL LETTER I WITH CIRCUMFLEX\\n4F  CAPITAL LETTER O            CF  CAPITAL LETTER I WITH DIAERESIS\\n50  CAPITAL LETTER P            D0  CAPITAL LETTER ETH (Icelandic)\\n51  CAPITAL LETTER Q            D1  CAPITAL LETTER N WITH TILDE\\n52  CAPITAL LETTER R            D2  CAPITAL LETTER O WITH GRAVE\\n53  CAPITAL LETTER S            D3  CAPITAL LETTER O WITH ACUTE\\n54  CAPITAL LETTER T            D4  CAPITAL LETTER O WITH CIRCUMFLEX\\n55  CAPITAL LETTER U            D5  CAPITAL LETTER O WITH TILDE\\n56  CAPITAL LETTER V            D6  CAPITAL LETTER O WITH DIAERESIS\\n57  CAPITAL LETTER W            D7  MULTIPLICATION SIGN\\n58  CAPITAL LETTER X            D8  CAPITAL LETTER O WITH STROKE\\n59  CAPITAL LETTER Y            D9  CAPITAL LETTER U WITH GRAVE\\n5A  CAPITAL LETTER Z            DA  CAPITAL LETTER U WITH ACUTE\\n5B  LEFT SQUARE BRACKET         DB  CAPITAL LETTER U WITH CIRCUMFLEX\\n5C  REVERSE SOLIDUS             DC  CAPITAL LETTER U WITH DIAERESIS\\n5D  RIGHT SQUARE BRACKET        DD  CAPITAL LETTER Y WITH ACUTE\\n5E  CIRCUMFLEX ACCENT           DE  CAPITAL LETTER THORN (Icelandic)\\n5F  LOW LINE                    DF  SMALL LETTER SHARP S (German)\\n60  GRAVE ACCENT                E0  SMALL LETTER A WITH GRAVE\\n61  SMALL LETTER A              E1  SMALL LETTER A WITH ACUTE\\n62  SMALL LETTER B              E2  SMALL LETTER A WITH CIRCUMFLEX\\n63  SMALL LETTER C              E3  SMALL LETTER A WITH TILDE\\n64  SMALL LETTER D              E4  SMALL LETTER A WITH DIAERESIS\\n65  SMALL LETTER E              E5  SMALL LETTER A WITH RING ABOVE\\n66  SMALL LETTER F              E6  SMALL LETTER AE\\n67  SMALL LETTER G              E7  SMALL LETTER C WITH CEDILLA\\n68  SMALL LETTER H              E8  SMALL LETTER E WITH GRAVE\\n69  SMALL LETTER I              E9  SMALL LETTER E WITH ACUTE\\n6A  SMALL LETTER J              EA  SMALL LETTER E WITH CIRCUMFLEX\\n6B  SMALL LETTER K              EB  SMALL LETTER E WITH DIAERESIS\\n6C  SMALL LETTER L              EC  SMALL LETTER I WITH GRAVE\\n6D  SMALL LETTER M              ED  SMALL LETTER I WITH ACUTE\\n6E  SMALL LETTER N              EE  SMALL LETTER I WITH CIRCUMFLEX\\n6F  SMALL LETTER O              EF  SMALL LETTER I WITH DIAERESIS\\n70  SMALL LETTER P              F0  SMALL LETTER ETH (Icelandic)\\n71  SMALL LETTER Q              F1  SMALL LETTER N WITH TILDE\\n72  SMALL LETTER R              F2  SMALL LETTER O WITH GRAVE\\n73  SMALL LETTER S              F3  SMALL LETTER O WITH ACUTE\\n74  SMALL LETTER T              F4  SMALL LETTER O WITH CIRCUMFLEX\\n75  SMALL LETTER U              F5  SMALL LETTER O WITH TILDE\\n76  SMALL LETTER V              F6  SMALL LETTER O WITH DIAERESIS\\n77  SMALL LETTER W              F7  DIVISION SIGN\\n78  SMALL LETTER X              F8  SMALL LETTER O WITH STROKE\\n79  SMALL LETTER Y              F9  SMALL LETTER U WITH GRAVE\\n7A  SMALL LETTER Z              FA  SMALL LETTER U WITH ACUTE\\n7B  LEFT CURLY BRACKET          FB  SMALL LETTER U WITH CIRCUMFLEX\\n7C  VERTICAL LINE               FC  SMALL LETTER U WITH DIAERESIS\\n7D  RIGHT CURLY BRACKET         FD  SMALL LETTER Y WITH ACUTE\\n7E  TILDE                       FE  SMALL LETTER THORN (Icelandic)\\n                                FF  SMALL LETTER Y WITH DIAERESIS\\n\""
      ]
     },
     "execution_count": 70,
     "metadata": {},
     "output_type": "execute_result"
    }
   ],
   "source": [
    "# obtain the text present in ‘raw’ \n",
    "raw2 = raw1.get_text() \n",
    "\n",
    "raw2"
   ]
  },
  {
   "cell_type": "code",
   "execution_count": 71,
   "metadata": {},
   "outputs": [
    {
     "data": {
      "text/plain": [
       "\"The following are the graphical ( non-control ) characters defined by ISO 8859-1 ( 1987 ) . Descriptions in words are n't all that helpful , but they 're the best we can do in text . A graphics file illustrating the character set should be available from the same archive as this file . Hex Description Hex Description 20 SPACE 21 EXCLAMATION MARK A1 INVERTED EXCLAMATION MARK 22 QUOTATION MARK A2 CENT SIGN 23 NUMBER SIGN A3 POUND SIGN 24 DOLLAR SIGN A4 CURRENCY SIGN 25 PERCENT SIGN A5 YEN SIGN 26 AMPERSAND A6 BROKEN BAR 27 APOSTROPHE A7 SECTION SIGN 28 LEFT PARENTHESIS A8 DIAERESIS 29 RIGHT PARENTHESIS A9 COPYRIGHT SIGN 2A ASTERISK AA FEMININE ORDINAL INDICATOR 2B PLUS SIGN AB LEFT-POINTING DOUBLE ANGLE QUOTATION MARK 2C COMMA AC NOT SIGN 2D HYPHEN-MINUS AD SOFT HYPHEN 2E FULL STOP AE REGISTERED SIGN 2F SOLIDUS AF OVERLINE 30 DIGIT ZERO B0 DEGREE SIGN 31 DIGIT ONE B1 PLUS-MINUS SIGN 32 DIGIT TWO B2 SUPERSCRIPT TWO 33 DIGIT THREE B3 SUPERSCRIPT THREE 34 DIGIT FOUR B4 ACUTE ACCENT 35 DIGIT FIVE B5 MICRO SIGN 36 DIGIT SIX B6 PILCROW SIGN 37 DIGIT SEVEN B7 MIDDLE DOT 38 DIGIT EIGHT B8 CEDILLA 39 DIGIT NINE B9 SUPERSCRIPT ONE 3A COLON BA MASCULINE ORDINAL INDICATOR 3B SEMICOLON BB RIGHT-POINTING DOUBLE ANGLE QUOTATION MARK 3C LESS-THAN SIGN BC VULGAR FRACTION ONE QUARTER 3D EQUALS SIGN BD VULGAR FRACTION ONE HALF 3E GREATER-THAN SIGN BE VULGAR FRACTION THREE QUARTERS 3F QUESTION MARK BF INVERTED QUESTION MARK 40 COMMERCIAL AT C0 CAPITAL LETTER A WITH GRAVE 41 CAPITAL LETTER A C1 CAPITAL LETTER A WITH ACUTE 42 CAPITAL LETTER B C2 CAPITAL LETTER A WITH CIRCUMFLEX 43 CAPITAL LETTER C C3 CAPITAL LETTER A WITH TILDE 44 CAPITAL LETTER D C4 CAPITAL LETTER A WITH DIAERESIS 45 CAPITAL LETTER E C5 CAPITAL LETTER A WITH RING ABOVE 46 CAPITAL LETTER F C6 CAPITAL LETTER AE 47 CAPITAL LETTER G C7 CAPITAL LETTER C WITH CEDILLA 48 CAPITAL LETTER H C8 CAPITAL LETTER E WITH GRAVE 49 CAPITAL LETTER I C9 CAPITAL LETTER E WITH ACUTE 4A CAPITAL LETTER J CA CAPITAL LETTER E WITH CIRCUMFLEX 4B CAPITAL LETTER K CB CAPITAL LETTER E WITH DIAERESIS 4C CAPITAL LETTER L CC CAPITAL LETTER I WITH GRAVE 4D CAPITAL LETTER M CD CAPITAL LETTER I WITH ACUTE 4E CAPITAL LETTER N CE CAPITAL LETTER I WITH CIRCUMFLEX 4F CAPITAL LETTER O CF CAPITAL LETTER I WITH DIAERESIS 50 CAPITAL LETTER P D0 CAPITAL LETTER ETH ( Icelandic ) 51 CAPITAL LETTER Q D1 CAPITAL LETTER N WITH TILDE 52 CAPITAL LETTER R D2 CAPITAL LETTER O WITH GRAVE 53 CAPITAL LETTER S D3 CAPITAL LETTER O WITH ACUTE 54 CAPITAL LETTER T D4 CAPITAL LETTER O WITH CIRCUMFLEX 55 CAPITAL LETTER U D5 CAPITAL LETTER O WITH TILDE 56 CAPITAL LETTER V D6 CAPITAL LETTER O WITH DIAERESIS 57 CAPITAL LETTER W D7 MULTIPLICATION SIGN 58 CAPITAL LETTER X D8 CAPITAL LETTER O WITH STROKE 59 CAPITAL LETTER Y D9 CAPITAL LETTER U WITH GRAVE 5A CAPITAL LETTER Z DA CAPITAL LETTER U WITH ACUTE 5B LEFT SQUARE BRACKET DB CAPITAL LETTER U WITH CIRCUMFLEX 5C REVERSE SOLIDUS DC CAPITAL LETTER U WITH DIAERESIS 5D RIGHT SQUARE BRACKET DD CAPITAL LETTER Y WITH ACUTE 5E CIRCUMFLEX ACCENT DE CAPITAL LETTER THORN ( Icelandic ) 5F LOW LINE DF SMALL LETTER SHARP S ( German ) 60 GRAVE ACCENT E0 SMALL LETTER A WITH GRAVE 61 SMALL LETTER A E1 SMALL LETTER A WITH ACUTE 62 SMALL LETTER B E2 SMALL LETTER A WITH CIRCUMFLEX 63 SMALL LETTER C E3 SMALL LETTER A WITH TILDE 64 SMALL LETTER D E4 SMALL LETTER A WITH DIAERESIS 65 SMALL LETTER E E5 SMALL LETTER A WITH RING ABOVE 66 SMALL LETTER F E6 SMALL LETTER AE 67 SMALL LETTER G E7 SMALL LETTER C WITH CEDILLA 68 SMALL LETTER H E8 SMALL LETTER E WITH GRAVE 69 SMALL LETTER I E9 SMALL LETTER E WITH ACUTE 6A SMALL LETTER J EA SMALL LETTER E WITH CIRCUMFLEX 6B SMALL LETTER K EB SMALL LETTER E WITH DIAERESIS 6C SMALL LETTER L EC SMALL LETTER I WITH GRAVE 6D SMALL LETTER M ED SMALL LETTER I WITH ACUTE 6E SMALL LETTER N EE SMALL LETTER I WITH CIRCUMFLEX 6F SMALL LETTER O EF SMALL LETTER I WITH DIAERESIS 70 SMALL LETTER P F0 SMALL LETTER ETH ( Icelandic ) 71 SMALL LETTER Q F1 SMALL LETTER N WITH TILDE 72 SMALL LETTER R F2 SMALL LETTER O WITH GRAVE 73 SMALL LETTER S F3 SMALL LETTER O WITH ACUTE 74 SMALL LETTER T F4 SMALL LETTER O WITH CIRCUMFLEX 75 SMALL LETTER U F5 SMALL LETTER O WITH TILDE 76 SMALL LETTER V F6 SMALL LETTER O WITH DIAERESIS 77 SMALL LETTER W F7 DIVISION SIGN 78 SMALL LETTER X F8 SMALL LETTER O WITH STROKE 79 SMALL LETTER Y F9 SMALL LETTER U WITH GRAVE 7A SMALL LETTER Z FA SMALL LETTER U WITH ACUTE 7B LEFT CURLY BRACKET FB SMALL LETTER U WITH CIRCUMFLEX 7C VERTICAL LINE FC SMALL LETTER U WITH DIAERESIS 7D RIGHT CURLY BRACKET FD SMALL LETTER Y WITH ACUTE 7E TILDE FE SMALL LETTER THORN ( Icelandic ) FF SMALL LETTER Y WITH DIAERESIS\""
      ]
     },
     "execution_count": 71,
     "metadata": {},
     "output_type": "execute_result"
    }
   ],
   "source": [
    "# tokenize the text into words. \n",
    "#nltk.download('punkt')\n",
    "token = nltk.word_tokenize(raw2) \n",
    "text2 = ' '.join(token) \n",
    "text2"
   ]
  },
  {
   "cell_type": "code",
   "execution_count": null,
   "metadata": {},
   "outputs": [],
   "source": []
  }
 ],
 "metadata": {
  "kernelspec": {
   "display_name": "Python 3",
   "language": "python",
   "name": "python3"
  },
  "language_info": {
   "codemirror_mode": {
    "name": "ipython",
    "version": 3
   },
   "file_extension": ".py",
   "mimetype": "text/x-python",
   "name": "python",
   "nbconvert_exporter": "python",
   "pygments_lexer": "ipython3",
   "version": "3.7.4"
  }
 },
 "nbformat": 4,
 "nbformat_minor": 2
}
