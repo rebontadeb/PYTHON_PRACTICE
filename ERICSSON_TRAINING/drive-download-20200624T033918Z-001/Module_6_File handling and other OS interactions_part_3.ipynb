{
 "cells": [
  {
   "cell_type": "markdown",
   "metadata": {},
   "source": [
    "# Pandas I - Series and DataFrame\n",
    "\n",
    "Pandas introduces two new data structures to Python, both of which are built on top of [NumPy](this means it's fast) :\n",
    "- [Series] : one-dimensional object akin to an observation/row in a dataset\n",
    "- [DataFrame] : tabular data structure akin to a database table\n"
   ]
  },
  {
   "cell_type": "code",
   "execution_count": 1,
   "metadata": {},
   "outputs": [],
   "source": [
    "import pandas as pd\n",
    "import numpy as np\n",
    "pd.set_option('max_columns', 50)"
   ]
  },
  {
   "cell_type": "markdown",
   "metadata": {},
   "source": [
    "## Summary\n",
    "\n",
    "1. [Series](#1.-Series)<br>\n",
    "    1.1 Creating<br>\n",
    "    1.2 Selecting<br>\n",
    "    1.3 Editing<br>\n",
    "    1.3 Mathematical Operations<br>\n",
    "    1.3 Missing Values\n",
    "2. [DataFrame](#2.-DataFrame)<br>\n",
    "    2.1 From Dictionnary of Lists<br>\n",
    "    2.2 From/To CSV<br>\n",
    "    2.3 From/To Excel<br>\n",
    "    2.4 From/To Database<br>\n",
    "    2.5 From Clipboard<br>\n",
    "    2.6 From URL<br>\n",
    "    2.7 From Google Analytics API\n",
    "3. [Merge](#3.-Merge)<br>\n",
    "    3.1 Inner Join (default)<br>\n",
    "    3.2 Left Outer Join<br>\n",
    "    3.3 Right Outer Join<br>\n",
    "    3.4 Full Outer Join<br>\n",
    "4. [Concatenate](#4.-Concatenate)"
   ]
  },
  {
   "cell_type": "markdown",
   "metadata": {},
   "source": [
    "## 1. Series"
   ]
  },
  {
   "cell_type": "markdown",
   "metadata": {},
   "source": [
    "A Series is a one-dimensional object similar to an array, list, or column in a table.<br>\n",
    "It will assign a labeled index to each item in the Series. By default, each item will receive an index label from 0 to N, where N is the length of the Series minus one."
   ]
  },
  {
   "cell_type": "markdown",
   "metadata": {},
   "source": [
    "### 1.1 Creating"
   ]
  },
  {
   "cell_type": "code",
   "execution_count": 2,
   "metadata": {},
   "outputs": [
    {
     "data": {
      "text/plain": [
       "0                7\n",
       "1       Heisenberg\n",
       "2             3.14\n",
       "3      -1789710578\n",
       "4    Happy Eating!\n",
       "dtype: object"
      ]
     },
     "execution_count": 2,
     "metadata": {},
     "output_type": "execute_result"
    }
   ],
   "source": [
    "# create a Series with an arbitrary list\n",
    "s = pd.Series([7, 'Heisenberg', 3.14, -1789710578, 'Happy Eating!'])\n",
    "s"
   ]
  },
  {
   "cell_type": "code",
   "execution_count": 3,
   "metadata": {},
   "outputs": [
    {
     "data": {
      "text/plain": [
       "'Happy Eating!'"
      ]
     },
     "execution_count": 3,
     "metadata": {},
     "output_type": "execute_result"
    }
   ],
   "source": [
    "s[4]"
   ]
  },
  {
   "cell_type": "markdown",
   "metadata": {},
   "source": [
    "Alternatively, you can specify an index to use when creating the Series."
   ]
  },
  {
   "cell_type": "code",
   "execution_count": 4,
   "metadata": {},
   "outputs": [
    {
     "data": {
      "text/plain": [
       "A                7\n",
       "Z       Heisenberg\n",
       "C             3.14\n",
       "Y      -1789710578\n",
       "E    Happy Eating!\n",
       "dtype: object"
      ]
     },
     "execution_count": 4,
     "metadata": {},
     "output_type": "execute_result"
    }
   ],
   "source": [
    "s = pd.Series([7, 'Heisenberg', 3.14, -1789710578, 'Happy Eating!'],\n",
    "              index=['A', 'Z', 'C', 'Y', 'E'])\n",
    "s"
   ]
  },
  {
   "cell_type": "code",
   "execution_count": 5,
   "metadata": {},
   "outputs": [
    {
     "data": {
      "text/plain": [
       "-1789710578"
      ]
     },
     "execution_count": 5,
     "metadata": {},
     "output_type": "execute_result"
    }
   ],
   "source": [
    "s['Y']"
   ]
  },
  {
   "cell_type": "code",
   "execution_count": 6,
   "metadata": {},
   "outputs": [],
   "source": [
    "?pd.Series"
   ]
  },
  {
   "cell_type": "markdown",
   "metadata": {},
   "source": [
    "The Series constructor can convert a dictonary as well, using the keys of the dictionary as its index."
   ]
  },
  {
   "cell_type": "code",
   "execution_count": 7,
   "metadata": {},
   "outputs": [
    {
     "data": {
      "text/plain": [
       "{'Chicago': 1000,\n",
       " 'New York': 1300,\n",
       " 'Portland': 900,\n",
       " 'San Francisco': 1100,\n",
       " 'Austin': 450,\n",
       " 'Boston': None}"
      ]
     },
     "execution_count": 7,
     "metadata": {},
     "output_type": "execute_result"
    }
   ],
   "source": [
    "d = {'Chicago': 1000, 'New York': 1300, 'Portland': 900, 'San Francisco': 1100,\n",
    "     'Austin': 450, 'Boston': None}\n",
    "d"
   ]
  },
  {
   "cell_type": "code",
   "execution_count": 8,
   "metadata": {},
   "outputs": [
    {
     "data": {
      "text/plain": [
       "Chicago          1000.0\n",
       "New York         1300.0\n",
       "Portland          900.0\n",
       "San Francisco    1100.0\n",
       "Austin            450.0\n",
       "Boston              NaN\n",
       "dtype: float64"
      ]
     },
     "execution_count": 8,
     "metadata": {},
     "output_type": "execute_result"
    }
   ],
   "source": [
    "cities = pd.Series(d)\n",
    "cities"
   ]
  },
  {
   "cell_type": "markdown",
   "metadata": {},
   "source": [
    "### 1.2 Selecting\n",
    "\n",
    "You can use the index to select specific items from the Series ..."
   ]
  },
  {
   "cell_type": "code",
   "execution_count": 9,
   "metadata": {},
   "outputs": [
    {
     "data": {
      "text/plain": [
       "450.0"
      ]
     },
     "execution_count": 9,
     "metadata": {},
     "output_type": "execute_result"
    }
   ],
   "source": [
    "cities['Austin']"
   ]
  },
  {
   "cell_type": "code",
   "execution_count": 10,
   "metadata": {},
   "outputs": [
    {
     "data": {
      "text/plain": [
       "Chicago          1000.0\n",
       "Portland          900.0\n",
       "San Francisco    1100.0\n",
       "dtype: float64"
      ]
     },
     "execution_count": 10,
     "metadata": {},
     "output_type": "execute_result"
    }
   ],
   "source": [
    "cities[['Chicago', 'Portland', 'San Francisco']]"
   ]
  },
  {
   "cell_type": "code",
   "execution_count": 11,
   "metadata": {},
   "outputs": [
    {
     "data": {
      "text/plain": [
       "1000.0"
      ]
     },
     "execution_count": 11,
     "metadata": {},
     "output_type": "execute_result"
    }
   ],
   "source": [
    "cities['Chicago']"
   ]
  },
  {
   "cell_type": "code",
   "execution_count": 12,
   "metadata": {},
   "outputs": [
    {
     "data": {
      "text/plain": [
       "Chicago          False\n",
       "New York         False\n",
       "Portland          True\n",
       "San Francisco    False\n",
       "Austin            True\n",
       "Boston           False\n",
       "dtype: bool"
      ]
     },
     "execution_count": 12,
     "metadata": {},
     "output_type": "execute_result"
    }
   ],
   "source": [
    "cities < 1000"
   ]
  },
  {
   "cell_type": "markdown",
   "metadata": {},
   "source": [
    "Or you can use boolean indexing for selection."
   ]
  },
  {
   "cell_type": "code",
   "execution_count": 13,
   "metadata": {},
   "outputs": [
    {
     "data": {
      "text/plain": [
       "Portland    900.0\n",
       "Austin      450.0\n",
       "dtype: float64"
      ]
     },
     "execution_count": 13,
     "metadata": {},
     "output_type": "execute_result"
    }
   ],
   "source": [
    "cities[cities < 1000]"
   ]
  },
  {
   "cell_type": "markdown",
   "metadata": {},
   "source": [
    "That last one might be a little weird, so let's make it more clear - `cities < 1000` returns a Series of True/False values, which we then pass to our Series `cities`, returning the corresponding True items."
   ]
  },
  {
   "cell_type": "code",
   "execution_count": 14,
   "metadata": {},
   "outputs": [],
   "source": [
    "less_than_1000 = cities < 1000"
   ]
  },
  {
   "cell_type": "code",
   "execution_count": 15,
   "metadata": {},
   "outputs": [
    {
     "name": "stdout",
     "output_type": "stream",
     "text": [
      "Chicago          False\n",
      "New York         False\n",
      "Portland          True\n",
      "San Francisco    False\n",
      "Austin            True\n",
      "Boston           False\n",
      "dtype: bool\n"
     ]
    }
   ],
   "source": [
    "print(less_than_1000)"
   ]
  },
  {
   "cell_type": "code",
   "execution_count": 16,
   "metadata": {},
   "outputs": [
    {
     "data": {
      "text/plain": [
       "Portland    900.0\n",
       "Austin      450.0\n",
       "dtype: float64"
      ]
     },
     "execution_count": 16,
     "metadata": {},
     "output_type": "execute_result"
    }
   ],
   "source": [
    "cities[less_than_1000]"
   ]
  },
  {
   "cell_type": "markdown",
   "metadata": {},
   "source": [
    "### 1.3 Editing\n",
    "\n",
    "You can also change the values in a Series on the fly."
   ]
  },
  {
   "cell_type": "code",
   "execution_count": 17,
   "metadata": {},
   "outputs": [
    {
     "name": "stdout",
     "output_type": "stream",
     "text": [
      "Old value: 1000.0\n",
      "New value: 1400.0\n"
     ]
    }
   ],
   "source": [
    "# changing based on the index\n",
    "print ('Old value:', cities['Chicago'])\n",
    "cities['Chicago'] = 1400\n",
    "print ('New value:', cities['Chicago'])"
   ]
  },
  {
   "cell_type": "code",
   "execution_count": 18,
   "metadata": {},
   "outputs": [
    {
     "name": "stdout",
     "output_type": "stream",
     "text": [
      "Portland    900.0\n",
      "Austin      450.0\n",
      "dtype: float64\n",
      "\n",
      "\n",
      "\n",
      "\n",
      "\n",
      "\n",
      "\n",
      "\n",
      "Portland    750.0\n",
      "Austin      750.0\n",
      "dtype: float64\n"
     ]
    }
   ],
   "source": [
    "# changing values using boolean logic\n",
    "print (cities[cities < 1000])\n",
    "print ('\\n')\n",
    "print ('\\n')\n",
    "print ('\\n')\n",
    "print ('\\n')\n",
    "\n",
    "cities[cities < 1000] = 750\n",
    "\n",
    "print (cities[cities < 1000])"
   ]
  },
  {
   "cell_type": "code",
   "execution_count": 19,
   "metadata": {},
   "outputs": [
    {
     "data": {
      "text/plain": [
       "Chicago          1400.0\n",
       "New York         1300.0\n",
       "Portland          750.0\n",
       "San Francisco    1100.0\n",
       "Austin            750.0\n",
       "Boston              NaN\n",
       "dtype: float64"
      ]
     },
     "execution_count": 19,
     "metadata": {},
     "output_type": "execute_result"
    }
   ],
   "source": [
    "cities"
   ]
  },
  {
   "cell_type": "markdown",
   "metadata": {},
   "source": [
    "### 1.4 Mathematical Operations\n",
    "Mathematical operations can be done using scalars and functions."
   ]
  },
  {
   "cell_type": "code",
   "execution_count": 20,
   "metadata": {},
   "outputs": [
    {
     "data": {
      "text/plain": [
       "Chicago          466.666667\n",
       "New York         433.333333\n",
       "Portland         250.000000\n",
       "San Francisco    366.666667\n",
       "Austin           250.000000\n",
       "Boston                  NaN\n",
       "dtype: float64"
      ]
     },
     "execution_count": 20,
     "metadata": {},
     "output_type": "execute_result"
    }
   ],
   "source": [
    "# divide city values by 3\n",
    "cities / 3"
   ]
  },
  {
   "cell_type": "code",
   "execution_count": 21,
   "metadata": {
    "scrolled": true
   },
   "outputs": [
    {
     "data": {
      "text/plain": [
       "Chicago          1400.0\n",
       "New York         1300.0\n",
       "Portland          750.0\n",
       "San Francisco    1100.0\n",
       "Austin            750.0\n",
       "Boston              NaN\n",
       "dtype: float64"
      ]
     },
     "execution_count": 21,
     "metadata": {},
     "output_type": "execute_result"
    }
   ],
   "source": [
    "cities"
   ]
  },
  {
   "cell_type": "code",
   "execution_count": 22,
   "metadata": {},
   "outputs": [
    {
     "data": {
      "text/plain": [
       "Chicago          1960000.0\n",
       "New York         1690000.0\n",
       "Portland          562500.0\n",
       "San Francisco    1210000.0\n",
       "Austin            562500.0\n",
       "Boston                 NaN\n",
       "dtype: float64"
      ]
     },
     "execution_count": 22,
     "metadata": {},
     "output_type": "execute_result"
    }
   ],
   "source": [
    "# square city values\n",
    "np.square(cities)"
   ]
  },
  {
   "cell_type": "markdown",
   "metadata": {},
   "source": [
    "You can add two Series together, which returns a union of the two Series with the addition occurring on the shared index values.  Values on either Series that did not have a shared index will produce a NULL/NaN (not a number)."
   ]
  },
  {
   "cell_type": "code",
   "execution_count": 23,
   "metadata": {},
   "outputs": [
    {
     "name": "stdout",
     "output_type": "stream",
     "text": [
      "Chicago     1400.0\n",
      "New York    1300.0\n",
      "Portland     750.0\n",
      "dtype: float64\n",
      "\n",
      "\n",
      "Austin       750.0\n",
      "New York    1300.0\n",
      "dtype: float64\n",
      "\n",
      "\n",
      "Austin         NaN\n",
      "Chicago        NaN\n",
      "New York    2600.0\n",
      "Portland       NaN\n",
      "dtype: float64\n"
     ]
    }
   ],
   "source": [
    "print (cities[['Chicago', 'New York', 'Portland']])\n",
    "print('\\n')\n",
    "print (cities[['Austin', 'New York']])\n",
    "print('\\n')\n",
    "print (cities[['Chicago', 'New York', 'Portland']] + cities[['Austin', 'New York']])"
   ]
  },
  {
   "cell_type": "code",
   "execution_count": 24,
   "metadata": {},
   "outputs": [
    {
     "data": {
      "text/plain": [
       "Chicago     1400.0\n",
       "New York    1300.0\n",
       "Portland     750.0\n",
       "dtype: float64"
      ]
     },
     "execution_count": 24,
     "metadata": {},
     "output_type": "execute_result"
    }
   ],
   "source": [
    "x= cities[['Chicago', 'New York', 'Portland']]\n",
    "x"
   ]
  },
  {
   "cell_type": "code",
   "execution_count": 25,
   "metadata": {},
   "outputs": [
    {
     "data": {
      "text/plain": [
       "Austin       750.0\n",
       "New York    1300.0\n",
       "dtype: float64"
      ]
     },
     "execution_count": 25,
     "metadata": {},
     "output_type": "execute_result"
    }
   ],
   "source": [
    "y = (cities[['Austin', 'New York']])\n",
    "y"
   ]
  },
  {
   "cell_type": "code",
   "execution_count": 26,
   "metadata": {},
   "outputs": [
    {
     "data": {
      "text/plain": [
       "Austin         NaN\n",
       "Chicago        NaN\n",
       "New York    2600.0\n",
       "Portland       NaN\n",
       "dtype: float64"
      ]
     },
     "execution_count": 26,
     "metadata": {},
     "output_type": "execute_result"
    }
   ],
   "source": [
    "x + y"
   ]
  },
  {
   "cell_type": "markdown",
   "metadata": {},
   "source": [
    "Notice that because Austin, Chicago, and Portland were not found in both Series, they were returned with NULL/NaN values."
   ]
  },
  {
   "cell_type": "markdown",
   "metadata": {},
   "source": [
    "### 5. Missing Values\n",
    "\n",
    "What if you aren't sure whether an item is in the Series?  You can check using idiomatic Python."
   ]
  },
  {
   "cell_type": "code",
   "execution_count": 27,
   "metadata": {},
   "outputs": [
    {
     "name": "stdout",
     "output_type": "stream",
     "text": [
      "False\n",
      "True\n"
     ]
    }
   ],
   "source": [
    "print ('Seattle' in cities)\n",
    "print ('San Francisco' in cities)"
   ]
  },
  {
   "cell_type": "markdown",
   "metadata": {},
   "source": [
    "NULL checking can be performed with `isnull` and `notnull`."
   ]
  },
  {
   "cell_type": "code",
   "execution_count": 28,
   "metadata": {},
   "outputs": [
    {
     "data": {
      "text/plain": [
       "Chicago           True\n",
       "New York          True\n",
       "Portland          True\n",
       "San Francisco     True\n",
       "Austin            True\n",
       "Boston           False\n",
       "dtype: bool"
      ]
     },
     "execution_count": 28,
     "metadata": {},
     "output_type": "execute_result"
    }
   ],
   "source": [
    "# returns a boolean series indicating which values aren't NULL\n",
    "cities.notnull()"
   ]
  },
  {
   "cell_type": "code",
   "execution_count": 29,
   "metadata": {},
   "outputs": [
    {
     "data": {
      "text/plain": [
       "[Chicago          False\n",
       " New York         False\n",
       " Portland         False\n",
       " San Francisco    False\n",
       " Austin           False\n",
       " Boston            True\n",
       " dtype: bool]"
      ]
     },
     "execution_count": 29,
     "metadata": {},
     "output_type": "execute_result"
    }
   ],
   "source": [
    "[cities.isnull()]"
   ]
  },
  {
   "cell_type": "code",
   "execution_count": 30,
   "metadata": {},
   "outputs": [
    {
     "name": "stdout",
     "output_type": "stream",
     "text": [
      "Chicago          False\n",
      "New York         False\n",
      "Portland         False\n",
      "San Francisco    False\n",
      "Austin           False\n",
      "Boston            True\n",
      "dtype: bool\n",
      "\n",
      "\n",
      "Boston   NaN\n",
      "dtype: float64\n"
     ]
    }
   ],
   "source": [
    "# use boolean logic to grab the NULL cities\n",
    "print (cities.isnull())\n",
    "print ('\\n')\n",
    "print (cities[cities.isnull()])"
   ]
  },
  {
   "cell_type": "markdown",
   "metadata": {},
   "source": [
    "## 2. DataFrame\n",
    "\n",
    "A DataFrame is a tabular data structure comprised of rows and columns, akin to a spreadsheet, database table, or R's data.frame object. You can also think of a DataFrame as a group of Series objects (rows) that share an index (the column names)."
   ]
  },
  {
   "cell_type": "markdown",
   "metadata": {},
   "source": [
    "### 2.1 From Dictionnary of Lists\n",
    "\n",
    "To create a DataFrame out of common Python data structures, we can pass a **dictionary of lists** to the DataFrame constructor.\n",
    "Using the `columns` parameter allows us to tell the constructor how we'd like the columns ordered. By default, the DataFrame constructor will order the columns alphabetically (though this isn't the case when reading from a file - more on that next)."
   ]
  },
  {
   "cell_type": "code",
   "execution_count": 31,
   "metadata": {},
   "outputs": [
    {
     "data": {
      "text/plain": [
       "{'year': [2010, 2011, 2012, 2011, 2012, 2010, 2011, 2012],\n",
       " 'team': ['Bears',\n",
       "  'Bears',\n",
       "  'Bears',\n",
       "  'Packers',\n",
       "  'Packers',\n",
       "  'Lions',\n",
       "  'Lions',\n",
       "  'Lions'],\n",
       " 'wins': [11, 8, 10, 15, 11, 6, 10, 4],\n",
       " 'losses': [5, 8, 6, 1, 5, 10, 6, 12]}"
      ]
     },
     "execution_count": 31,
     "metadata": {},
     "output_type": "execute_result"
    }
   ],
   "source": [
    "data = {'year': [2010, 2011, 2012, 2011, 2012, 2010, 2011, 2012],\n",
    "        'team': ['Bears', 'Bears', 'Bears', 'Packers', 'Packers', 'Lions', 'Lions', 'Lions'],\n",
    "        'wins': [11, 8, 10, 15, 11, 6, 10, 4],\n",
    "        'losses': [5, 8, 6, 1, 5, 10, 6, 12]}\n",
    "\n",
    "data"
   ]
  },
  {
   "cell_type": "code",
   "execution_count": 32,
   "metadata": {},
   "outputs": [
    {
     "name": "stdout",
     "output_type": "stream",
     "text": [
      "   year     team  wins  losses\n",
      "0  2010    Bears    11       5\n",
      "1  2011    Bears     8       8\n",
      "2  2012    Bears    10       6\n",
      "3  2011  Packers    15       1\n",
      "4  2012  Packers    11       5\n",
      "5  2010    Lions     6      10\n",
      "6  2011    Lions    10       6\n",
      "7  2012    Lions     4      12\n"
     ]
    }
   ],
   "source": [
    "football = pd.DataFrame(data, columns=['year', 'team', 'wins', 'losses'])\n",
    "print(football)"
   ]
  },
  {
   "cell_type": "code",
   "execution_count": 33,
   "metadata": {},
   "outputs": [
    {
     "data": {
      "text/html": [
       "<div>\n",
       "<style scoped>\n",
       "    .dataframe tbody tr th:only-of-type {\n",
       "        vertical-align: middle;\n",
       "    }\n",
       "\n",
       "    .dataframe tbody tr th {\n",
       "        vertical-align: top;\n",
       "    }\n",
       "\n",
       "    .dataframe thead th {\n",
       "        text-align: right;\n",
       "    }\n",
       "</style>\n",
       "<table border=\"1\" class=\"dataframe\">\n",
       "  <thead>\n",
       "    <tr style=\"text-align: right;\">\n",
       "      <th></th>\n",
       "      <th>year</th>\n",
       "      <th>team</th>\n",
       "      <th>wins</th>\n",
       "      <th>losses</th>\n",
       "    </tr>\n",
       "  </thead>\n",
       "  <tbody>\n",
       "    <tr>\n",
       "      <th>0</th>\n",
       "      <td>2010</td>\n",
       "      <td>Bears</td>\n",
       "      <td>11</td>\n",
       "      <td>5</td>\n",
       "    </tr>\n",
       "    <tr>\n",
       "      <th>1</th>\n",
       "      <td>2011</td>\n",
       "      <td>Bears</td>\n",
       "      <td>8</td>\n",
       "      <td>8</td>\n",
       "    </tr>\n",
       "    <tr>\n",
       "      <th>2</th>\n",
       "      <td>2012</td>\n",
       "      <td>Bears</td>\n",
       "      <td>10</td>\n",
       "      <td>6</td>\n",
       "    </tr>\n",
       "    <tr>\n",
       "      <th>3</th>\n",
       "      <td>2011</td>\n",
       "      <td>Packers</td>\n",
       "      <td>15</td>\n",
       "      <td>1</td>\n",
       "    </tr>\n",
       "    <tr>\n",
       "      <th>4</th>\n",
       "      <td>2012</td>\n",
       "      <td>Packers</td>\n",
       "      <td>11</td>\n",
       "      <td>5</td>\n",
       "    </tr>\n",
       "    <tr>\n",
       "      <th>5</th>\n",
       "      <td>2010</td>\n",
       "      <td>Lions</td>\n",
       "      <td>6</td>\n",
       "      <td>10</td>\n",
       "    </tr>\n",
       "    <tr>\n",
       "      <th>6</th>\n",
       "      <td>2011</td>\n",
       "      <td>Lions</td>\n",
       "      <td>10</td>\n",
       "      <td>6</td>\n",
       "    </tr>\n",
       "    <tr>\n",
       "      <th>7</th>\n",
       "      <td>2012</td>\n",
       "      <td>Lions</td>\n",
       "      <td>4</td>\n",
       "      <td>12</td>\n",
       "    </tr>\n",
       "  </tbody>\n",
       "</table>\n",
       "</div>"
      ],
      "text/plain": [
       "   year     team  wins  losses\n",
       "0  2010    Bears    11       5\n",
       "1  2011    Bears     8       8\n",
       "2  2012    Bears    10       6\n",
       "3  2011  Packers    15       1\n",
       "4  2012  Packers    11       5\n",
       "5  2010    Lions     6      10\n",
       "6  2011    Lions    10       6\n",
       "7  2012    Lions     4      12"
      ]
     },
     "execution_count": 33,
     "metadata": {},
     "output_type": "execute_result"
    }
   ],
   "source": [
    "data2 = pd.DataFrame(data)\n",
    "data2"
   ]
  },
  {
   "cell_type": "markdown",
   "metadata": {},
   "source": [
    "# Pandas II - Working with DataFrames"
   ]
  },
  {
   "cell_type": "code",
   "execution_count": 35,
   "metadata": {},
   "outputs": [],
   "source": [
    "import pandas as pd\n",
    "import numpy as np\n",
    "import matplotlib.pyplot as plt\n",
    "\n",
    "pd.set_option('max_columns', 50)\n",
    "\n",
    "\n",
    "#data = pd.read_csv('/Users/apple1/OneDrive/Python Training/P')"
   ]
  },
  {
   "cell_type": "code",
   "execution_count": 39,
   "metadata": {},
   "outputs": [],
   "source": [
    "# pass in column names for each CSV\n",
    "u_cols = ['user_id', 'age', 'sex', 'occupation', 'zip_code']\n",
    "df_users = pd.read_csv('/Users/apple1/OneDrive/Python Training/Python_Raw_files/u.user', sep='|', names=u_cols, encoding='latin-1', header= 0)\n",
    "\n",
    "r_cols = ['user_id', 'movie_id', 'rating', 'unix_timestamp']\n",
    "df_ratings = pd.read_csv('/Users/apple1/OneDrive/Python Training/Python_Raw_files/u.data', sep='\\t', names=r_cols, encoding='latin-1')\n",
    "\n",
    "m_cols = ['movie_id', 'title', 'release_date', 'video_release_date', 'imdb_url']\n",
    "df_movies = pd.read_csv('/Users/apple1/OneDrive/Python Training/Python_Raw_files/u.item', sep='|', names=m_cols, usecols=range(5), encoding='latin-1')# only load the first five columns"
   ]
  },
  {
   "cell_type": "code",
   "execution_count": 40,
   "metadata": {},
   "outputs": [
    {
     "data": {
      "text/html": [
       "<div>\n",
       "<style scoped>\n",
       "    .dataframe tbody tr th:only-of-type {\n",
       "        vertical-align: middle;\n",
       "    }\n",
       "\n",
       "    .dataframe tbody tr th {\n",
       "        vertical-align: top;\n",
       "    }\n",
       "\n",
       "    .dataframe thead th {\n",
       "        text-align: right;\n",
       "    }\n",
       "</style>\n",
       "<table border=\"1\" class=\"dataframe\">\n",
       "  <thead>\n",
       "    <tr style=\"text-align: right;\">\n",
       "      <th></th>\n",
       "      <th>user_id</th>\n",
       "      <th>age</th>\n",
       "      <th>sex</th>\n",
       "      <th>occupation</th>\n",
       "      <th>zip_code</th>\n",
       "    </tr>\n",
       "  </thead>\n",
       "  <tbody>\n",
       "    <tr>\n",
       "      <th>0</th>\n",
       "      <td>2</td>\n",
       "      <td>53</td>\n",
       "      <td>F</td>\n",
       "      <td>other</td>\n",
       "      <td>94043</td>\n",
       "    </tr>\n",
       "    <tr>\n",
       "      <th>1</th>\n",
       "      <td>3</td>\n",
       "      <td>23</td>\n",
       "      <td>M</td>\n",
       "      <td>writer</td>\n",
       "      <td>32067</td>\n",
       "    </tr>\n",
       "    <tr>\n",
       "      <th>2</th>\n",
       "      <td>4</td>\n",
       "      <td>24</td>\n",
       "      <td>M</td>\n",
       "      <td>technician</td>\n",
       "      <td>43537</td>\n",
       "    </tr>\n",
       "    <tr>\n",
       "      <th>3</th>\n",
       "      <td>5</td>\n",
       "      <td>33</td>\n",
       "      <td>F</td>\n",
       "      <td>other</td>\n",
       "      <td>15213</td>\n",
       "    </tr>\n",
       "    <tr>\n",
       "      <th>4</th>\n",
       "      <td>6</td>\n",
       "      <td>42</td>\n",
       "      <td>M</td>\n",
       "      <td>executive</td>\n",
       "      <td>98101</td>\n",
       "    </tr>\n",
       "  </tbody>\n",
       "</table>\n",
       "</div>"
      ],
      "text/plain": [
       "   user_id  age sex  occupation zip_code\n",
       "0        2   53   F       other    94043\n",
       "1        3   23   M      writer    32067\n",
       "2        4   24   M  technician    43537\n",
       "3        5   33   F       other    15213\n",
       "4        6   42   M   executive    98101"
      ]
     },
     "execution_count": 40,
     "metadata": {},
     "output_type": "execute_result"
    }
   ],
   "source": [
    "df_users.head()"
   ]
  },
  {
   "cell_type": "markdown",
   "metadata": {},
   "source": [
    "## Summary\n",
    "\n",
    "1. [Inspect](#1.-Inspect)<br>\n",
    "    a) .dtype<br>\n",
    "    b) .describe()<br>\n",
    "    c) .head(), .tail(), [i:j]\n",
    "2. [Select](#2.-Select)<br>\n",
    "    a) Column Selection<br>\n",
    "    b) Row Selection<br>\n",
    "3. [Sort](#3.-Sort)<br>\n",
    "    a) .sort() for DataFrames<br>\n",
    "    b) .order() for Series<br>\n",
    "4. [Operations](#4.-Operations)<br>\n",
    "    a) Descriptive Stats<br>\n",
    "    b) Apply<br>\n",
    "    b) Bins<br>\n",
    "    b) Histograms<br>\n",
    "5. [Split-Apply-Combine](#5.-Split-Apply-Combine)\n",
    "6. [Other](#6.-Other)<br>\n",
    "    a) Rename columns<br>\n",
    "    b) Missing values<br>"
   ]
  },
  {
   "cell_type": "markdown",
   "metadata": {},
   "source": [
    "## 1. Inspect\n",
    "\n",
    "Pandas has a variety of functions for getting basic information about your DataFrame.<br>\n",
    "The most basic of which is **calling your DataFrame by name**. The output tells a few things about our DataFrame.\n",
    "\n",
    "1. It's an instance of a DataFrame.\n",
    "2. Each row is assigned an index of 0 to N-1, where N is the number of rows in the DataFrame. (index can be set arbitrary)\n",
    "3. There are 1,682 rows (every row must have an index).\n",
    "4. Our dataset has five total columns, one of which isn't populated at all (video_release_date) and two that are missing some values (release_date and imdb_url)."
   ]
  },
  {
   "cell_type": "code",
   "execution_count": 41,
   "metadata": {},
   "outputs": [
    {
     "data": {
      "text/html": [
       "<div>\n",
       "<style scoped>\n",
       "    .dataframe tbody tr th:only-of-type {\n",
       "        vertical-align: middle;\n",
       "    }\n",
       "\n",
       "    .dataframe tbody tr th {\n",
       "        vertical-align: top;\n",
       "    }\n",
       "\n",
       "    .dataframe thead th {\n",
       "        text-align: right;\n",
       "    }\n",
       "</style>\n",
       "<table border=\"1\" class=\"dataframe\">\n",
       "  <thead>\n",
       "    <tr style=\"text-align: right;\">\n",
       "      <th></th>\n",
       "      <th>movie_id</th>\n",
       "      <th>title</th>\n",
       "      <th>release_date</th>\n",
       "      <th>video_release_date</th>\n",
       "      <th>imdb_url</th>\n",
       "    </tr>\n",
       "  </thead>\n",
       "  <tbody>\n",
       "    <tr>\n",
       "      <th>0</th>\n",
       "      <td>1</td>\n",
       "      <td>Toy Story (1995)</td>\n",
       "      <td>01-Jan-1995</td>\n",
       "      <td>NaN</td>\n",
       "      <td>http://us.imdb.com/M/title-exact?Toy%20Story%2...</td>\n",
       "    </tr>\n",
       "    <tr>\n",
       "      <th>1</th>\n",
       "      <td>2</td>\n",
       "      <td>GoldenEye (1995)</td>\n",
       "      <td>01-Jan-1995</td>\n",
       "      <td>NaN</td>\n",
       "      <td>http://us.imdb.com/M/title-exact?GoldenEye%20(...</td>\n",
       "    </tr>\n",
       "    <tr>\n",
       "      <th>2</th>\n",
       "      <td>3</td>\n",
       "      <td>Four Rooms (1995)</td>\n",
       "      <td>01-Jan-1995</td>\n",
       "      <td>NaN</td>\n",
       "      <td>http://us.imdb.com/M/title-exact?Four%20Rooms%...</td>\n",
       "    </tr>\n",
       "    <tr>\n",
       "      <th>3</th>\n",
       "      <td>4</td>\n",
       "      <td>Get Shorty (1995)</td>\n",
       "      <td>01-Jan-1995</td>\n",
       "      <td>NaN</td>\n",
       "      <td>http://us.imdb.com/M/title-exact?Get%20Shorty%...</td>\n",
       "    </tr>\n",
       "    <tr>\n",
       "      <th>4</th>\n",
       "      <td>5</td>\n",
       "      <td>Copycat (1995)</td>\n",
       "      <td>01-Jan-1995</td>\n",
       "      <td>NaN</td>\n",
       "      <td>http://us.imdb.com/M/title-exact?Copycat%20(1995)</td>\n",
       "    </tr>\n",
       "  </tbody>\n",
       "</table>\n",
       "</div>"
      ],
      "text/plain": [
       "   movie_id              title release_date  video_release_date  \\\n",
       "0         1   Toy Story (1995)  01-Jan-1995                 NaN   \n",
       "1         2   GoldenEye (1995)  01-Jan-1995                 NaN   \n",
       "2         3  Four Rooms (1995)  01-Jan-1995                 NaN   \n",
       "3         4  Get Shorty (1995)  01-Jan-1995                 NaN   \n",
       "4         5     Copycat (1995)  01-Jan-1995                 NaN   \n",
       "\n",
       "                                            imdb_url  \n",
       "0  http://us.imdb.com/M/title-exact?Toy%20Story%2...  \n",
       "1  http://us.imdb.com/M/title-exact?GoldenEye%20(...  \n",
       "2  http://us.imdb.com/M/title-exact?Four%20Rooms%...  \n",
       "3  http://us.imdb.com/M/title-exact?Get%20Shorty%...  \n",
       "4  http://us.imdb.com/M/title-exact?Copycat%20(1995)  "
      ]
     },
     "execution_count": 41,
     "metadata": {},
     "output_type": "execute_result"
    }
   ],
   "source": [
    "df_movies.head()"
   ]
  },
  {
   "cell_type": "markdown",
   "metadata": {},
   "source": [
    "### a)  `.dtypes`\n",
    "Use the `.dtypes` attribute to get the datatype for each column."
   ]
  },
  {
   "cell_type": "code",
   "execution_count": 42,
   "metadata": {},
   "outputs": [
    {
     "name": "stdout",
     "output_type": "stream",
     "text": [
      "movie_id                int64\n",
      "title                  object\n",
      "release_date           object\n",
      "video_release_date    float64\n",
      "imdb_url               object\n",
      "dtype: object \n",
      "\n",
      "user_id        int64\n",
      "age            int64\n",
      "sex           object\n",
      "occupation    object\n",
      "zip_code      object\n",
      "dtype: object \n",
      "\n",
      "user_id           int64\n",
      "movie_id          int64\n",
      "rating            int64\n",
      "unix_timestamp    int64\n",
      "dtype: object \n",
      "\n"
     ]
    }
   ],
   "source": [
    "print (df_movies.dtypes,'\\n')\n",
    "\n",
    "print (df_users.dtypes,'\\n')\n",
    "\n",
    "print (df_ratings.dtypes,'\\n')"
   ]
  },
  {
   "cell_type": "code",
   "execution_count": 43,
   "metadata": {},
   "outputs": [
    {
     "data": {
      "text/html": [
       "<div>\n",
       "<style scoped>\n",
       "    .dataframe tbody tr th:only-of-type {\n",
       "        vertical-align: middle;\n",
       "    }\n",
       "\n",
       "    .dataframe tbody tr th {\n",
       "        vertical-align: top;\n",
       "    }\n",
       "\n",
       "    .dataframe thead th {\n",
       "        text-align: right;\n",
       "    }\n",
       "</style>\n",
       "<table border=\"1\" class=\"dataframe\">\n",
       "  <thead>\n",
       "    <tr style=\"text-align: right;\">\n",
       "      <th></th>\n",
       "      <th>user_id</th>\n",
       "      <th>age</th>\n",
       "      <th>sex</th>\n",
       "      <th>occupation</th>\n",
       "      <th>zip_code</th>\n",
       "    </tr>\n",
       "  </thead>\n",
       "  <tbody>\n",
       "    <tr>\n",
       "      <th>0</th>\n",
       "      <td>2</td>\n",
       "      <td>53</td>\n",
       "      <td>F</td>\n",
       "      <td>other</td>\n",
       "      <td>94043</td>\n",
       "    </tr>\n",
       "    <tr>\n",
       "      <th>1</th>\n",
       "      <td>3</td>\n",
       "      <td>23</td>\n",
       "      <td>M</td>\n",
       "      <td>writer</td>\n",
       "      <td>32067</td>\n",
       "    </tr>\n",
       "    <tr>\n",
       "      <th>2</th>\n",
       "      <td>4</td>\n",
       "      <td>24</td>\n",
       "      <td>M</td>\n",
       "      <td>technician</td>\n",
       "      <td>43537</td>\n",
       "    </tr>\n",
       "    <tr>\n",
       "      <th>3</th>\n",
       "      <td>5</td>\n",
       "      <td>33</td>\n",
       "      <td>F</td>\n",
       "      <td>other</td>\n",
       "      <td>15213</td>\n",
       "    </tr>\n",
       "    <tr>\n",
       "      <th>4</th>\n",
       "      <td>6</td>\n",
       "      <td>42</td>\n",
       "      <td>M</td>\n",
       "      <td>executive</td>\n",
       "      <td>98101</td>\n",
       "    </tr>\n",
       "  </tbody>\n",
       "</table>\n",
       "</div>"
      ],
      "text/plain": [
       "   user_id  age sex  occupation zip_code\n",
       "0        2   53   F       other    94043\n",
       "1        3   23   M      writer    32067\n",
       "2        4   24   M  technician    43537\n",
       "3        5   33   F       other    15213\n",
       "4        6   42   M   executive    98101"
      ]
     },
     "execution_count": 43,
     "metadata": {},
     "output_type": "execute_result"
    }
   ],
   "source": [
    "df_users.head()"
   ]
  },
  {
   "cell_type": "code",
   "execution_count": 44,
   "metadata": {},
   "outputs": [
    {
     "data": {
      "text/html": [
       "<div>\n",
       "<style scoped>\n",
       "    .dataframe tbody tr th:only-of-type {\n",
       "        vertical-align: middle;\n",
       "    }\n",
       "\n",
       "    .dataframe tbody tr th {\n",
       "        vertical-align: top;\n",
       "    }\n",
       "\n",
       "    .dataframe thead th {\n",
       "        text-align: right;\n",
       "    }\n",
       "</style>\n",
       "<table border=\"1\" class=\"dataframe\">\n",
       "  <thead>\n",
       "    <tr style=\"text-align: right;\">\n",
       "      <th></th>\n",
       "      <th>user_id</th>\n",
       "      <th>movie_id</th>\n",
       "      <th>rating</th>\n",
       "      <th>unix_timestamp</th>\n",
       "    </tr>\n",
       "  </thead>\n",
       "  <tbody>\n",
       "    <tr>\n",
       "      <th>0</th>\n",
       "      <td>196</td>\n",
       "      <td>242</td>\n",
       "      <td>3</td>\n",
       "      <td>881250949</td>\n",
       "    </tr>\n",
       "    <tr>\n",
       "      <th>1</th>\n",
       "      <td>186</td>\n",
       "      <td>302</td>\n",
       "      <td>3</td>\n",
       "      <td>891717742</td>\n",
       "    </tr>\n",
       "    <tr>\n",
       "      <th>2</th>\n",
       "      <td>22</td>\n",
       "      <td>377</td>\n",
       "      <td>1</td>\n",
       "      <td>878887116</td>\n",
       "    </tr>\n",
       "    <tr>\n",
       "      <th>3</th>\n",
       "      <td>244</td>\n",
       "      <td>51</td>\n",
       "      <td>2</td>\n",
       "      <td>880606923</td>\n",
       "    </tr>\n",
       "    <tr>\n",
       "      <th>4</th>\n",
       "      <td>166</td>\n",
       "      <td>346</td>\n",
       "      <td>1</td>\n",
       "      <td>886397596</td>\n",
       "    </tr>\n",
       "  </tbody>\n",
       "</table>\n",
       "</div>"
      ],
      "text/plain": [
       "   user_id  movie_id  rating  unix_timestamp\n",
       "0      196       242       3       881250949\n",
       "1      186       302       3       891717742\n",
       "2       22       377       1       878887116\n",
       "3      244        51       2       880606923\n",
       "4      166       346       1       886397596"
      ]
     },
     "execution_count": 44,
     "metadata": {},
     "output_type": "execute_result"
    }
   ],
   "source": [
    "df_ratings.head()"
   ]
  },
  {
   "cell_type": "code",
   "execution_count": 45,
   "metadata": {},
   "outputs": [
    {
     "data": {
      "text/html": [
       "<div>\n",
       "<style scoped>\n",
       "    .dataframe tbody tr th:only-of-type {\n",
       "        vertical-align: middle;\n",
       "    }\n",
       "\n",
       "    .dataframe tbody tr th {\n",
       "        vertical-align: top;\n",
       "    }\n",
       "\n",
       "    .dataframe thead th {\n",
       "        text-align: right;\n",
       "    }\n",
       "</style>\n",
       "<table border=\"1\" class=\"dataframe\">\n",
       "  <thead>\n",
       "    <tr style=\"text-align: right;\">\n",
       "      <th></th>\n",
       "      <th>movie_id</th>\n",
       "      <th>title</th>\n",
       "      <th>release_date</th>\n",
       "      <th>video_release_date</th>\n",
       "      <th>imdb_url</th>\n",
       "    </tr>\n",
       "  </thead>\n",
       "  <tbody>\n",
       "    <tr>\n",
       "      <th>0</th>\n",
       "      <td>1</td>\n",
       "      <td>Toy Story (1995)</td>\n",
       "      <td>01-Jan-1995</td>\n",
       "      <td>NaN</td>\n",
       "      <td>http://us.imdb.com/M/title-exact?Toy%20Story%2...</td>\n",
       "    </tr>\n",
       "    <tr>\n",
       "      <th>1</th>\n",
       "      <td>2</td>\n",
       "      <td>GoldenEye (1995)</td>\n",
       "      <td>01-Jan-1995</td>\n",
       "      <td>NaN</td>\n",
       "      <td>http://us.imdb.com/M/title-exact?GoldenEye%20(...</td>\n",
       "    </tr>\n",
       "    <tr>\n",
       "      <th>2</th>\n",
       "      <td>3</td>\n",
       "      <td>Four Rooms (1995)</td>\n",
       "      <td>01-Jan-1995</td>\n",
       "      <td>NaN</td>\n",
       "      <td>http://us.imdb.com/M/title-exact?Four%20Rooms%...</td>\n",
       "    </tr>\n",
       "    <tr>\n",
       "      <th>3</th>\n",
       "      <td>4</td>\n",
       "      <td>Get Shorty (1995)</td>\n",
       "      <td>01-Jan-1995</td>\n",
       "      <td>NaN</td>\n",
       "      <td>http://us.imdb.com/M/title-exact?Get%20Shorty%...</td>\n",
       "    </tr>\n",
       "    <tr>\n",
       "      <th>4</th>\n",
       "      <td>5</td>\n",
       "      <td>Copycat (1995)</td>\n",
       "      <td>01-Jan-1995</td>\n",
       "      <td>NaN</td>\n",
       "      <td>http://us.imdb.com/M/title-exact?Copycat%20(1995)</td>\n",
       "    </tr>\n",
       "  </tbody>\n",
       "</table>\n",
       "</div>"
      ],
      "text/plain": [
       "   movie_id              title release_date  video_release_date  \\\n",
       "0         1   Toy Story (1995)  01-Jan-1995                 NaN   \n",
       "1         2   GoldenEye (1995)  01-Jan-1995                 NaN   \n",
       "2         3  Four Rooms (1995)  01-Jan-1995                 NaN   \n",
       "3         4  Get Shorty (1995)  01-Jan-1995                 NaN   \n",
       "4         5     Copycat (1995)  01-Jan-1995                 NaN   \n",
       "\n",
       "                                            imdb_url  \n",
       "0  http://us.imdb.com/M/title-exact?Toy%20Story%2...  \n",
       "1  http://us.imdb.com/M/title-exact?GoldenEye%20(...  \n",
       "2  http://us.imdb.com/M/title-exact?Four%20Rooms%...  \n",
       "3  http://us.imdb.com/M/title-exact?Get%20Shorty%...  \n",
       "4  http://us.imdb.com/M/title-exact?Copycat%20(1995)  "
      ]
     },
     "execution_count": 45,
     "metadata": {},
     "output_type": "execute_result"
    }
   ],
   "source": [
    "df_movies.head()"
   ]
  },
  {
   "cell_type": "markdown",
   "metadata": {},
   "source": [
    "### b) `.describe()`\n",
    "Use the `.describe()` method to see the basic statistics about the DataFrame's **numeric columns**. Be careful though, since this will return information on **all** columns of a numeric datatype."
   ]
  },
  {
   "cell_type": "code",
   "execution_count": 46,
   "metadata": {},
   "outputs": [
    {
     "data": {
      "text/html": [
       "<div>\n",
       "<style scoped>\n",
       "    .dataframe tbody tr th:only-of-type {\n",
       "        vertical-align: middle;\n",
       "    }\n",
       "\n",
       "    .dataframe tbody tr th {\n",
       "        vertical-align: top;\n",
       "    }\n",
       "\n",
       "    .dataframe thead th {\n",
       "        text-align: right;\n",
       "    }\n",
       "</style>\n",
       "<table border=\"1\" class=\"dataframe\">\n",
       "  <thead>\n",
       "    <tr style=\"text-align: right;\">\n",
       "      <th></th>\n",
       "      <th>user_id</th>\n",
       "      <th>age</th>\n",
       "    </tr>\n",
       "  </thead>\n",
       "  <tbody>\n",
       "    <tr>\n",
       "      <th>count</th>\n",
       "      <td>942.000000</td>\n",
       "      <td>942.000000</td>\n",
       "    </tr>\n",
       "    <tr>\n",
       "      <th>mean</th>\n",
       "      <td>472.500000</td>\n",
       "      <td>34.062633</td>\n",
       "    </tr>\n",
       "    <tr>\n",
       "      <th>std</th>\n",
       "      <td>272.076276</td>\n",
       "      <td>12.194810</td>\n",
       "    </tr>\n",
       "    <tr>\n",
       "      <th>min</th>\n",
       "      <td>2.000000</td>\n",
       "      <td>7.000000</td>\n",
       "    </tr>\n",
       "    <tr>\n",
       "      <th>25%</th>\n",
       "      <td>237.250000</td>\n",
       "      <td>25.000000</td>\n",
       "    </tr>\n",
       "    <tr>\n",
       "      <th>50%</th>\n",
       "      <td>472.500000</td>\n",
       "      <td>31.000000</td>\n",
       "    </tr>\n",
       "    <tr>\n",
       "      <th>75%</th>\n",
       "      <td>707.750000</td>\n",
       "      <td>43.000000</td>\n",
       "    </tr>\n",
       "    <tr>\n",
       "      <th>max</th>\n",
       "      <td>943.000000</td>\n",
       "      <td>73.000000</td>\n",
       "    </tr>\n",
       "  </tbody>\n",
       "</table>\n",
       "</div>"
      ],
      "text/plain": [
       "          user_id         age\n",
       "count  942.000000  942.000000\n",
       "mean   472.500000   34.062633\n",
       "std    272.076276   12.194810\n",
       "min      2.000000    7.000000\n",
       "25%    237.250000   25.000000\n",
       "50%    472.500000   31.000000\n",
       "75%    707.750000   43.000000\n",
       "max    943.000000   73.000000"
      ]
     },
     "execution_count": 46,
     "metadata": {},
     "output_type": "execute_result"
    }
   ],
   "source": [
    "df_users.describe()"
   ]
  },
  {
   "cell_type": "markdown",
   "metadata": {},
   "source": [
    "Notice `user_id` was included since it's numeric. Since this is an ID value, the stats for it don't really matter.\n",
    "\n",
    "We can quickly see the average age of our users is just above 34 years old, with the youngest being 7 and the oldest being 73. The median age is 31, with the youngest quartile of users being 25 or younger, and the oldest quartile being at least 43."
   ]
  },
  {
   "cell_type": "markdown",
   "metadata": {},
   "source": [
    "### c) `.head(), tail(), [i:j]`\n",
    "By default, **`.head()`** displays the first five records of the DataFrame, while **`.tail()`** displays the last five.<br>\n",
    "Alternatively, Python's regular slicing **`[i:j]`** syntax works as well."
   ]
  },
  {
   "cell_type": "code",
   "execution_count": 47,
   "metadata": {},
   "outputs": [
    {
     "name": "stdout",
     "output_type": "stream",
     "text": [
      "   user_id  age sex  occupation zip_code\n",
      "0        2   53   F       other    94043\n",
      "1        3   23   M      writer    32067\n",
      "2        4   24   M  technician    43537\n",
      "3        5   33   F       other    15213\n",
      "4        6   42   M   executive    98101\n"
     ]
    }
   ],
   "source": [
    "print (df_users.head())"
   ]
  },
  {
   "cell_type": "code",
   "execution_count": 48,
   "metadata": {},
   "outputs": [
    {
     "name": "stdout",
     "output_type": "stream",
     "text": [
      "     user_id  age sex     occupation zip_code\n",
      "937      939   26   F        student    33319\n",
      "938      940   32   M  administrator    02215\n",
      "939      941   20   M        student    97229\n",
      "940      942   48   F      librarian    78209\n",
      "941      943   22   M        student    77841\n"
     ]
    }
   ],
   "source": [
    "print (df_users.tail())"
   ]
  },
  {
   "cell_type": "code",
   "execution_count": 49,
   "metadata": {},
   "outputs": [
    {
     "name": "stdout",
     "output_type": "stream",
     "text": [
      "     user_id  age sex occupation zip_code\n",
      "740      742   35   M    student    29210\n"
     ]
    }
   ],
   "source": [
    "print (df_users[740:741])"
   ]
  },
  {
   "cell_type": "markdown",
   "metadata": {},
   "source": [
    "## 2. Select\n",
    "\n",
    "### a) Column Selection\n",
    "\n",
    "You can think of a DataFrame as a group of Series (ie: rows) that share an index (ie: column headers). This makes it easy to select specific columns.\n",
    "\n",
    "**Single column selection**<br>\n",
    "Selecting a single column from the DataFrame will return a **Series object**."
   ]
  },
  {
   "cell_type": "code",
   "execution_count": 50,
   "metadata": {},
   "outputs": [
    {
     "data": {
      "text/plain": [
       "0    2\n",
       "1    3\n",
       "2    4\n",
       "3    5\n",
       "4    6\n",
       "Name: user_id, dtype: int64"
      ]
     },
     "execution_count": 50,
     "metadata": {},
     "output_type": "execute_result"
    }
   ],
   "source": [
    "df_users['user_id'].head()"
   ]
  },
  {
   "cell_type": "code",
   "execution_count": 51,
   "metadata": {},
   "outputs": [
    {
     "data": {
      "text/plain": [
       "0         other\n",
       "1        writer\n",
       "2    technician\n",
       "3         other\n",
       "4     executive\n",
       "Name: occupation, dtype: object"
      ]
     },
     "execution_count": 51,
     "metadata": {},
     "output_type": "execute_result"
    }
   ],
   "source": [
    "df_users['occupation'].head()"
   ]
  },
  {
   "cell_type": "markdown",
   "metadata": {},
   "source": [
    "**Multiple columns selection**<br>\n",
    "To select multiple columns, simply pass a **list of column names** to the DataFrame, the output of which will be a **DataFrame**."
   ]
  },
  {
   "cell_type": "code",
   "execution_count": 52,
   "metadata": {},
   "outputs": [
    {
     "name": "stdout",
     "output_type": "stream",
     "text": [
      "   occupation sex\n",
      "0       other   F\n",
      "1      writer   M\n",
      "2  technician   M\n",
      "3       other   F\n",
      "4   executive   M\n"
     ]
    }
   ],
   "source": [
    "list_of_cols = ['occupation', 'sex'] \n",
    "print (df_users[list_of_cols].head())"
   ]
  },
  {
   "cell_type": "code",
   "execution_count": 53,
   "metadata": {},
   "outputs": [
    {
     "data": {
      "text/plain": [
       "['occupation', 'sex']"
      ]
     },
     "execution_count": 53,
     "metadata": {},
     "output_type": "execute_result"
    }
   ],
   "source": [
    "list_of_cols"
   ]
  },
  {
   "cell_type": "markdown",
   "metadata": {},
   "source": [
    "### b) Row Selection\n",
    "Row selection can be done [multiple ways](http://pandas.pydata.org/pandas-docs/stable/indexing.html), but using **boolean indexing** or **individual index `.ix()`** are typically easiest.\n",
    "\n",
    "#### Boolean Indexing"
   ]
  },
  {
   "cell_type": "code",
   "execution_count": 54,
   "metadata": {},
   "outputs": [
    {
     "data": {
      "text/html": [
       "<div>\n",
       "<style scoped>\n",
       "    .dataframe tbody tr th:only-of-type {\n",
       "        vertical-align: middle;\n",
       "    }\n",
       "\n",
       "    .dataframe tbody tr th {\n",
       "        vertical-align: top;\n",
       "    }\n",
       "\n",
       "    .dataframe thead th {\n",
       "        text-align: right;\n",
       "    }\n",
       "</style>\n",
       "<table border=\"1\" class=\"dataframe\">\n",
       "  <thead>\n",
       "    <tr style=\"text-align: right;\">\n",
       "      <th></th>\n",
       "      <th>movie_id</th>\n",
       "      <th>title</th>\n",
       "      <th>release_date</th>\n",
       "      <th>video_release_date</th>\n",
       "      <th>imdb_url</th>\n",
       "    </tr>\n",
       "  </thead>\n",
       "  <tbody>\n",
       "    <tr>\n",
       "      <th>0</th>\n",
       "      <td>1</td>\n",
       "      <td>Toy Story (1995)</td>\n",
       "      <td>01-Jan-1995</td>\n",
       "      <td>NaN</td>\n",
       "      <td>http://us.imdb.com/M/title-exact?Toy%20Story%2...</td>\n",
       "    </tr>\n",
       "    <tr>\n",
       "      <th>1</th>\n",
       "      <td>2</td>\n",
       "      <td>GoldenEye (1995)</td>\n",
       "      <td>01-Jan-1995</td>\n",
       "      <td>NaN</td>\n",
       "      <td>http://us.imdb.com/M/title-exact?GoldenEye%20(...</td>\n",
       "    </tr>\n",
       "    <tr>\n",
       "      <th>2</th>\n",
       "      <td>3</td>\n",
       "      <td>Four Rooms (1995)</td>\n",
       "      <td>01-Jan-1995</td>\n",
       "      <td>NaN</td>\n",
       "      <td>http://us.imdb.com/M/title-exact?Four%20Rooms%...</td>\n",
       "    </tr>\n",
       "    <tr>\n",
       "      <th>3</th>\n",
       "      <td>4</td>\n",
       "      <td>Get Shorty (1995)</td>\n",
       "      <td>01-Jan-1995</td>\n",
       "      <td>NaN</td>\n",
       "      <td>http://us.imdb.com/M/title-exact?Get%20Shorty%...</td>\n",
       "    </tr>\n",
       "    <tr>\n",
       "      <th>4</th>\n",
       "      <td>5</td>\n",
       "      <td>Copycat (1995)</td>\n",
       "      <td>01-Jan-1995</td>\n",
       "      <td>NaN</td>\n",
       "      <td>http://us.imdb.com/M/title-exact?Copycat%20(1995)</td>\n",
       "    </tr>\n",
       "  </tbody>\n",
       "</table>\n",
       "</div>"
      ],
      "text/plain": [
       "   movie_id              title release_date  video_release_date  \\\n",
       "0         1   Toy Story (1995)  01-Jan-1995                 NaN   \n",
       "1         2   GoldenEye (1995)  01-Jan-1995                 NaN   \n",
       "2         3  Four Rooms (1995)  01-Jan-1995                 NaN   \n",
       "3         4  Get Shorty (1995)  01-Jan-1995                 NaN   \n",
       "4         5     Copycat (1995)  01-Jan-1995                 NaN   \n",
       "\n",
       "                                            imdb_url  \n",
       "0  http://us.imdb.com/M/title-exact?Toy%20Story%2...  \n",
       "1  http://us.imdb.com/M/title-exact?GoldenEye%20(...  \n",
       "2  http://us.imdb.com/M/title-exact?Four%20Rooms%...  \n",
       "3  http://us.imdb.com/M/title-exact?Get%20Shorty%...  \n",
       "4  http://us.imdb.com/M/title-exact?Copycat%20(1995)  "
      ]
     },
     "execution_count": 54,
     "metadata": {},
     "output_type": "execute_result"
    }
   ],
   "source": [
    "df_movies.head()"
   ]
  },
  {
   "cell_type": "code",
   "execution_count": 55,
   "metadata": {},
   "outputs": [
    {
     "name": "stdout",
     "output_type": "stream",
     "text": [
      "<class 'pandas.core.frame.DataFrame'>\n",
      "RangeIndex: 1682 entries, 0 to 1681\n",
      "Data columns (total 5 columns):\n",
      " #   Column              Non-Null Count  Dtype  \n",
      "---  ------              --------------  -----  \n",
      " 0   movie_id            1682 non-null   int64  \n",
      " 1   title               1682 non-null   object \n",
      " 2   release_date        1681 non-null   object \n",
      " 3   video_release_date  0 non-null      float64\n",
      " 4   imdb_url            1679 non-null   object \n",
      "dtypes: float64(1), int64(1), object(3)\n",
      "memory usage: 65.8+ KB\n"
     ]
    }
   ],
   "source": [
    "df_movies.info()"
   ]
  },
  {
   "cell_type": "code",
   "execution_count": 56,
   "metadata": {},
   "outputs": [
    {
     "name": "stdout",
     "output_type": "stream",
     "text": [
      "<class 'pandas.core.frame.DataFrame'>\n",
      "RangeIndex: 942 entries, 0 to 941\n",
      "Data columns (total 5 columns):\n",
      " #   Column      Non-Null Count  Dtype \n",
      "---  ------      --------------  ----- \n",
      " 0   user_id     942 non-null    int64 \n",
      " 1   age         942 non-null    int64 \n",
      " 2   sex         942 non-null    object\n",
      " 3   occupation  942 non-null    object\n",
      " 4   zip_code    942 non-null    object\n",
      "dtypes: int64(2), object(3)\n",
      "memory usage: 36.9+ KB\n"
     ]
    }
   ],
   "source": [
    "df_users.info()"
   ]
  },
  {
   "cell_type": "code",
   "execution_count": 57,
   "metadata": {},
   "outputs": [
    {
     "name": "stdout",
     "output_type": "stream",
     "text": [
      "   user_id  age sex     occupation zip_code\n",
      "0        2   53   F          other    94043\n",
      "3        5   33   F          other    15213\n",
      "4        6   42   M      executive    98101\n",
      "5        7   57   M  administrator    91344\n",
      "6        8   36   M  administrator    05201\n",
      "7        9   29   M        student    01002\n",
      "8       10   53   M         lawyer    90703 \n",
      "\n"
     ]
    }
   ],
   "source": [
    "# users older than 25\n",
    "print (df_users[df_users.age > 25].head(7), '\\n')"
   ]
  },
  {
   "cell_type": "code",
   "execution_count": 58,
   "metadata": {},
   "outputs": [
    {
     "name": "stdout",
     "output_type": "stream",
     "text": [
      "    user_id  age sex  occupation zip_code\n",
      "19       21   26   M      writer    30068\n",
      "42       44   26   M  technician    46260\n",
      "51       53   26   M  programmer    55414 \n",
      "\n",
      "    user_id  age sex     occupation zip_code\n",
      "0         2   53   F          other    94043\n",
      "1         3   23   M         writer    32067\n",
      "2         4   24   M     technician    43537\n",
      "3         5   33   F          other    15213\n",
      "7         9   29   M        student    01002\n",
      "9        11   39   F          other    30329\n",
      "10       12   28   F          other    06405\n",
      "13       15   49   F       educator    97301\n",
      "14       16   21   M  entertainment    10309\n",
      "16       18   35   F          other    37212\n"
     ]
    }
   ],
   "source": [
    "# users aged 40 AND male\n",
    "print (df_users[(df_users.age == 26) & (df_users.sex == 'M')].head(3), '\\n')\n",
    "\n",
    "# users younger than 30 OR female\n",
    "print (df_users[(df_users.sex == 'F') | (df_users.age < 30)].head(10))"
   ]
  },
  {
   "cell_type": "code",
   "execution_count": 59,
   "metadata": {},
   "outputs": [
    {
     "name": "stdout",
     "output_type": "stream",
     "text": [
      "   user_id  age sex  occupation zip_code\n",
      "1        3   23   M      writer    32067\n",
      "2        4   24   M  technician    43537\n",
      "7        9   29   M     student    01002\n"
     ]
    }
   ],
   "source": [
    "# users younger than 30 \n",
    "print (df_users[(df_users.age < 30)].head(3))"
   ]
  },
  {
   "cell_type": "code",
   "execution_count": 60,
   "metadata": {},
   "outputs": [
    {
     "name": "stdout",
     "output_type": "stream",
     "text": [
      "    user_id  age sex occupation zip_code\n",
      "0         2   53   F      other    94043\n",
      "3         5   33   F      other    15213\n",
      "9        11   39   F      other    30329\n",
      "10       12   28   F      other    06405\n",
      "13       15   49   F   educator    97301\n"
     ]
    }
   ],
   "source": [
    "# users who are female\n",
    "print (df_users[(df_users.sex == 'F')].head())"
   ]
  },
  {
   "cell_type": "code",
   "execution_count": 61,
   "metadata": {},
   "outputs": [
    {
     "name": "stdout",
     "output_type": "stream",
     "text": [
      "    user_id  age sex occupation zip_code\n",
      "10       12   28   F      other    06405\n",
      "22       24   21   F     artist    94533\n",
      "30       32   28   F    student    78741\n",
      "33       35   20   F  homemaker    42459\n",
      "34       36   19   F    student    93117\n"
     ]
    }
   ],
   "source": [
    "# users younger than 30 and female\n",
    "print (df_users[(df_users.sex == 'F') & (df_users.age < 30)].head())"
   ]
  },
  {
   "cell_type": "code",
   "execution_count": 62,
   "metadata": {},
   "outputs": [
    {
     "name": "stdout",
     "output_type": "stream",
     "text": [
      "   user_id  age sex  occupation zip_code\n",
      "0        2   53   F       other    94043\n",
      "1        3   23   M      writer    32067\n",
      "2        4   24   M  technician    43537\n",
      "3        5   33   F       other    15213\n",
      "7        9   29   M     student    01002\n"
     ]
    }
   ],
   "source": [
    "# users younger than 30 OR female\n",
    "print (df_users[(df_users.sex == 'F') | (df_users.age < 30)].head())"
   ]
  },
  {
   "cell_type": "markdown",
   "metadata": {},
   "source": [
    "#### `.ix()` method\n",
    "\n",
    "When you change the indexing of a DataFrame to a specific column, you use the default pandas 0-based index.<br>\n",
    "Use **`.ix()`** method for row selection based on the new index.\n",
    "\n",
    "Let's set the index to the `user_id` using the **`.set_index()`** method.<br>\n",
    "NB: By default, `.set_index()` returns a new DataFrame, so you'll have to specify if you'd like the changes to occur in place."
   ]
  },
  {
   "cell_type": "code",
   "execution_count": 63,
   "metadata": {},
   "outputs": [
    {
     "name": "stdout",
     "output_type": "stream",
     "text": [
      "         age sex  occupation zip_code\n",
      "user_id                              \n",
      "2         53   F       other    94043\n",
      "3         23   M      writer    32067\n",
      "4         24   M  technician    43537\n",
      "5         33   F       other    15213\n",
      "6         42   M   executive    98101\n",
      "/n\n",
      "         age sex  occupation zip_code\n",
      "user_id                              \n",
      "2         53   F       other    94043\n",
      "3         23   M      writer    32067\n",
      "4         24   M  technician    43537\n"
     ]
    }
   ],
   "source": [
    "# Change index column (new DataFrame)\n",
    "new_df_users = df_users.set_index('user_id')\n",
    "print (new_df_users.head())\n",
    "print('/n')\n",
    "# Change index column (inplace)\n",
    "df_users.set_index('user_id', inplace=True)\n",
    "print (df_users.head(3))"
   ]
  },
  {
   "cell_type": "code",
   "execution_count": 64,
   "metadata": {},
   "outputs": [
    {
     "name": "stdout",
     "output_type": "stream",
     "text": [
      "age                20\n",
      "sex                 M\n",
      "occupation    student\n",
      "zip_code        63129\n",
      "Name: 99, dtype: object\n"
     ]
    }
   ],
   "source": [
    "print (df_users.loc[99])"
   ]
  },
  {
   "cell_type": "markdown",
   "metadata": {},
   "source": [
    "Use the **`.reset_index()`** method to reset the default index (the same rule apply for inplace)."
   ]
  },
  {
   "cell_type": "code",
   "execution_count": 68,
   "metadata": {},
   "outputs": [
    {
     "name": "stdout",
     "output_type": "stream",
     "text": [
      "   user_id  age sex  occupation zip_code\n",
      "0        2   53   F       other    94043\n",
      "1        3   23   M      writer    32067\n",
      "2        4   24   M  technician    43537\n",
      "3        5   33   F       other    15213\n",
      "4        6   42   M   executive    98101\n"
     ]
    }
   ],
   "source": [
    "df_users.reset_index(inplace=True)\n",
    "print (df_users.head())"
   ]
  },
  {
   "cell_type": "code",
   "execution_count": 69,
   "metadata": {},
   "outputs": [
    {
     "name": "stdout",
     "output_type": "stream",
     "text": [
      "user_id           101\n",
      "age                15\n",
      "sex                 M\n",
      "occupation    student\n",
      "zip_code        05146\n",
      "Name: 99, dtype: object\n"
     ]
    }
   ],
   "source": [
    "print (df_users.loc[99])"
   ]
  },
  {
   "cell_type": "markdown",
   "metadata": {},
   "source": [
    "## 3. Sort\n",
    "\n",
    "### a) `.sort()` for DataFrames\n",
    "Use **`.sort()`** method to sort DataFrames. Returns a new instance of a Dataframe. (See [DOC](http://pandas.pydata.org/pandas-docs/stable/generated/pandas.DataFrame.sort.html))\n",
    "\n",
    ">- `column` : column name to base the sorting on (list for nested sorting / tuple for multi-index sorting)\n",
    ">- `ascending (True)` : sort ascending vs. descending (specify list for multiple sort orders)\n",
    ">- `inplace (False)`: result is a new instance of DataFrame"
   ]
  },
  {
   "cell_type": "code",
   "execution_count": 70,
   "metadata": {},
   "outputs": [
    {
     "data": {
      "text/html": [
       "<div>\n",
       "<style scoped>\n",
       "    .dataframe tbody tr th:only-of-type {\n",
       "        vertical-align: middle;\n",
       "    }\n",
       "\n",
       "    .dataframe tbody tr th {\n",
       "        vertical-align: top;\n",
       "    }\n",
       "\n",
       "    .dataframe thead th {\n",
       "        text-align: right;\n",
       "    }\n",
       "</style>\n",
       "<table border=\"1\" class=\"dataframe\">\n",
       "  <thead>\n",
       "    <tr style=\"text-align: right;\">\n",
       "      <th></th>\n",
       "      <th>user_id</th>\n",
       "      <th>age</th>\n",
       "      <th>sex</th>\n",
       "      <th>occupation</th>\n",
       "      <th>zip_code</th>\n",
       "    </tr>\n",
       "  </thead>\n",
       "  <tbody>\n",
       "    <tr>\n",
       "      <th>28</th>\n",
       "      <td>30</td>\n",
       "      <td>7</td>\n",
       "      <td>M</td>\n",
       "      <td>student</td>\n",
       "      <td>55436</td>\n",
       "    </tr>\n",
       "    <tr>\n",
       "      <th>469</th>\n",
       "      <td>471</td>\n",
       "      <td>10</td>\n",
       "      <td>M</td>\n",
       "      <td>student</td>\n",
       "      <td>77459</td>\n",
       "    </tr>\n",
       "    <tr>\n",
       "      <th>287</th>\n",
       "      <td>289</td>\n",
       "      <td>11</td>\n",
       "      <td>M</td>\n",
       "      <td>none</td>\n",
       "      <td>94619</td>\n",
       "    </tr>\n",
       "    <tr>\n",
       "      <th>626</th>\n",
       "      <td>628</td>\n",
       "      <td>13</td>\n",
       "      <td>M</td>\n",
       "      <td>none</td>\n",
       "      <td>94306</td>\n",
       "    </tr>\n",
       "    <tr>\n",
       "      <th>878</th>\n",
       "      <td>880</td>\n",
       "      <td>13</td>\n",
       "      <td>M</td>\n",
       "      <td>student</td>\n",
       "      <td>83702</td>\n",
       "    </tr>\n",
       "  </tbody>\n",
       "</table>\n",
       "</div>"
      ],
      "text/plain": [
       "     user_id  age sex occupation zip_code\n",
       "28        30    7   M    student    55436\n",
       "469      471   10   M    student    77459\n",
       "287      289   11   M       none    94619\n",
       "626      628   13   M       none    94306\n",
       "878      880   13   M    student    83702"
      ]
     },
     "execution_count": 70,
     "metadata": {},
     "output_type": "execute_result"
    }
   ],
   "source": [
    "df_users.sort_values('age', ascending=True, inplace=False).head()"
   ]
  },
  {
   "cell_type": "code",
   "execution_count": 71,
   "metadata": {},
   "outputs": [
    {
     "data": {
      "text/html": [
       "<div>\n",
       "<style scoped>\n",
       "    .dataframe tbody tr th:only-of-type {\n",
       "        vertical-align: middle;\n",
       "    }\n",
       "\n",
       "    .dataframe tbody tr th {\n",
       "        vertical-align: top;\n",
       "    }\n",
       "\n",
       "    .dataframe thead th {\n",
       "        text-align: right;\n",
       "    }\n",
       "</style>\n",
       "<table border=\"1\" class=\"dataframe\">\n",
       "  <thead>\n",
       "    <tr style=\"text-align: right;\">\n",
       "      <th></th>\n",
       "      <th>user_id</th>\n",
       "      <th>age</th>\n",
       "      <th>sex</th>\n",
       "      <th>occupation</th>\n",
       "      <th>zip_code</th>\n",
       "    </tr>\n",
       "  </thead>\n",
       "  <tbody>\n",
       "    <tr>\n",
       "      <th>0</th>\n",
       "      <td>2</td>\n",
       "      <td>53</td>\n",
       "      <td>F</td>\n",
       "      <td>other</td>\n",
       "      <td>94043</td>\n",
       "    </tr>\n",
       "    <tr>\n",
       "      <th>1</th>\n",
       "      <td>3</td>\n",
       "      <td>23</td>\n",
       "      <td>M</td>\n",
       "      <td>writer</td>\n",
       "      <td>32067</td>\n",
       "    </tr>\n",
       "    <tr>\n",
       "      <th>2</th>\n",
       "      <td>4</td>\n",
       "      <td>24</td>\n",
       "      <td>M</td>\n",
       "      <td>technician</td>\n",
       "      <td>43537</td>\n",
       "    </tr>\n",
       "    <tr>\n",
       "      <th>3</th>\n",
       "      <td>5</td>\n",
       "      <td>33</td>\n",
       "      <td>F</td>\n",
       "      <td>other</td>\n",
       "      <td>15213</td>\n",
       "    </tr>\n",
       "    <tr>\n",
       "      <th>4</th>\n",
       "      <td>6</td>\n",
       "      <td>42</td>\n",
       "      <td>M</td>\n",
       "      <td>executive</td>\n",
       "      <td>98101</td>\n",
       "    </tr>\n",
       "  </tbody>\n",
       "</table>\n",
       "</div>"
      ],
      "text/plain": [
       "   user_id  age sex  occupation zip_code\n",
       "0        2   53   F       other    94043\n",
       "1        3   23   M      writer    32067\n",
       "2        4   24   M  technician    43537\n",
       "3        5   33   F       other    15213\n",
       "4        6   42   M   executive    98101"
      ]
     },
     "execution_count": 71,
     "metadata": {},
     "output_type": "execute_result"
    }
   ],
   "source": [
    "df_users.head()"
   ]
  },
  {
   "cell_type": "code",
   "execution_count": 72,
   "metadata": {},
   "outputs": [],
   "source": [
    "df_users.sort_values('age', ascending=False, inplace=True)"
   ]
  },
  {
   "cell_type": "code",
   "execution_count": 73,
   "metadata": {},
   "outputs": [],
   "source": [
    "df_users.sort_values('age', ascending=False, inplace=True)"
   ]
  },
  {
   "cell_type": "code",
   "execution_count": 74,
   "metadata": {},
   "outputs": [
    {
     "name": "stdout",
     "output_type": "stream",
     "text": [
      "     user_id  age sex  occupation zip_code\n",
      "195      197   55   M  technician    75094\n",
      "439      441   50   M  technician    55013\n",
      "323      325   48   M  technician    02139\n",
      "486      488   48   M  technician    21012\n",
      "456      458   47   M  technician    Y1A6B\n"
     ]
    }
   ],
   "source": [
    "# Oldest techicians\n",
    "df_users.sort_values('age', ascending=False, inplace=True)\n",
    "print (df_users[df_users.occupation == \"technician\"][:5])"
   ]
  },
  {
   "cell_type": "markdown",
   "metadata": {},
   "source": [
    "## 4. Operations\n",
    "\n",
    "### a) Descriptive Stats\n",
    "\n",
    "A large number of methods for computing descriptive statistics and other related operations on Series, DataFrame, and Panel. For DataFrames these methods take an axis argument:\n",
    ">- axis=0 : compute over indexes\n",
    ">- axis=1 : compute over columns\n",
    "\n",
    "Most methods produce a lower-dimensional result (aka aggregate functions) :\n",
    "- `.count()`: number of NOT NULL values\n",
    "- `.nunique()`: number of unique NOT NULL values\n",
    "- `.size()` : number of values\n",
    "- `.min()`:\tminimum\n",
    "- `.max()`:\tmaximum\n",
    "- `.sum()`:\tsum of values\n",
    "- `.prod()`: product of values\n",
    "- `.median()`: arithmetic median of values\n",
    "- `.quantile()`: sample quantile (value at %)\n",
    "- `.mean()`: mean of values\n",
    "- `.std()`:\tunbiased standard deviation\n",
    "- `.var()`:\tunbiased variance\n",
    "- `.mad()`:\tmean absolute deviation\n",
    "- `.sem()`:\tunbiased standard error of the mean\n",
    "- `.skew()`: unbiased skewness (3rd moment)\n",
    "- `.kurt()`: unbiased kurtosis (4th moment)\n",
    "\n",
    "Some methods produce an object of the same size :\n",
    "- `.rank()`: compute data rank (1 through n)\n",
    "- `.mode()`: mode\n",
    "- `.abs()`:\tabsolute value\n",
    "- `.cumsum()`: cumulative sum\n",
    "- `.cumprod()`: cumulative product\n",
    "- `.cummax()`: cumulative maximum\n",
    "- `.cummin()`: cumulative minimum\n"
   ]
  },
  {
   "cell_type": "code",
   "execution_count": 75,
   "metadata": {},
   "outputs": [
    {
     "data": {
      "text/plain": [
       "user_id       942\n",
       "age           942\n",
       "sex           942\n",
       "occupation    942\n",
       "zip_code      942\n",
       "dtype: int64"
      ]
     },
     "execution_count": 75,
     "metadata": {},
     "output_type": "execute_result"
    }
   ],
   "source": [
    "df_users.count()"
   ]
  },
  {
   "cell_type": "code",
   "execution_count": 76,
   "metadata": {},
   "outputs": [
    {
     "data": {
      "text/plain": [
       "73"
      ]
     },
     "execution_count": 76,
     "metadata": {},
     "output_type": "execute_result"
    }
   ],
   "source": [
    "df_users.age.max()"
   ]
  },
  {
   "cell_type": "code",
   "execution_count": 77,
   "metadata": {},
   "outputs": [
    {
     "data": {
      "text/plain": [
       "34.06263269639066"
      ]
     },
     "execution_count": 77,
     "metadata": {},
     "output_type": "execute_result"
    }
   ],
   "source": [
    "df_users.age.mean()"
   ]
  },
  {
   "cell_type": "code",
   "execution_count": 78,
   "metadata": {},
   "outputs": [
    {
     "data": {
      "text/plain": [
       "31.0"
      ]
     },
     "execution_count": 78,
     "metadata": {},
     "output_type": "execute_result"
    }
   ],
   "source": [
    "df_users.age.median()"
   ]
  },
  {
   "cell_type": "markdown",
   "metadata": {},
   "source": [
    "### b) Apply\n",
    "\n",
    "To apply **your own or another library’s functions** to pandas objects, you should be aware of the three methods below. The appropriate method to use depends on whether your function expects to operate on an entire DataFrame or Series, row- or column-wise, or elementwise.\n",
    "\n",
    "- Tablewise Function Application: **`.pipe()`**\n",
    "- Row or Column-wise Function Application: **`.apply()`**\n",
    "- Elementwise function application: **`.applymap()`** or **`.map()`**\n",
    "\n",
    "#### `.pipe()`\n",
    "Use `.pipe()` for method chaining **over a DataFrame**. (See [DOC](http://pandas.pydata.org/pandas-docs/stable/generated/pandas.DataFrame.pipe.html))<br>\n",
    "The following two are equivalent :\n",
    "    - f(g(h(df), arg1=1), arg2=2, arg3=3)\n",
    "    - df.pipe(h).pipe(g, arg1=1).pipe(f, arg2=2, arg3=3)\n",
    "The pipe method is inspired by unix pipes and more recently dplyr and magrittr, which have introduced the popular (%>%) (read pipe) operator for R.\n",
    "\n",
    "#### `.apply()`\n",
    "Use `.apply()` to apply a function **along the axes** of a DataFrame, like the descriptive statistics methods. (See [DOC](http://pandas.pydata.org/pandas-docs/stable/generated/pandas.DataFrame.apply.html))<br>\n",
    "\n",
    "    - df.apply(np.mean, axis=1)\n",
    "    - df.apply(lambda x: x.max() - x.min())\n",
    "\n",
    "#### `.applymap()` / `.map()`\n",
    "Use `.applymap()` on DataFrame or `.map()` on Series to **operate elementwise**.<br>\n",
    "The vectorized function must take a single value and return a single value.(See [DOC](http://pandas.pydata.org/pandas-docs/stable/generated/pandas.DataFrame.applymap.html))<br>\n",
    "\n",
    "    - df.applymap(lambda x: len(str(x)))\n",
    "    - df['colA'].map(lambda x: len(str(x)))\n"
   ]
  },
  {
   "cell_type": "markdown",
   "metadata": {},
   "source": [
    "### c) Bins\n",
    "\n",
    "Use **`pandas.cut()`** static method to bin numeric values into groups. Useful for discretization. ([DOC](http://pandas.pydata.org/pandas-docs/stable/generated/pandas.cut.html))\n",
    "\n",
    "`pandas.cut(x, bins)` returns an array of the indices (or labels) of the half-open bins to which each value of `x` belongs.\n",
    "\n",
    ">- `x` : array of values to be binned\n",
    ">- `bins` : sequence defining the bin edges\n",
    ">- `right` (True): boolean indicating whether the bins include the rightmost edge or not ([a,b] or [a,b[)\n",
    ">- `labels` (None): array used as labels for the resulting bins\n"
   ]
  },
  {
   "cell_type": "code",
   "execution_count": 79,
   "metadata": {},
   "outputs": [
    {
     "data": {
      "text/html": [
       "<div>\n",
       "<style scoped>\n",
       "    .dataframe tbody tr th:only-of-type {\n",
       "        vertical-align: middle;\n",
       "    }\n",
       "\n",
       "    .dataframe tbody tr th {\n",
       "        vertical-align: top;\n",
       "    }\n",
       "\n",
       "    .dataframe thead th {\n",
       "        text-align: right;\n",
       "    }\n",
       "</style>\n",
       "<table border=\"1\" class=\"dataframe\">\n",
       "  <thead>\n",
       "    <tr style=\"text-align: right;\">\n",
       "      <th></th>\n",
       "      <th>user_id</th>\n",
       "      <th>age</th>\n",
       "      <th>sex</th>\n",
       "      <th>occupation</th>\n",
       "      <th>zip_code</th>\n",
       "    </tr>\n",
       "  </thead>\n",
       "  <tbody>\n",
       "    <tr>\n",
       "      <th>479</th>\n",
       "      <td>481</td>\n",
       "      <td>73</td>\n",
       "      <td>M</td>\n",
       "      <td>retired</td>\n",
       "      <td>37771</td>\n",
       "    </tr>\n",
       "    <tr>\n",
       "      <th>801</th>\n",
       "      <td>803</td>\n",
       "      <td>70</td>\n",
       "      <td>M</td>\n",
       "      <td>administrator</td>\n",
       "      <td>78212</td>\n",
       "    </tr>\n",
       "    <tr>\n",
       "      <th>765</th>\n",
       "      <td>767</td>\n",
       "      <td>70</td>\n",
       "      <td>M</td>\n",
       "      <td>engineer</td>\n",
       "      <td>00000</td>\n",
       "    </tr>\n",
       "    <tr>\n",
       "      <th>858</th>\n",
       "      <td>860</td>\n",
       "      <td>70</td>\n",
       "      <td>F</td>\n",
       "      <td>retired</td>\n",
       "      <td>48322</td>\n",
       "    </tr>\n",
       "    <tr>\n",
       "      <th>557</th>\n",
       "      <td>559</td>\n",
       "      <td>69</td>\n",
       "      <td>M</td>\n",
       "      <td>executive</td>\n",
       "      <td>10022</td>\n",
       "    </tr>\n",
       "  </tbody>\n",
       "</table>\n",
       "</div>"
      ],
      "text/plain": [
       "     user_id  age sex     occupation zip_code\n",
       "479      481   73   M        retired    37771\n",
       "801      803   70   M  administrator    78212\n",
       "765      767   70   M       engineer    00000\n",
       "858      860   70   F        retired    48322\n",
       "557      559   69   M      executive    10022"
      ]
     },
     "execution_count": 79,
     "metadata": {},
     "output_type": "execute_result"
    }
   ],
   "source": [
    "df_users.head()"
   ]
  },
  {
   "cell_type": "code",
   "execution_count": 80,
   "metadata": {},
   "outputs": [
    {
     "data": {
      "text/plain": [
       "[0, 10, 20, 30, 40, 50, 60, 70, 80]"
      ]
     },
     "execution_count": 80,
     "metadata": {},
     "output_type": "execute_result"
    }
   ],
   "source": [
    "bins = range(0, 81, 10)\n",
    "list(bins)"
   ]
  },
  {
   "cell_type": "code",
   "execution_count": 81,
   "metadata": {},
   "outputs": [],
   "source": [
    "xyz = ['A', '10-19', '20-29', '30-39', '40-49', '50-59', '60-69', 'Sr. Cit.']"
   ]
  },
  {
   "cell_type": "code",
   "execution_count": 82,
   "metadata": {},
   "outputs": [
    {
     "name": "stdout",
     "output_type": "stream",
     "text": [
      "     user_id  age sex     occupation zip_code age_group\n",
      "479      481   73   M        retired    37771  Sr. Cit.\n",
      "801      803   70   M  administrator    78212  Sr. Cit.\n",
      "765      767   70   M       engineer    00000  Sr. Cit.\n",
      "858      860   70   F        retired    48322  Sr. Cit.\n",
      "557      559   69   M      executive    10022     60-69\n",
      "583      585   69   M      librarian    98501     60-69\n",
      "347      349   68   M        retired    61455     60-69\n",
      "571      573   68   M        retired    48911     60-69\n",
      "209      211   66   M       salesman    32605     60-69\n",
      "562      564   65   M        retired    94591     60-69\n",
      "649      651   65   M        retired    02903     60-69\n",
      "316      318   65   M        retired    06518     60-69\n",
      "421      423   64   M          other    91606     60-69\n",
      "843      845   64   M         doctor    97405     60-69\n",
      "362      364   63   M       engineer    01810     60-69\n",
      "856      858   63   M       educator    09645     60-69\n",
      "775      777   63   M     programmer    01810     60-69\n",
      "518      520   62   M     healthcare    12603     60-69\n",
      "264      266   62   F  administrator    78756     60-69\n",
      "104      106   61   M        retired    55125     60-69\n",
      "932      934   61   M       engineer    22902     60-69\n",
      "349      351   61   M       educator    49938     60-69\n",
      "462      464   60   M         writer    94583     60-69\n",
      "467      469   60   M       educator    78628     60-69\n",
      "929      931   60   M       educator    33556     60-69\n",
      "692      694   60   M     programmer    06365     60-69\n",
      "898      900   60   M        retired    18505     60-69\n",
      "306      308   60   M        retired    95076     60-69\n",
      "232      234   60   M        retired    94702     60-69\n",
      "88        90   60   M       educator    78155     60-69\n",
      "750      752   60   M        retired    21201     60-69\n",
      "752      754   59   F      librarian    62901     50-59\n",
      "817      819   59   M  administrator    40205     50-59\n",
      "129      131   59   F  administrator    15237     50-59\n",
      "551      553   58   M       educator    62901     50-59\n",
      "726      728   58   M      executive    94306     50-59\n",
      "930      932   58   M       educator    06437     50-59\n",
      "452      454   57   M          other    97330     50-59\n",
      "478      480   57   M        retired    98257     50-59\n",
      "394      396   57   M       engineer    94551     50-59\n",
      "109      111   57   M       engineer    90630     50-59\n",
      "589      591   57   F      librarian    92093     50-59\n",
      "155      157   57   M       engineer    70808     50-59\n",
      "490      492   57   M       educator    94618     50-59\n",
      "5          7   57   M  administrator    91344     50-59\n"
     ]
    }
   ],
   "source": [
    "df_users['age_group'] = pd.cut(df_users.age, bins, right=False, labels=xyz)\n",
    "print (df_users[0:45]) # preview of age bin"
   ]
  },
  {
   "cell_type": "markdown",
   "metadata": {},
   "source": [
    "### d) Histograms\n",
    "\n",
    "Use **`.value_counts()`** Series method to return the **counts** of **unique values** (ie frequency). (See [DOC](http://pandas.pydata.org/pandas-docs/stable/generated/pandas.Series.value_counts.html#pandas.Series.value_counts))\n"
   ]
  },
  {
   "cell_type": "code",
   "execution_count": 83,
   "metadata": {},
   "outputs": [
    {
     "data": {
      "text/plain": [
       "student          196\n",
       "other            105\n",
       "educator          95\n",
       "administrator     79\n",
       "engineer          67\n",
       "Name: occupation, dtype: int64"
      ]
     },
     "execution_count": 83,
     "metadata": {},
     "output_type": "execute_result"
    }
   ],
   "source": [
    "df_users['occupation'].value_counts().head()"
   ]
  },
  {
   "cell_type": "markdown",
   "metadata": {},
   "source": [
    "## 5. Split-Apply-Combine\n",
    "\n",
    "Use **`.groupby()`** method to execute the [split-apply-combine strategy](http://www.jstatsoft.org/v40/i01/paper) for data analysis :\n",
    "1. **Split** the DataFrame into groups based on some criteria (DataFrameGroupBy or SeriesGroupBy)\n",
    "2. **Apply** a function to each group independently\n",
    "3. **Combine** the results into a data structure (DataFrame or Series)\n",
    "\n",
    "![split-apply-combine-methodology](http://nbviewer.ipython.org/github/umddb/datascience-fall14/blob/master/lab3/img/splitApplyCombine.png)\n",
    "\n",
    "**DataFrameGroupBy/SeriesGroupBy Methods** (See [Doc](http://pandas.pydata.org/pandas-docs/stable/api.html#function-application))\n",
    "- `.apply()`: apply your own or another library's function or list of functions \n",
    "- `.agg()`: aggregate using input function or dict of {column: function}\n",
    "- `.transform()`: transform \n",
    "- `.filter()`: return a copy of a DataFrame excluding elements from groups\n",
    "\n",
    "<br>\n",
    "In the apply step, we might wish to do one of the following:\n",
    "- **Aggregation**: computing a summary statistic (or statistics) about each group. Some examples:\n",
    "    - Compute group columns sums and means : \n",
    "        - `gby.agg([np.sum, np.mean])`\n",
    "    - Compute group sizes and counts : \n",
    "        - `gby.agg([np.size, np.mean])`\n",
    "- **Transformation**: perform some group-specific computations on every data point. Some examples:\n",
    "    - Standardizing data (zscore) within group : \n",
    "        - `gby.transform(lambda x: (x - x.mean()) / x.std())`\n",
    "    - Filling NAs within groups with a value derived from each group\n",
    "        - `gby.fillna(x.mean())`\n",
    "- **Filtration**: discard some groups, according to a group-wise computation that evaluates True or False. Some examples:\n",
    "    - Discarding data that belongs to groups with only a few members : \n",
    "        - `gby.filter(lambda x: x.size() > 100)`\n",
    "    - Discarding data based on the group sum or mean\n",
    "        - `gby.filter(lambda x: x['A'].sum() + x['B'].sum() > 0)`\n",
    "    - Discarding data for missing data\n",
    "        - `gby.dropna(axis=0)`\n"
   ]
  },
  {
   "cell_type": "markdown",
   "metadata": {},
   "source": [
    "#### City of Chicago salaries\n",
    "The City of Chicago is kind enough to publish all city employee salaries to its open data portal. Let's go through some basic `groupby` examples using this data."
   ]
  },
  {
   "cell_type": "code",
   "execution_count": 84,
   "metadata": {},
   "outputs": [
    {
     "name": "stdout",
     "output_type": "stream",
     "text": [
      "head: city-of-chicago-salaries.csv: No such file or directory\r\n"
     ]
    }
   ],
   "source": [
    "!head -n 10 city-of-chicago-salaries.csv"
   ]
  },
  {
   "cell_type": "markdown",
   "metadata": {},
   "source": [
    "Since the data contains a '$' sign for each salary, python will treat the field as a series of strings. We can use the converters parameter to change this when reading in the file.\n",
    "\n",
    "> `converters` = Dict of functions for converting values in certain columns. Keys can either be integers or column labels"
   ]
  },
  {
   "cell_type": "code",
   "execution_count": 85,
   "metadata": {},
   "outputs": [
    {
     "data": {
      "text/plain": [
       "['name', 'title', 'department', 'salary']"
      ]
     },
     "execution_count": 85,
     "metadata": {},
     "output_type": "execute_result"
    }
   ],
   "source": [
    "headers = ['name', 'title', 'department', 'salary']\n",
    "headers"
   ]
  },
  {
   "cell_type": "code",
   "execution_count": 87,
   "metadata": {},
   "outputs": [],
   "source": [
    "df_chicago = pd.read_csv('/Users/apple1/OneDrive/Python Training/Python_Raw_files/city-of-chicago-salaries.csv',\n",
    "                      header= 0,\n",
    "                      names=headers,\n",
    "                      converters={'salary': lambda x: float(x.replace('$', ''))})"
   ]
  },
  {
   "cell_type": "code",
   "execution_count": 88,
   "metadata": {},
   "outputs": [
    {
     "name": "stdout",
     "output_type": "stream",
     "text": [
      "                     name                     title        department   salary\n",
      "0         AARON,  ELVIA J          WATER RATE TAKER       WATER MGMNT  85512.0\n",
      "1       AARON,  JEFFERY M            POLICE OFFICER            POLICE  75372.0\n",
      "2     AARON,  KIMBERLEI R  CHIEF CONTRACT EXPEDITER  GENERAL SERVICES  80916.0\n",
      "3     ABAD JR,  VICENTE M         CIVIL ENGINEER IV       WATER MGMNT  99648.0\n",
      "4   ABBATACOLA,  ROBERT J       ELECTRICAL MECHANIC          AVIATION  89440.0\n",
      "5   ABBATEMARCO,  JAMES J               FIREFIGHTER              FIRE  78012.0\n",
      "6        ABBATE,  TERRY M            POLICE OFFICER            POLICE  80724.0\n",
      "7        ABBOTT,  BETTY L        FOSTER GRANDPARENT  FAMILY & SUPPORT   2756.0\n",
      "8       ABBOTT,  LYNISE M                 CLERK III            POLICE  41784.0\n",
      "9  ABBRUZZESE,  WILLIAM J    INVESTIGATOR - IPRA II              IPRA  62832.0\n"
     ]
    }
   ],
   "source": [
    "print (df_chicago.head(10))"
   ]
  },
  {
   "cell_type": "code",
   "execution_count": 89,
   "metadata": {},
   "outputs": [
    {
     "name": "stdout",
     "output_type": "stream",
     "text": [
      "                   name  title  salary\n",
      "department                            \n",
      "ADMIN HEARNG         42     42      42\n",
      "ANIMAL CONTRL        61     61      61\n",
      "AVIATION           1218   1218    1218\n",
      "BOARD OF ELECTION   110    110     110\n",
      "BOARD OF ETHICS       9      9       9\n",
      "department\n",
      "ADMIN HEARNG           42\n",
      "ANIMAL CONTRL          61\n",
      "AVIATION             1218\n",
      "BOARD OF ELECTION     110\n",
      "BOARD OF ETHICS         9\n",
      "dtype: int64\n"
     ]
    }
   ],
   "source": [
    "print (df_chicago.groupby('department').count().head()), '\\n' # NOT NULL records within each column\n",
    "print (df_chicago.groupby('department').size().head()) # total records for each department"
   ]
  },
  {
   "cell_type": "code",
   "execution_count": 90,
   "metadata": {},
   "outputs": [
    {
     "name": "stdout",
     "output_type": "stream",
     "text": [
      "                   salary              \n",
      "                     size          mean\n",
      "department                             \n",
      "ADMIN HEARNG         42.0  70336.857143\n",
      "ANIMAL CONTRL        61.0  57121.455738\n",
      "AVIATION           1218.0  70638.249130\n",
      "BOARD OF ELECTION   110.0  55728.872727\n",
      "BOARD OF ETHICS       9.0  81650.666667\n"
     ]
    }
   ],
   "source": [
    "print (df_chicago.groupby('department').agg({'salary': [np.size, np.mean]}).head())"
   ]
  },
  {
   "cell_type": "markdown",
   "metadata": {},
   "source": [
    "### What departments have the most number of distinct title positions ?\n",
    "\n",
    "1. Split DataFrame into groups by departement, keep only title column => **SeriesGroupBy**\n",
    "2. Apply `.nunique()` method\n",
    "3. (Combine into **Serie**)\n",
    "4. Order resulting **Serie** (NB: `.order()` is for Series, `.sort()` is for DataFrames)"
   ]
  },
  {
   "cell_type": "code",
   "execution_count": 91,
   "metadata": {},
   "outputs": [
    {
     "name": "stdout",
     "output_type": "stream",
     "text": [
      "department\n",
      "LICENSE APPL COMM          1\n",
      "POLICE BOARD               2\n",
      "BOARD OF ETHICS            9\n",
      "HUMAN RELATIONS           12\n",
      "ADMIN HEARNG              15\n",
      "TREASURER                 16\n",
      "ANIMAL CONTRL             19\n",
      "IPRA                      22\n",
      "DISABILITIES              22\n",
      "INSPECTOR GEN             23\n",
      "BOARD OF ELECTION         23\n",
      "BUDGET & MGMT             24\n",
      "MAYOR'S OFFICE            28\n",
      "CITY COUNCIL              28\n",
      "PROCUREMENT               30\n",
      "HUMAN RESOURCES           32\n",
      "CITY CLERK                39\n",
      "CULTURAL AFFAIRS          39\n",
      "DoIT                      40\n",
      "BUILDINGS                 49\n",
      "LAW                       50\n",
      "BUSINESS AFFAIRS          64\n",
      "OEMC                      69\n",
      "COMMUNITY DEVELOPMENT     71\n",
      "STREETS & SAN             71\n",
      "PUBLIC LIBRARY            72\n",
      "FIRE                      91\n",
      "FINANCE                   98\n",
      "FAMILY & SUPPORT         113\n",
      "GENERAL SERVICES         117\n",
      "Name: title, dtype: int64\n"
     ]
    }
   ],
   "source": [
    "print (df_chicago.groupby('department').title.nunique().sort_values(ascending=True)[:30])"
   ]
  },
  {
   "cell_type": "markdown",
   "metadata": {},
   "source": [
    "### What department pays best on average ?\n",
    "\n",
    "1. Split DataFrame into groups by departement => **DataFrameGroupBy**\n",
    "2. Apply `.mean()` method\n",
    "3. (Combine into **DataFrame**)\n",
    "4. Sort resulting **DataFrame** according to the salary (NB: `.order()` is for Series, `.sort()` is for DataFrames)"
   ]
  },
  {
   "cell_type": "code",
   "execution_count": 92,
   "metadata": {},
   "outputs": [
    {
     "name": "stdout",
     "output_type": "stream",
     "text": [
      "                      salary\n",
      "department                  \n",
      "DoIT            93209.939394\n",
      "BUILDINGS       90720.081322\n",
      "FIRE            89579.082621\n",
      "MAYOR'S OFFICE  85251.949091\n",
      "BUDGET & MGMT   84767.181818\n"
     ]
    }
   ],
   "source": [
    "print (df_chicago.groupby('department').mean().sort_values('salary', ascending=False).head())"
   ]
  },
  {
   "cell_type": "code",
   "execution_count": 93,
   "metadata": {},
   "outputs": [
    {
     "name": "stdout",
     "output_type": "stream",
     "text": [
      "                salary              \n",
      "                  size          mean\n",
      "department                          \n",
      "DoIT              99.0  93209.939394\n",
      "BUILDINGS        242.0  90720.081322\n",
      "FIRE            4731.0  89579.082621\n",
      "MAYOR'S OFFICE    99.0  85251.949091\n",
      "BUDGET & MGMT     44.0  84767.181818\n"
     ]
    }
   ],
   "source": [
    "print (df_chicago.groupby('department').agg({'salary': [np.size, np.mean]}).sort_values(('salary', 'mean'), ascending=False).head())"
   ]
  },
  {
   "cell_type": "markdown",
   "metadata": {},
   "source": [
    "### Who is the highest paid employee of each department ?\n",
    "\n",
    "1. Split DataFrame into groups by departement, keep only salary column => **SeriesGroupBy**\n",
    "2. Apply `.rank()` method\n",
    "3. (Combine into **Serie**)\n",
    "4. Assign the resulting Serie to a new column of the DataFrame\n",
    "5. Sort DataFrame according to salary (NB: `.order()` is for Series, `.sort()` is for DataFrames)\n",
    "6. Display only first rankers\n",
    "\n",
    "For the `.rank()` method, use attributes: \n",
    "- `ascending=False` : to rank high (1) to low (N)\n",
    "- `method='first'` : so that equally high paid people within a department don't get the same rank ."
   ]
  },
  {
   "cell_type": "code",
   "execution_count": 94,
   "metadata": {},
   "outputs": [
    {
     "name": "stdout",
     "output_type": "stream",
     "text": [
      "                         name                     title      department  \\\n",
      "18039     MC CARTHY,  GARRY F  SUPERINTENDENT OF POLICE          POLICE   \n",
      "8004           EMANUEL,  RAHM                     MAYOR  MAYOR'S OFFICE   \n",
      "25588       SANTIAGO,  JOSE A         FIRE COMMISSIONER            FIRE   \n",
      "763    ANDOLINO,  ROSEMARIE S  COMMISSIONER OF AVIATION        AVIATION   \n",
      "4697     CHOUCAIR,  BECHARA N    COMMISSIONER OF HEALTH          HEALTH   \n",
      "\n",
      "         salary  dept_rank  \n",
      "18039  260004.0        1.0  \n",
      "8004   216210.0        1.0  \n",
      "25588  202728.0        1.0  \n",
      "763    186576.0        1.0  \n",
      "4697   177156.0        1.0  \n"
     ]
    }
   ],
   "source": [
    "df_chicago['dept_rank'] = df_chicago.groupby('department')['salary'].rank(method='first', ascending=False)\n",
    "df_chicago.sort_values('salary', ascending=False, inplace=True)\n",
    "print (df_chicago[df_chicago['dept_rank'] == 1].head())"
   ]
  },
  {
   "cell_type": "code",
   "execution_count": 95,
   "metadata": {},
   "outputs": [
    {
     "name": "stdout",
     "output_type": "stream",
     "text": [
      "                          name                             title  \\\n",
      "7498         DUBIN,  LINDSAY P  STUDENT INTERN - MAYOR'S FELLOWS   \n",
      "8062         EPSTEIN,  PAIGE A  STUDENT INTERN - MAYOR'S FELLOWS   \n",
      "19324         MODLIN,  EMILY L  STUDENT INTERN - MAYOR'S FELLOWS   \n",
      "24861     ROSENBERG,  AMANDA J   STUDENT INTERN - MAYOR'S OFFICE   \n",
      "15278           KOSS,  KELLY K  STUDENT INTERN - MAYOR'S FELLOWS   \n",
      "31312  WITHERSPOON,  KATELYN K  STUDENT INTERN - MAYOR'S FELLOWS   \n",
      "4589             CHEN,  YIXIAN  STUDENT INTERN - MAYOR'S FELLOWS   \n",
      "29745        VILLA,  FABIOLA V  STUDENT INTERN - MAYOR'S FELLOWS   \n",
      "16182           LE,  THU GIANG  STUDENT INTERN - MAYOR'S FELLOWS   \n",
      "15146            KOCH,  STEVEN          ADMINISTRATIVE SECRETARY   \n",
      "\n",
      "           department    salary  dept_rank  \n",
      "7498   MAYOR'S OFFICE  36400.00       91.0  \n",
      "8062   MAYOR'S OFFICE  36400.00       92.0  \n",
      "19324  MAYOR'S OFFICE  36400.00       95.0  \n",
      "24861  MAYOR'S OFFICE  36400.00       96.0  \n",
      "15278  MAYOR'S OFFICE  36400.00       93.0  \n",
      "31312  MAYOR'S OFFICE  36400.00       98.0  \n",
      "4589   MAYOR'S OFFICE  36400.00       90.0  \n",
      "29745  MAYOR'S OFFICE  36400.00       97.0  \n",
      "16182  MAYOR'S OFFICE  36400.00       94.0  \n",
      "15146  MAYOR'S OFFICE      0.96       99.0  \n"
     ]
    }
   ],
   "source": [
    "print (df_chicago[df_chicago['department'] == 'MAYOR\\'S OFFICE'].tail(10))"
   ]
  },
  {
   "cell_type": "markdown",
   "metadata": {},
   "source": [
    "## 6. Other\n",
    "\n",
    "### a) Rename columns\n",
    "\n",
    "Use `.rename()` method to change columns names.\n",
    "\n",
    "ex: df.rename(columns={'old_col_name' : 'new_col_name'}, inplace = True)\n",
    "\n",
    ">- columns : dictionnary containing the transformations to apply\n",
    ">- inplace (False) : result is a new instance of DataFrame\n"
   ]
  },
  {
   "cell_type": "code",
   "execution_count": null,
   "metadata": {},
   "outputs": [],
   "source": []
  },
  {
   "cell_type": "code",
   "execution_count": null,
   "metadata": {},
   "outputs": [],
   "source": []
  },
  {
   "cell_type": "code",
   "execution_count": null,
   "metadata": {},
   "outputs": [],
   "source": []
  },
  {
   "cell_type": "code",
   "execution_count": 96,
   "metadata": {},
   "outputs": [
    {
     "data": {
      "text/plain": [
       "'rank\\tsandwich\\trestaurant\\tdescription\\tprice\\taddress\\tcity\\tphone\\twebsite\\tfull_address\\tformatted_address\\tlat\\tlng\\r\\n1\\tBLT\\tOld Oak Tap\\tThe B is applewood smoked&mdash;nice and snappy. The L is arugula&mdash;fresh and peppery. The T is a fried green slice&mdash;jacketed in cornmeal and greaseless. Slathered with pimiento cheese, the grilled ciabatta somehow stays crisp, providing three distinct layers of crunch. Truly inspired.\\t$10\\t2109 W. Chicago Ave.\\tChicago\\t773-772-0406\\ttheoldoaktap.com\\t2109 W. Chicago Ave., Chicago\\t2109 West Chicago Avenue, Chicago, IL 60622, USA\\t41.8957344\\t-87.6799598\\r\\n2\\tFried Bologna\\tAu Cheval\\tThought your bologna-eating days had retired with your lunchbox? Luscious house-cured mortadella dotted with black pepper, sliced thin, and piled into layers on a spongy brioche bun should put you right back in the game. No thermos necessary.\\t$9\\t800 W. Randolph St.\\tChicago\\t312-929-4580\\taucheval.tumblr.com\\t800 W. Randolph St., Chicago\\t800 West Randolph Street, Chicago, IL 60607, USA\\t41.8846721\\t-87.647754\\r\\n3\\tWoodland Mushroom\\tXoco\\tLeave it to Rick Bayless and crew to come up with a vegetarian sandwich&mdash;garlicky roasted mushrooms commingling with tangy goat cheese and sharp arugula&mdash;as satisfying as the rest of the meat-packed menu. The three-chili salsa is a must-drizzle.\\t$9.50.\\t445 N. Clark St.\\tChicago\\t312-334-3688\\trickbayless.com\\t445 N. Clark St., Chicago\\t445 North Clark Street, Chicago, IL 60654, USA\\t41.8906019\\t-87.6309254\\r\\n4\\tRoast Beef\\tAl&rsquo;s Deli\\tThe Francophile brothers behind this deli, which has been in the family for 63 years, have turned simple ingredients into a sophisticated sandwich that balances savory and sweet: just rare roast beef, fresh tomato, Swiss cheese, and homemade b&eacute;arnaise sauce on a buttery croissant.\\t$9.40.\\t914 Noyes St.\\tEvanston\\t\\talsdeli.net\\t914 Noyes St., Evanston\\t914 Noyes Street, Evanston, IL 60201, USA\\t42.0584418\\t-87.6844254\\r\\n5\\tPB&amp;L\\tPublican Qualty Meats\\tWhen this place opened in February, it quickly rose to the top tier with its refined roster of sandwiches. Take, for instance, the one with grilled housemade pork belly and lamb sausage. It&rsquo;s sprinkled with feta, cilantro, and sweet and spicy pip&eacute;rade and tucked into a toasted, buttered lobster roll. It&rsquo;s like the quarterback on a team packed with future Hall-of-Famers.\\t$10\\t825 W. Fulton Mkt.\\tChicago\\t312-445-8977\\tpublicanqualitymeats.com\\t825 W. Fulton Mkt., Chicago\\t825 West Fulton Market, Chicago, IL 60607, USA\\t41.8866372\\t-87.6485525\\r\\n6\\tBelgian Chicken Curry Salad\\tHendrickx Belgian Bread Crafter\\tThe mom-and-pop aesthetic is a yeast-scented breath of fresh air in glitzy Streeterville, and the bakery turns out one gorgeous chicken salad. Chewy Belgian country bread encapsulates pulled chicken breast sauced with a delicate housemade curry.\\t$7.25.\\t100 E. Walton St.\\tChicago\\t312-649-6717\\t\\t100 E. Walton St., Chicago\\t100 East Walton Street, Chicago, IL 60611, USA\\t41.900246\\t-87.625163\\r\\n7\\tLobster Roll\\tAcadia\\tIn a town that recently discovered the joys of lobster rolls, nobody does them better than Ryan McCaskey. He flies in fresh crustaceans from Maine daily, poaches them, sprinkles them with paprika and chives, and cradles them in buttery grilled rolls. From the Atlantic to your belly in 24 hours.\\t$16\\t1639 S. Wabash Ave.\\tChicago\\t312-360-9500\\tacadiachicago.com\\t1639 S. Wabash Ave., Chicago\\t1639 South Wabash Avenue, Chicago, IL 60616, USA\\t41.858965\\t-87.625142\\r\\n8\\tSmoked Salmon Salad\\tBirchwood Kitchen\\tBirchwood&rsquo;s sandwich-slinging virtuosos consistently wow us with their seasonal menus. This time around, they&rsquo;ve put a fallish slant on salmon salad, adding subtle notes of squash, red onion, sage, and chopped arugula to the mix and smooshing it inside a buttery, toasted sesame bagel.\\t$10\\t2211 W. North Ave.\\tChicago\\t773-276-2100\\tbirchwoodkitchen.com\\t2211 W. North Ave., Chicago\\t2211 West North Avenue, Chicago, IL 60647, USA\\t41.9103244\\t-87.6828424\\r\\n9\\tAtomica Cemitas\\tCemitas Puebla\\tStanding three inches high, the Atomica is something to behold. It&rsquo;s also a finely tuned blend of textures and spices: Krakus ham, guajillo pork loin, breaded milanesa, avocado, and Oaxacan cheese. For an extra kick, sprinkle salsa over the multitiered meat fiesta.\\t$9\\t3619 W. North Ave.\\tChicago\\t773-772-8435\\tcemitaspuebla.com\\t3619 W. North Ave., Chicago\\t3619 West North Avenue, Chicago, IL 60647, USA\\t41.9098499\\t-87.7175808\\r\\n10\\tGrilled Laughing Bird Shrimp and Fried Oyster Po&rsquo; Boy\\tNana\\tGrilled Laughing Bird shrimp and fried oyster po&rsquo; boy, Nana<br />   Will it be shrimp? Or, gee, the oysters? In Cajun country, you are forced to choose. So bless Bridgeport, where the friendly organic joint Nana packs a meal-and-a-half-size baguette with both&mdash;grilled Laughing Bird shrimp, perfectly fried oysters&mdash;and, for good Midwestern measure, adds housemade giardiniera.\\t$17\\t3267 S. Halsted St.\\tChicago\\t312-929-2486\\tnanaorganic.com\\t3267 S. Halsted St., Chicago\\t3267 South Halsted Street, Chicago, IL 60608, USA\\t41.8345589\\t-87.6460491\\r\\n11\\tHam and Raclette Panino\\tLula Cafe\\tA crusty ciabatta bun is a flavorsome sponge for oozing Swiss cheese, rich egg yolk, and mustard with sweet-and-sour bursts of black currant. Smoky cured ham seals the deal.\\t$11\\t2537 N. Kedzie Blvd.\\tChicago\\t773-489-9554\\tlulacafe.com\\t2537 N. Kedzie Blvd., Chicago\\t2537 North Kedzie Boulevard, Chicago, IL 60647, USA\\t41.9270848\\t-87.7072641\\r\\n12\\tBreaded Steak\\tRicobene&rsquo;s\\tThis is what put Ricobene&rsquo;s on the map: breaded skirt steak topped with housemade meat sauce on a crusty Turano French roll and finished with your choice of cheese and peppers. It&rsquo;s juicy and sloppy, and you will finish every last bite.\\t$5.49.\\t252 W. 26th Street\\tChicago\\t(312) 225-5555\\tricobenespizza.com\\t252 W. 26th Street, Chicago\\t252 West 26th Street, Chicago, IL 60616, USA\\t41.845754\\t-87.633895\\r\\n12\\tBreaded Steak\\tRicobene&rsquo;s\\tThis is what put Ricobene&rsquo;s on the map: breaded skirt steak topped with housemade meat sauce on a crusty Turano French roll and finished with your choice of cheese and peppers. It&rsquo;s juicy and sloppy, and you will finish every last bite.\\t$5.49.\\t271 N. Weber Road\\tBolingbrook\\t(630) 378-4466\\tricobenespizza.com\\t271 N. Weber Road, Bolingbrook\\t271 Weber Road, Bolingbrook, IL 60490, USA\\t41.7032627\\t-88.1256531\\r\\n12\\tBreaded Steak\\tRicobene&rsquo;s\\tThis is what put Ricobene&rsquo;s on the map: breaded skirt steak topped with housemade meat sauce on a crusty Turano French roll and finished with your choice of cheese and peppers. It&rsquo;s juicy and sloppy, and you will finish every last bite.\\t$5.49.\\t5160 S. Pulaski Road\\tChicago\\t(773) 284-2400\\tricobenespizza.com\\t5160 S. Pulaski Road, Chicago\\t5160 South Pulaski Road, Chicago, IL 60632, USA\\t41.7989562\\t-87.7234342\\r\\n12\\tBreaded Steak\\tRicobene&rsquo;s\\tThis is what put Ricobene&rsquo;s on the map: breaded skirt steak topped with housemade meat sauce on a crusty Turano French roll and finished with your choice of cheese and peppers. It&rsquo;s juicy and sloppy, and you will finish every last bite.\\t$5.49.\\t9135 W. 159th Street\\tOrland Hills\\t(708) 460-9966\\tricobenespizza.com\\t9135 W. 159th Street, Orland Hills\\t9135 West 159th Street, Orland Hills, IL 60487, USA\\t41.6015413\\t-87.8414067\\r\\n13\\tThe Hawkeye\\tFrog n Snail\\tWe didn&rsquo;t expect a <em>Man v. Food&ndash;</em>esque behemoth on Dale Levitski&rsquo;s menu, but there it was: a shiny egg bun dripping grease from its delectable pan-fried and ground pork innards. And ten minutes later, there it wasn&rsquo;t.\\t$14\\t3124 N. Broadway\\tChicago\\t773-661-9166\\tfrognsnail.com\\t3124 N. Broadway, Chicago\\t3124 North Broadway, Chicago, IL 60657, USA\\t41.9385126\\t-87.6444655\\r\\n14\\tChicken Dip\\tCrosby&rsquo;s Kitchen\\tLuscious nuggets of white meat from the kitchen&rsquo;s rotisserie stand in for the French dip&rsquo;s usual fatty beef. Swathed in melted Jack cheese and heaped with tomato, onion, and arugula, they fold it into a soft-crisp baguette with authority. The jus is just windowdressing.\\t$10\\t3455 N. Southport Ave.\\tChicago\\t773-883-2525\\tcrosbyskitchenchicago.com\\t3455 N. Southport Ave., Chicago\\t3455 North Southport Avenue, Chicago, IL 60657, USA\\t41.9450868\\t-87.6638068\\r\\n15\\tWild Boar Sloppy Joe\\tLongman &amp; Eagle\\tWith its toasted brioche, peppery pickled jalape&ntilde;os, crispy onions, and fried sage, this Joe is a man-size wowzer spilling over with tender, spicy ground boar. It&rsquo;s better to cheat and use silverware than let any meaty morsels get away.\\t$13\\t2657 N. Kedzie Ave.\\tChicago\\t773-276-7110\\tlongmanandeagle.com\\t2657 N. Kedzie Ave., Chicago\\t2657 North Kedzie Avenue, Chicago, IL 60647, USA\\t41.9301009\\t-87.7072427\\r\\n16\\tMeatball Sub\\tBari\\tNo condiments, no fuss, just saucy meatballs (from the owners&rsquo; 80-year-old family recipe) on a crunchy Upper Crust roll, provolone optional. Sure, this Italian-heavy stretch of Grand Avenue is paved with meatballs&mdash;but at lunch the line starts and ends here.\\t$4.50.\\t1120 W. Grand Ave.\\tChicago\\t312-666-0730\\tbariitaliansubs.com\\t1120 W. Grand Ave., Chicago\\t1120 West Grand Avenue, Chicago, IL 60642, USA\\t41.8912131\\t-87.6555343\\r\\n17\\tCorned Beef\\tManny&rsquo;s\\tThe most famous deli sandwich in Chicago is also the gold standard: a sliced-to-order spectacle of salty-sweet meat that&rsquo;s so tender, juicy, and lean you&rsquo;ll savor it, sans the mild rye or the mustard, using only your fork.\\t$11.95.\\t1141 S. Jefferson St.\\tChicago\\t312-939-2855\\tmannysdeli.com\\t1141 S. Jefferson St., Chicago\\t1141 South Jefferson Street, Chicago, IL 60607, USA\\t41.8677925\\t-87.6420625\\r\\n18\\tTurkey Club\\tEggy&rsquo;s\\tCut in quarters and stabbed with cellophaned toothpicks, this turkey club on whole-wheat toast gets everything right, especially the thick slices of juicy turkey. Love the red onion, and the smear of housemade cilantro mayo is brilliant.\\t$11.50.\\t333 E. Benton Pl.\\tChicago\\t773-234-3449\\teggysdiner.com\\t333 E. Benton Pl., Chicago\\t333 East Benton Place, Chicago, IL 60601, USA\\t41.8854054\\t-87.6176413\\r\\n19\\tFalafel\\tOld Jerusalem\\tThe fritters of mashed chickpeas are perfectly cooked and seasoned—no burnt balls here. Fresh tomatoes and lettuce and creamy tahini sauce only add to the tastiness.\\t$6.25.\\t1411 N. Wells St.\\tChicago\\t312-944-0459\\toldjerusalemchicago.com\\t1411 N. Wells St., Chicago\\t1411 North Wells Street, Chicago, IL 60610, USA\\t41.908\\t-87.634157\\r\\n20\\tCrab Cake\\tMindy&rsquo;s HotChocolate\\tIn these parts, crab cakes are always a gamble. Mindy Segal&rsquo;s sandwich hits the jackpot with its perfectly round patty that boasts a high crab-to-filler ratio, a spread of zesty giardiniera tartar sauce, and a housemade brioche bun gleaming with butter.\\t$15\\t1747 N. Damen Ave.\\tChicago\\t773-489-1747\\thotchocolatechicago.com\\t1747 N. Damen Ave., Chicago\\t1747 North Damen Avenue, Chicago, IL 60647, USA\\t41.913699\\t-87.6774495\\r\\n21\\tChicken Schnitzel\\tOlga&rsquo;s Delicatessen\\tA no-frills thrill, the schnitzel is a classic sandwich (white bread, tomato, lettuce, cheese, mayo, onion) made special by Olga&rsquo;s Old World touch, which creates an experience as familiar and personal as dinner at Grandma&rsquo;s.\\t$5\\t3209 W. Irving Park Rd.\\tChicago\\t773-539-8038\\t\\t3209 W. Irving Park Rd., Chicago\\t3209 West Irving Park Road, Chicago, IL 60618, USA\\t41.9538058\\t-87.708466\\r\\n22\\tShawarma\\tDawali Mediterranean Kitchen\\tDawali&rsquo;s filling shawarma escapes a common problem&mdash;the seasoned lamb-beef combo is in just the right proportion to the tahini sauce, greens, cucumbers, and pita bread.\\t$6\\t1625 N Halsted St.\\tChicago\\t(312) 944-5800\\tdawalikitchen.com\\t1625 N Halsted St., Chicago\\t1625 North Halsted Street, Chicago, IL 60614, USA\\t41.911714\\t-87.6482182\\r\\n22\\tShawarma\\tDawali Mediterranean Kitchen\\tDawali&rsquo;s filling shawarma escapes a common problem&mdash;the seasoned lamb-beef combo is in just the right proportion to the tahini sauce, greens, cucumbers, and pita bread.\\t$6\\t4911 N Kedzie Ave\\tChicago\\t(773) 267-4222\\tdawalikitchen.com\\t4911 N Kedzie Ave, Chicago\\t4911 North Kedzie Avenue, Chicago, IL 60625, USA\\t41.9707823\\t-87.7085034\\r\\n23\\tToasted Pimiento Cheese\\tBig Jones\\tNot the gooiest but definitely the kickiest grilled cheese around, thanks to the genius who thought to melt local heirloom pimientos right into the tangy cheddar. Chow-chow made with saut&eacute;ed onions, cabbage, and peppers adds to the glow it leaves in your mouth. You&rsquo;ll fall for the toasted marbled rye, too.\\t$8\\t5347 N. Clark St.\\tChicago\\t773-275-5725\\tbigjoneschicago.com\\t5347 N. Clark St., Chicago\\t5347 North Clark Street, Chicago, IL 60640, USA\\t41.9794572\\t-87.6681775\\r\\n24\\tVegetarian Panino\\tLa Pane\\tLa Pane might be known for pizza, but it offers a veggie panino with a punch. The power is in the piquant green pesto, made from peppers imported from Serbia, which is also delish on a freshly baked croissant.\\t$5.99.\\t2954 W. Irving Park Rd.\\tChicago\\t773-539-5321\\tlapanechicago.com\\t2954 W. Irving Park Rd., Chicago\\t2954 West Irving Park Road, Chicago, IL 60618, USA\\t41.9540244\\t-87.7025206\\r\\n25\\tCali Ch&egrave;vre\\tPastoral\\tSometimes you come across a sandwich with a combination of fillings so wacky it works. For example, why would anyone put avocado, goat cheese, spiced almond butter, celery, and red onions on a baguette? We love it&mdash;whatever the reason.\\t$7.52.\\t2945 N. Broadway\\tChicago\\t(773) 472-4781\\tpastoralartisan.com\\t2945 N. Broadway, Chicago\\t2945 North Broadway, Chicago, IL 60657, USA\\t41.9359824\\t-87.6442561\\r\\n25\\tCali Ch&egrave;vre\\tPastoral\\tSometimes you come across a sandwich with a combination of fillings so wacky it works. For example, why would anyone put avocado, goat cheese, spiced almond butter, celery, and red onions on a baguette? We love it&mdash;whatever the reason.\\t$7.52.\\t53 E. Lake\\tChicago\\t(312) 658-1250\\tpastoralartisan.com\\t53 E. Lake, Chicago\\t53 East Lake Street, Chicago, IL 60601, USA\\t41.8856078\\t-87.6259252\\r\\n25\\tCali Ch&egrave;vre\\tPastoral\\tSometimes you come across a sandwich with a combination of fillings so wacky it works. For example, why would anyone put avocado, goat cheese, spiced almond butter, celery, and red onions on a baguette? We love it&mdash;whatever the reason.\\t$7.52.\\t131 N. Clinton St\\tChicago\\t(312) 454-2200\\tpastoralartisan.com\\t131 N. Clinton St, Chicago\\t131 North Clinton Street, Chicago, IL 60661, USA\\t41.884106\\t-87.641231\\r\\n26\\tPastrami\\tMax&rsquo;s Deli\\tPastrami is the bacon of deli meats&mdash;a succulent, salty guilty pleasure that&rsquo;s rarely described as lean. Max&rsquo;s must have a surgeon working in the kitchen because we&rsquo;ve never seen pastrami this svelte and tender. And the juice from the warm meat soaks into the chewy rye bread.\\t$11.95.\\t191 Skokie Valley Rd.\\tHighland Park\\t\\tmaxs-deli.com\\t191 Skokie Valley Rd., Highland Park\\t191 Skokie Valley Road, Highland Park, IL 60035, USA\\t42.1558155\\t-87.8042198\\r\\n27\\tThe Fredo\\tLucky&rsquo;s Sandwich Co.\\tThis hulk&mdash;which stacks copious amounts of coleslaw and salty skin-on fries over layers of Italian deli meats and cold provolone on white&mdash;admits very few to the Clean Plate Club.\\t$7.50.\\t717 Maxwell Street.\\tChicago\\t(312) 733-5700\\tluckysandwich.com\\t717 Maxwell Street., Chicago\\t717 West Maxwell Street, University of Illinois, University of Illinois at Chicago (UIC) Richard J. Daley Library, Chicago, IL 60607, USA\\t41.8647002\\t-87.6459216\\r\\n27\\tThe Fredo\\tLucky&rsquo;s Sandwich Co.\\tThis hulk&mdash;which stacks copious amounts of coleslaw and salty skin-on fries over layers of Italian deli meats and cold provolone on white&mdash;admits very few to the Clean Plate Club.\\t$7.50.\\t3472 North Clark St.\\tChicago\\t(773) 549-0665\\tluckysandwich.com\\t3472 North Clark St., Chicago\\t3472 North Clark Street, Chicago, IL 60657, USA\\t41.945241\\t-87.655353\\r\\n28\\tSmoked Ham\\tCity Provisions\\tEach element of this highfalutin deli delight&mdash;smoky ham, pungent Gruy&egrave;re, mayo studded with chunks of apple and onion, a robust oatmeal rosemary baguette&mdash;is special enough to squelch your remorse about dropping the big bucks on it.\\t$12.95.\\t1818 W. Wilson Ave.\\tChicago\\t773-293-2489\\tcityprovisions.com\\t1818 W. Wilson Ave., Chicago\\t1818 West Wilson Avenue, Chicago, IL 60640, USA\\t41.9651612\\t-87.6752161\\r\\n29\\tJibarito\\tPapa&rsquo;s Cache Sabroso\\tTwo razor-thin fried plantains&mdash;crispy, not starchy&mdash;hold in place the sweet grilled onions, well-seasoned strips of beef, and a white cheese mild enough not to overwhelm a lilt of garlic. It&rsquo;s a true original: a cheesesteak-inspired jibarito.\\t$7\\t2517 W. Division St.\\tChicago\\t773-862-8313\\tpapascachesabroso.com\\t2517 W. Division St., Chicago\\t2517 West Division Street, Chicago, IL 60622, USA\\t41.9028871\\t-87.6902641\\r\\n30\\tShaved Prime Rib\\tBavette&rsquo;s Bar &amp; Boeuf\\tAny respectable diner offers this humblest of sandwiches, the French dip. At his interpretation of a French steak house, Brendan Sodikoff flips the paradigm by serving one with succulent prime rib and a gravy boat full of jus. It&rsquo;s like a French dip in the witness protection program.\\t$21\\t218 W. Kinzie St.\\tChicago\\t312-624-8154\\t\\t218 W. Kinzie St., Chicago\\t218 West Kinzie Street, Chicago, IL 60654, USA\\t41.8894019\\t-87.634925\\r\\n31\\tSerrano ham and Manchego cheese\\tHannah&rsquo;s Bretzel\\tA perpetually jammed workday lunch stop has no right turning out such beautifully marbled sliced-to-order ham. Nor should it top said ham with such thick and tasty fig chutney and encase it in an ultrafresh pretzel baguette.\\t$9.79.\\t400 N. LaSalle St.\\tChicago\\t\\thannahsbretzel.com\\t400 N. LaSalle St., Chicago\\t400 North LaSalle Street, Chicago, IL 60654, USA\\t41.8896595\\t-87.633211\\r\\n31\\tSerrano ham and Manchego cheese\\tHannah&rsquo;s Bretzel\\tA perpetually jammed workday lunch stop has no right turning out such beautifully marbled sliced-to-order ham. Nor should it top said ham with such thick and tasty fig chutney and encase it in an ultrafresh pretzel baguette.\\t$9.79.\\t131 S. Dearborn St.\\tChicago\\t\\thannahsbretzel.com\\t131 S. Dearborn St., Chicago\\t131 South Dearborn Street, Chicago, IL 60603, USA\\t41.879804\\t-87.628283\\r\\n31\\tSerrano ham and Manchego cheese\\tHannah&rsquo;s Bretzel\\tA perpetually jammed workday lunch stop has no right turning out such beautifully marbled sliced-to-order ham. Nor should it top said ham with such thick and tasty fig chutney and encase it in an ultrafresh pretzel baguette.\\t$9.79.\\t180 W. Washington St.\\tChicago\\t\\thannahsbretzel.com\\t180 W. Washington St., Chicago\\t180 West Washington Street, Chicago, IL 60602, USA\\t41.883445\\t-87.633509\\r\\n31\\tSerrano ham and Manchego cheese\\tHannah&rsquo;s Bretzel\\tA perpetually jammed workday lunch stop has no right turning out such beautifully marbled sliced-to-order ham. Nor should it top said ham with such thick and tasty fig chutney and encase it in an ultrafresh pretzel baguette.\\t$9.79.\\t233 N. Michigan Ave.\\tChicago\\t\\thannahsbretzel.com\\t233 N. Michigan Ave., Chicago\\t233 North Michigan Avenue, Chicago, IL 60601, USA\\t41.8868791\\t-87.6238168\\r\\n32\\tTuna Salad\\tLa Fournette\\tPierre Zimmermann claims to be a fourth-generation French baker. One bite of his housemade multigrain baguette laced with flax, sunflower, sesame, and pumpkin seeds convinced us. Glad he&rsquo;s not too proud to stuff it with a light and creamy tuna salad with sprouts and capers.\\t$9.75.\\t1547 N. Wells St.\\tChicago\\t312-624-9430\\tlafournette.com\\t1547 N. Wells St., Chicago\\t1547 North Wells Street, Chicago, IL 60610, USA\\t41.9105284\\t-87.6346775\\r\\n33\\tParamount Reuben\\tParamount Room\\tBriny lean brisket, kraut, and melted Gruy&egrave;re neatly packaged between two thick slices of toasted marble rye can be a mighty attractive alternative to the classic mountain of corned beef.\\t$13\\t415 N. Milwaukee Ave.\\tChicago\\t312-829-6300\\tparamountroom.com\\t415 N. Milwaukee Ave., Chicago\\t415 North Milwaukee Avenue, Chicago, IL 60654, USA\\t41.8895778\\t-87.644861\\r\\n34\\tThe Istanbul\\tMelt Sandwich Shoppe\\tSweet figs, salt-speckled bread, and smoky Gouda are an answered prayer from the lunch gods. As is the price of this oversize, splittable Turkish delight.\\t$7.95.\\t1840 N. Damen Ave.\\tChicago\\t773-681-9914\\tmeltsandwichshoppechicago.com\\t1840 N. Damen Ave., Chicago\\t1840 North Damen Avenue, Chicago, IL 60622, USA\\t41.9150582\\t-87.677692\\r\\n35\\tB.A.D.\\tFloriole Cafe &amp; Bakery\\tThe silky smooth almond-date spread makes this a standout. No, wait, it&rsquo;s that perfect bacon. Actually, it could be the wonderfully grainy housemade cornmeal bread. Whatever. This sandwich doesn&rsquo;t live up to its name.\\t$9\\t1220 W. Webster Ave.\\tChicago\\t773-883-1313\\tfloriole.com\\t1220 W. Webster Ave., Chicago\\t1220 West Webster Avenue, Chicago, IL 60614, USA\\t41.921921\\t-87.659215\\r\\n36\\tDuck Confit and Mozzarella\\tFirst Slice Pie Caf&eacute;\\tDuck is not your typical sandwich meat, but First Slice&rsquo;s panino&mdash;a wonderland of blistery mozzarella, mushrooms, grilled red onions, and sun-dried tomato spread&mdash;overflows with hunks and slivers of duck confit. Ethereal and glorious.\\t$9\\t5357 N. Ashland Ave.\\tChicago\\t773-275-4297\\tfirstslice.org\\t5357 N. Ashland Ave., Chicago\\t5357 North Ashland Avenue, Chicago, IL 60640, USA\\t41.9796644\\t-87.669512\\r\\n37\\tCroque Monsieur\\tTroquet\\tNot fair that Parisians are so famously skinny, with grilled cheese like this at their disposal&mdash;hefty with ham, oozy with Swiss and b&eacute;chamel, a feast on crusty sourdough bread. With frites, bien s&ucirc;r.\\t$8\\t1834 W. Montrose Ave.\\tChicago\\t773-334-5664\\ttroquetchicago.com\\t1834 W. Montrose Ave., Chicago\\t1834 West Montrose Avenue, Chicago, IL 60613, USA\\t41.9615902\\t-87.6759419\\r\\n38\\tGreen Garbanzo\\tGrahamwich\\tWith chewy strips of preserved lemon rind, moist couscous studded with bright garbanzo beans and pine nuts, and a squishy flatbread encasement, this vegetarian pick has serious star power. Just like Graham Elliot, the splashy chef who oversees the joint.\\t$8\\t615 N. State St.\\tChicago\\t312-265-0434\\tgrahamwich.com\\t615 N. State St., Chicago\\t615 North State Street, Chicago, IL 60611, USA\\t41.8929427\\t-87.6278316\\r\\n39\\tThe Hen House\\tSaigon Sisters\\tCaramelized chunks of dark and white meat chicken meld with a lemongrass-ginger marinade, and the ever-important baguette attains the flawless combo of chewy and crusty, ensuring that this banh mi rules the roost.\\t$7\\t567 W. Lake St.\\tChicago\\t(312) 496-0090\\tsaigonsisters.com\\t567 W. Lake St., Chicago\\t567 West Lake Street, Chicago, IL 60661, USA\\t41.885302\\t-87.642321\\r\\n39\\tThe Hen House\\tSaigon Sisters\\tCaramelized chunks of dark and white meat chicken meld with a lemongrass-ginger marinade, and the ever-important baguette attains the flawless combo of chewy and crusty, ensuring that this banh mi rules the roost.\\t$7\\t131 N. Clinton St.\\tChicago\\t(312) 496-0094\\tsaigonsisters.com\\t131 N. Clinton St., Chicago\\t131 North Clinton Street, Chicago, IL 60661, USA\\t41.884106\\t-87.641231\\r\\n40\\tTuscan Chicken\\tRosalia&rsquo;s Tuscan Chicken\\tWhen a boneless chicken breast is dripping with jus, somebody did something right. It&rsquo;s crammed into a grilled sourdough roll from Biondillo Bakery along with mushrooms, roasted red peppers, and pesto ranch dressing. Damn right.\\t$6\\t241 N. York Rd.\\tElmhurst\\t\\trosaliasdeli.com\\t241 N. York Rd., Elmhurst\\t241 North York Street, Elmhurst, IL 60126, USA\\t41.9049399\\t-87.9398531\\r\\n41\\tThe Marty\\tZ&amp;H MarketCafe\\tThe generous application of muhammara&mdash;a zesty Middle Eastern spread involving peppers, ground walnuts, and pomegranate molasses&mdash;elevates this panino of grilled eggplant and tomatoes with Muenster cheese on herbed focaccia.\\t$7.25.\\t1323 E. 57th St.\\tChicago\\t773-538-7372\\tzhmarketcafe.com\\t1323 E. 57th St., Chicago\\t1323 East 57th Street, Chicago, IL 60637, USA\\t41.791193\\t-87.5938199\\r\\n42\\tWhitefish\\tMarket House on the Square\\tCould a sandwich sound more unsexy? Hardly. But this thick, juicy breaded fillet&mdash;all dolled up with sweet chili vinaigrette, shallots, and basil&mdash;is a player. Ditto for the irresistible fries.\\t$11\\t655 Forest Ave.\\tLake Forest\\t\\tthemarkethouse.com\\t655 Forest Ave., Lake Forest\\t655 Forest Avenue, Lake Forest, IL 60045, USA\\t42.251828\\t-87.841322\\r\\n43\\tOat Bread, Pecan Butter, and Fruit Jam\\tElaine&rsquo;s Coffee Call\\tThe chalkboard menu is ambiguous about whether this pressed-to-order snack (in which housemade jam crafted from Green City Market fruit seeps from between freshly baked oat bread) is meant for breakfast or lunch, so we&rsquo;ll just order it every time we&rsquo;re in the neighborhood.\\t$6\\t1816 N. Clark St.\\tChicago\\t\\tjdvhotels.com/hotels/chicago/lincoln\\t1816 N. Clark St., Chicago\\t1816 North Clark Street, Chicago, IL 60614, USA\\t41.915304\\t-87.634502\\r\\n44\\tCauliflower Melt\\tMarion Street Cheese Market\\tWho says veggie sandwiches are healthy? This beefy number is indulgent and delightfully greasy. Thick browned cauliflower drips with zippy cheddar and plentiful curry a&iuml;oli; soak it (and your guilt) up with toasted multigrain bread.\\t$9\\t100 S. Marion St.\\tOak Park\\t\\tmarionstreetcheesemarket.com\\t100 S. Marion St., Oak Park\\t100 South Marion Street, Oak Park, IL 60302, USA\\t41.8867374\\t-87.8025146\\r\\n45\\tCubano\\tCafecito\\tThe success of this sandwich, a Cuban tradition with shredded pork, glazed ham, Swiss cheese, yellow mustard, and pickles, rests with the bread. Cafecito&rsquo;s simple white slices are crisp around the edges and spongy within: perfect bookends for a grilled sandwich.\\t$5.49.\\t26 E. Congress Pkwy.\\tChicago\\t312-922-2233\\tcafecitochicago.com\\t26 E. Congress Pkwy., Chicago\\t26 East Congress Parkway, Chicago, IL 60605, USA\\t41.8758037\\t-87.626366\\r\\n46\\tKufta\\tChickpea\\tNestled within the freshest, chewiest pita pocket our teeth have ever met, twin logs of impeccably spiced ground lamb and beef mingle with grill-marked tomatoes, green peppers, and onions. With a crown of smooth tahini sauce, it&rsquo;s a kebab fit for a sheikh.\\t$8\\t2018 W. Chicago Ave.\\tChicago\\t773-384-9930\\tchickpeaonthego.com\\t2018 W. Chicago Ave., Chicago\\t2018 West Chicago Avenue, Chicago, IL 60622, USA\\t41.896178\\t-87.677832\\r\\n47\\tDebbie&rsquo;s Egg Salad\\tThe Goddess and Grocer\\tNothing quite satisfies the comfortfood hunger like some unfussy egg salad on multigrain toast. With no more than a dash of salt, a sprinkle of pepper, and a dollop of Dijon, this one is a testament to the sheer power of simplicity.\\t$6.50.\\t25 E. Delaware Pl.\\tChicago\\t312-896-2600\\tgoddessandgrocer.com\\t25 E. Delaware Pl., Chicago\\t25 East Delaware Place, Chicago, IL 60611, USA\\t41.89899\\t-87.6272901\\r\\n48\\tBeef Curry\\tZenwich\\tProof positive that sandwiches have surpassed pizza as the most versatile meal on the planet: Zenwich packs the makings of beef curry into a ciabatta roll&mdash;potatoes, pulled beef, carrots, onions, curry gravy, and all. Sloppy and satisfying.\\t$7.50.\\t416 N. York St.\\tElmhurst\\t\\teatmyzenwich.com\\t416 N. York St., Elmhurst\\t416 North York Street, Elmhurst, IL 60126, USA\\t41.9106615\\t-87.9399283\\r\\n49\\tLe V&eacute;g&eacute;tarien\\tToni Patisserie\\tToni Cox spreads rich white bean hummus on a baguette and loads it up with soft roasted red peppers, baby spinach, red onions, and a splash of tomato vinaigrette. Standard veggie fare? Perhaps. But when the components soak into the bread, this sandwich becomes epic.\\t$8.75.\\t65 E. Washington St.\\tChicago\\t312-726-2020\\ttonipatisserie.com\\t65 E. Washington St., Chicago\\t65 East Washington Street, Chicago, IL 60602, USA\\t41.883212\\t-87.6254057\\r\\n50\\tThe Gatsby\\tPhoebe&rsquo;s Bakery\\tThe best thing about Phoebe&rsquo;s panini is the crunchy multigrain bread. Steer clear of the cheese-heavy varieties and go for the Gatsby, with roasted chicken, provolone, and a lovely, light pesto mayo dipping sauce.\\t$6.85.\\t3351 N. Broadway\\tChicago\\t773-868-4000\\tphoebesbakery.com\\t3351 N. Broadway, Chicago\\t3351 North Broadway, Chicago, IL 60657, USA\\t41.9427393\\t-87.6443419\\r\\n'"
      ]
     },
     "execution_count": 96,
     "metadata": {},
     "output_type": "execute_result"
    }
   ],
   "source": [
    "import urllib.request\n",
    "from urllib.request import urlopen\n",
    "from io import StringIO\n",
    "\n",
    "# store the text from the URL response in our url variable\n",
    "url = urlopen('https://raw.github.com/gjreda/best-sandwiches/master/data/best-sandwiches-geocode.tsv').read().decode('utf-8')\n",
    "url"
   ]
  },
  {
   "cell_type": "code",
   "execution_count": 97,
   "metadata": {},
   "outputs": [
    {
     "data": {
      "text/html": [
       "<div>\n",
       "<style scoped>\n",
       "    .dataframe tbody tr th:only-of-type {\n",
       "        vertical-align: middle;\n",
       "    }\n",
       "\n",
       "    .dataframe tbody tr th {\n",
       "        vertical-align: top;\n",
       "    }\n",
       "\n",
       "    .dataframe thead th {\n",
       "        text-align: right;\n",
       "    }\n",
       "</style>\n",
       "<table border=\"1\" class=\"dataframe\">\n",
       "  <thead>\n",
       "    <tr style=\"text-align: right;\">\n",
       "      <th></th>\n",
       "      <th>rank</th>\n",
       "      <th>sandwich</th>\n",
       "      <th>restaurant</th>\n",
       "      <th>description</th>\n",
       "      <th>price</th>\n",
       "      <th>address</th>\n",
       "      <th>city</th>\n",
       "      <th>phone</th>\n",
       "      <th>website</th>\n",
       "      <th>full_address</th>\n",
       "      <th>formatted_address</th>\n",
       "      <th>lat</th>\n",
       "      <th>lng</th>\n",
       "    </tr>\n",
       "  </thead>\n",
       "  <tbody>\n",
       "    <tr>\n",
       "      <th>0</th>\n",
       "      <td>1</td>\n",
       "      <td>BLT</td>\n",
       "      <td>Old Oak Tap</td>\n",
       "      <td>The B is applewood smoked&amp;mdash;nice and snapp...</td>\n",
       "      <td>$10</td>\n",
       "      <td>2109 W. Chicago Ave.</td>\n",
       "      <td>Chicago</td>\n",
       "      <td>773-772-0406</td>\n",
       "      <td>theoldoaktap.com</td>\n",
       "      <td>2109 W. Chicago Ave., Chicago</td>\n",
       "      <td>2109 West Chicago Avenue, Chicago, IL 60622, USA</td>\n",
       "      <td>41.895734</td>\n",
       "      <td>-87.679960</td>\n",
       "    </tr>\n",
       "    <tr>\n",
       "      <th>1</th>\n",
       "      <td>2</td>\n",
       "      <td>Fried Bologna</td>\n",
       "      <td>Au Cheval</td>\n",
       "      <td>Thought your bologna-eating days had retired w...</td>\n",
       "      <td>$9</td>\n",
       "      <td>800 W. Randolph St.</td>\n",
       "      <td>Chicago</td>\n",
       "      <td>312-929-4580</td>\n",
       "      <td>aucheval.tumblr.com</td>\n",
       "      <td>800 W. Randolph St., Chicago</td>\n",
       "      <td>800 West Randolph Street, Chicago, IL 60607, USA</td>\n",
       "      <td>41.884672</td>\n",
       "      <td>-87.647754</td>\n",
       "    </tr>\n",
       "    <tr>\n",
       "      <th>2</th>\n",
       "      <td>3</td>\n",
       "      <td>Woodland Mushroom</td>\n",
       "      <td>Xoco</td>\n",
       "      <td>Leave it to Rick Bayless and crew to come up w...</td>\n",
       "      <td>$9.50.</td>\n",
       "      <td>445 N. Clark St.</td>\n",
       "      <td>Chicago</td>\n",
       "      <td>312-334-3688</td>\n",
       "      <td>rickbayless.com</td>\n",
       "      <td>445 N. Clark St., Chicago</td>\n",
       "      <td>445 North Clark Street, Chicago, IL 60654, USA</td>\n",
       "      <td>41.890602</td>\n",
       "      <td>-87.630925</td>\n",
       "    </tr>\n",
       "    <tr>\n",
       "      <th>3</th>\n",
       "      <td>4</td>\n",
       "      <td>Roast Beef</td>\n",
       "      <td>Al&amp;rsquo;s Deli</td>\n",
       "      <td>The Francophile brothers behind this deli, whi...</td>\n",
       "      <td>$9.40.</td>\n",
       "      <td>914 Noyes St.</td>\n",
       "      <td>Evanston</td>\n",
       "      <td>NaN</td>\n",
       "      <td>alsdeli.net</td>\n",
       "      <td>914 Noyes St., Evanston</td>\n",
       "      <td>914 Noyes Street, Evanston, IL 60201, USA</td>\n",
       "      <td>42.058442</td>\n",
       "      <td>-87.684425</td>\n",
       "    </tr>\n",
       "    <tr>\n",
       "      <th>4</th>\n",
       "      <td>5</td>\n",
       "      <td>PB&amp;amp;L</td>\n",
       "      <td>Publican Qualty Meats</td>\n",
       "      <td>When this place opened in February, it quickly...</td>\n",
       "      <td>$10</td>\n",
       "      <td>825 W. Fulton Mkt.</td>\n",
       "      <td>Chicago</td>\n",
       "      <td>312-445-8977</td>\n",
       "      <td>publicanqualitymeats.com</td>\n",
       "      <td>825 W. Fulton Mkt., Chicago</td>\n",
       "      <td>825 West Fulton Market, Chicago, IL 60607, USA</td>\n",
       "      <td>41.886637</td>\n",
       "      <td>-87.648553</td>\n",
       "    </tr>\n",
       "    <tr>\n",
       "      <th>5</th>\n",
       "      <td>6</td>\n",
       "      <td>Belgian Chicken Curry Salad</td>\n",
       "      <td>Hendrickx Belgian Bread Crafter</td>\n",
       "      <td>The mom-and-pop aesthetic is a yeast-scented b...</td>\n",
       "      <td>$7.25.</td>\n",
       "      <td>100 E. Walton St.</td>\n",
       "      <td>Chicago</td>\n",
       "      <td>312-649-6717</td>\n",
       "      <td>NaN</td>\n",
       "      <td>100 E. Walton St., Chicago</td>\n",
       "      <td>100 East Walton Street, Chicago, IL 60611, USA</td>\n",
       "      <td>41.900246</td>\n",
       "      <td>-87.625163</td>\n",
       "    </tr>\n",
       "    <tr>\n",
       "      <th>6</th>\n",
       "      <td>7</td>\n",
       "      <td>Lobster Roll</td>\n",
       "      <td>Acadia</td>\n",
       "      <td>In a town that recently discovered the joys of...</td>\n",
       "      <td>$16</td>\n",
       "      <td>1639 S. Wabash Ave.</td>\n",
       "      <td>Chicago</td>\n",
       "      <td>312-360-9500</td>\n",
       "      <td>acadiachicago.com</td>\n",
       "      <td>1639 S. Wabash Ave., Chicago</td>\n",
       "      <td>1639 South Wabash Avenue, Chicago, IL 60616, USA</td>\n",
       "      <td>41.858965</td>\n",
       "      <td>-87.625142</td>\n",
       "    </tr>\n",
       "    <tr>\n",
       "      <th>7</th>\n",
       "      <td>8</td>\n",
       "      <td>Smoked Salmon Salad</td>\n",
       "      <td>Birchwood Kitchen</td>\n",
       "      <td>Birchwood&amp;rsquo;s sandwich-slinging virtuosos ...</td>\n",
       "      <td>$10</td>\n",
       "      <td>2211 W. North Ave.</td>\n",
       "      <td>Chicago</td>\n",
       "      <td>773-276-2100</td>\n",
       "      <td>birchwoodkitchen.com</td>\n",
       "      <td>2211 W. North Ave., Chicago</td>\n",
       "      <td>2211 West North Avenue, Chicago, IL 60647, USA</td>\n",
       "      <td>41.910324</td>\n",
       "      <td>-87.682842</td>\n",
       "    </tr>\n",
       "    <tr>\n",
       "      <th>8</th>\n",
       "      <td>9</td>\n",
       "      <td>Atomica Cemitas</td>\n",
       "      <td>Cemitas Puebla</td>\n",
       "      <td>Standing three inches high, the Atomica is som...</td>\n",
       "      <td>$9</td>\n",
       "      <td>3619 W. North Ave.</td>\n",
       "      <td>Chicago</td>\n",
       "      <td>773-772-8435</td>\n",
       "      <td>cemitaspuebla.com</td>\n",
       "      <td>3619 W. North Ave., Chicago</td>\n",
       "      <td>3619 West North Avenue, Chicago, IL 60647, USA</td>\n",
       "      <td>41.909850</td>\n",
       "      <td>-87.717581</td>\n",
       "    </tr>\n",
       "    <tr>\n",
       "      <th>9</th>\n",
       "      <td>10</td>\n",
       "      <td>Grilled Laughing Bird Shrimp and Fried Oyster ...</td>\n",
       "      <td>Nana</td>\n",
       "      <td>Grilled Laughing Bird shrimp and fried oyster ...</td>\n",
       "      <td>$17</td>\n",
       "      <td>3267 S. Halsted St.</td>\n",
       "      <td>Chicago</td>\n",
       "      <td>312-929-2486</td>\n",
       "      <td>nanaorganic.com</td>\n",
       "      <td>3267 S. Halsted St., Chicago</td>\n",
       "      <td>3267 South Halsted Street, Chicago, IL 60608, USA</td>\n",
       "      <td>41.834559</td>\n",
       "      <td>-87.646049</td>\n",
       "    </tr>\n",
       "  </tbody>\n",
       "</table>\n",
       "</div>"
      ],
      "text/plain": [
       "   rank                                           sandwich  \\\n",
       "0     1                                                BLT   \n",
       "1     2                                      Fried Bologna   \n",
       "2     3                                  Woodland Mushroom   \n",
       "3     4                                         Roast Beef   \n",
       "4     5                                           PB&amp;L   \n",
       "5     6                        Belgian Chicken Curry Salad   \n",
       "6     7                                       Lobster Roll   \n",
       "7     8                                Smoked Salmon Salad   \n",
       "8     9                                    Atomica Cemitas   \n",
       "9    10  Grilled Laughing Bird Shrimp and Fried Oyster ...   \n",
       "\n",
       "                        restaurant  \\\n",
       "0                      Old Oak Tap   \n",
       "1                        Au Cheval   \n",
       "2                             Xoco   \n",
       "3                  Al&rsquo;s Deli   \n",
       "4            Publican Qualty Meats   \n",
       "5  Hendrickx Belgian Bread Crafter   \n",
       "6                           Acadia   \n",
       "7                Birchwood Kitchen   \n",
       "8                   Cemitas Puebla   \n",
       "9                             Nana   \n",
       "\n",
       "                                         description   price  \\\n",
       "0  The B is applewood smoked&mdash;nice and snapp...     $10   \n",
       "1  Thought your bologna-eating days had retired w...      $9   \n",
       "2  Leave it to Rick Bayless and crew to come up w...  $9.50.   \n",
       "3  The Francophile brothers behind this deli, whi...  $9.40.   \n",
       "4  When this place opened in February, it quickly...     $10   \n",
       "5  The mom-and-pop aesthetic is a yeast-scented b...  $7.25.   \n",
       "6  In a town that recently discovered the joys of...     $16   \n",
       "7  Birchwood&rsquo;s sandwich-slinging virtuosos ...     $10   \n",
       "8  Standing three inches high, the Atomica is som...      $9   \n",
       "9  Grilled Laughing Bird shrimp and fried oyster ...     $17   \n",
       "\n",
       "                address      city         phone                   website  \\\n",
       "0  2109 W. Chicago Ave.   Chicago  773-772-0406          theoldoaktap.com   \n",
       "1   800 W. Randolph St.   Chicago  312-929-4580       aucheval.tumblr.com   \n",
       "2      445 N. Clark St.   Chicago  312-334-3688           rickbayless.com   \n",
       "3         914 Noyes St.  Evanston           NaN               alsdeli.net   \n",
       "4    825 W. Fulton Mkt.   Chicago  312-445-8977  publicanqualitymeats.com   \n",
       "5     100 E. Walton St.   Chicago  312-649-6717                       NaN   \n",
       "6   1639 S. Wabash Ave.   Chicago  312-360-9500         acadiachicago.com   \n",
       "7    2211 W. North Ave.   Chicago  773-276-2100      birchwoodkitchen.com   \n",
       "8    3619 W. North Ave.   Chicago  773-772-8435         cemitaspuebla.com   \n",
       "9   3267 S. Halsted St.   Chicago  312-929-2486           nanaorganic.com   \n",
       "\n",
       "                    full_address  \\\n",
       "0  2109 W. Chicago Ave., Chicago   \n",
       "1   800 W. Randolph St., Chicago   \n",
       "2      445 N. Clark St., Chicago   \n",
       "3        914 Noyes St., Evanston   \n",
       "4    825 W. Fulton Mkt., Chicago   \n",
       "5     100 E. Walton St., Chicago   \n",
       "6   1639 S. Wabash Ave., Chicago   \n",
       "7    2211 W. North Ave., Chicago   \n",
       "8    3619 W. North Ave., Chicago   \n",
       "9   3267 S. Halsted St., Chicago   \n",
       "\n",
       "                                   formatted_address        lat        lng  \n",
       "0   2109 West Chicago Avenue, Chicago, IL 60622, USA  41.895734 -87.679960  \n",
       "1   800 West Randolph Street, Chicago, IL 60607, USA  41.884672 -87.647754  \n",
       "2     445 North Clark Street, Chicago, IL 60654, USA  41.890602 -87.630925  \n",
       "3          914 Noyes Street, Evanston, IL 60201, USA  42.058442 -87.684425  \n",
       "4     825 West Fulton Market, Chicago, IL 60607, USA  41.886637 -87.648553  \n",
       "5     100 East Walton Street, Chicago, IL 60611, USA  41.900246 -87.625163  \n",
       "6   1639 South Wabash Avenue, Chicago, IL 60616, USA  41.858965 -87.625142  \n",
       "7     2211 West North Avenue, Chicago, IL 60647, USA  41.910324 -87.682842  \n",
       "8     3619 West North Avenue, Chicago, IL 60647, USA  41.909850 -87.717581  \n",
       "9  3267 South Halsted Street, Chicago, IL 60608, USA  41.834559 -87.646049  "
      ]
     },
     "execution_count": 97,
     "metadata": {},
     "output_type": "execute_result"
    }
   ],
   "source": [
    "# treat the tab-separated text as a file with StringIO and read it into a DataFrame\n",
    "from_url = pd.read_table(StringIO(url), sep = '\\t')\n",
    "from_url.head(10)"
   ]
  },
  {
   "cell_type": "code",
   "execution_count": null,
   "metadata": {},
   "outputs": [],
   "source": []
  },
  {
   "cell_type": "markdown",
   "metadata": {},
   "source": [
    "## 3. Merge\n",
    "\n",
    "Use the **`pandas.merge()`** static method to merge/join datasets in a [relational])<br>\n",
    "Like SQL's JOIN clause, `pandas.merge()` allows two DataFrames to be joined on one or more keys.\n",
    "\n",
    "- parameter **`how`** : specify which keys are to be included in the resulting table\n",
    "- parameters **`on, left_on, right_on, left_index, right_index`** : to specify the columns or indexes on which to join.\n",
    "\n",
    "> `how` : {\"inner\", \"left\", \"right\", \"outer\"}\n",
    "\n",
    ">    * \"left\" : use keys from left frame only\n",
    ">    * \"right\" : use keys from right frame only\n",
    ">    * \"inner\" (default) : use intersection of keys from both frames\n",
    ">    * \"outer\" : use union of keys from both frames\n",
    "\n",
    "There are several cases to consider which are very important to understand:\n",
    "- **one-to-one** joins: to define these relationships, only one table is necessary (no join)\n",
    "    - one user **has** one phone number\n",
    "    - one phone number **belongs to** one user\n",
    "- **one-to-many** joins: to define these relationships, two tables are necessary \n",
    "    - one post **has** many comments\n",
    "    - one comment **belongs to** one post\n",
    "        - merge(left, right, on=['key'], how='?')\n",
    "- **many-to-many** joins: to define these relationships, three tables are necessary\n",
    "    - one playlist **has** many songs\n",
    "    - one song **belongs to** many playlists\n",
    "        - merge(left.reset_index(), right.reset_index(), on=['key'], how='?').set_index(['key_left','key_right'])\n",
    "\n",
    "Below are the different joins in SQL.\n",
    "\n",
    "![joins](http://i.stack.imgur.com/VQ5XP.png)"
   ]
  },
  {
   "cell_type": "code",
   "execution_count": null,
   "metadata": {},
   "outputs": [],
   "source": []
  },
  {
   "cell_type": "code",
   "execution_count": null,
   "metadata": {},
   "outputs": [],
   "source": []
  },
  {
   "cell_type": "code",
   "execution_count": 100,
   "metadata": {
    "scrolled": true
   },
   "outputs": [
    {
     "name": "stdout",
     "output_type": "stream",
     "text": [
      "   keyL left_value\n",
      "0     0         L0\n",
      "1     1         L1\n",
      "2     2         L2\n",
      "3     3         L3\n",
      "4     4         L4\n",
      "   keyR right_value\n",
      "0     2          R0\n",
      "1     3          R1\n",
      "2     4          R2\n",
      "3     5          R3\n",
      "4     6          R4\n"
     ]
    }
   ],
   "source": [
    "left = pd.DataFrame({'keyL': range(5), \n",
    "                           'left_value': ['L0', 'L1', 'L2', 'L3', 'L4']})\n",
    "right = pd.DataFrame({'keyR': range(2, 7), \n",
    "                           'right_value': ['R0', 'R1', 'R2', 'R3', 'R4']})\n",
    "print (left), '\\n'\n",
    "print (right)"
   ]
  },
  {
   "cell_type": "code",
   "execution_count": 101,
   "metadata": {},
   "outputs": [
    {
     "data": {
      "text/html": [
       "<div>\n",
       "<style scoped>\n",
       "    .dataframe tbody tr th:only-of-type {\n",
       "        vertical-align: middle;\n",
       "    }\n",
       "\n",
       "    .dataframe tbody tr th {\n",
       "        vertical-align: top;\n",
       "    }\n",
       "\n",
       "    .dataframe thead th {\n",
       "        text-align: right;\n",
       "    }\n",
       "</style>\n",
       "<table border=\"1\" class=\"dataframe\">\n",
       "  <thead>\n",
       "    <tr style=\"text-align: right;\">\n",
       "      <th></th>\n",
       "      <th>keyL</th>\n",
       "      <th>left_value</th>\n",
       "    </tr>\n",
       "  </thead>\n",
       "  <tbody>\n",
       "    <tr>\n",
       "      <th>0</th>\n",
       "      <td>0</td>\n",
       "      <td>L0</td>\n",
       "    </tr>\n",
       "    <tr>\n",
       "      <th>1</th>\n",
       "      <td>1</td>\n",
       "      <td>L1</td>\n",
       "    </tr>\n",
       "    <tr>\n",
       "      <th>2</th>\n",
       "      <td>2</td>\n",
       "      <td>L2</td>\n",
       "    </tr>\n",
       "    <tr>\n",
       "      <th>3</th>\n",
       "      <td>3</td>\n",
       "      <td>L3</td>\n",
       "    </tr>\n",
       "    <tr>\n",
       "      <th>4</th>\n",
       "      <td>4</td>\n",
       "      <td>L4</td>\n",
       "    </tr>\n",
       "  </tbody>\n",
       "</table>\n",
       "</div>"
      ],
      "text/plain": [
       "   keyL left_value\n",
       "0     0         L0\n",
       "1     1         L1\n",
       "2     2         L2\n",
       "3     3         L3\n",
       "4     4         L4"
      ]
     },
     "execution_count": 101,
     "metadata": {},
     "output_type": "execute_result"
    }
   ],
   "source": [
    "left"
   ]
  },
  {
   "cell_type": "markdown",
   "metadata": {},
   "source": [
    "### 3.1 Inner Join (default)\n",
    "Selects the rows from both tables with matching keys."
   ]
  },
  {
   "cell_type": "code",
   "execution_count": 102,
   "metadata": {
    "scrolled": true
   },
   "outputs": [
    {
     "name": "stdout",
     "output_type": "stream",
     "text": [
      "   keyL left_value  keyR right_value\n",
      "0     2         L2     2          R0\n",
      "1     3         L3     3          R1\n",
      "2     4         L4     4          R2\n"
     ]
    }
   ],
   "source": [
    "print (pd.merge(left, right, left_on='keyL', right_on='keyR', how='inner'))"
   ]
  },
  {
   "cell_type": "code",
   "execution_count": 103,
   "metadata": {},
   "outputs": [
    {
     "name": "stdout",
     "output_type": "stream",
     "text": [
      "   keyL left_value  keyR right_value\n",
      "0     2         L2     2          R0\n",
      "1     3         L3     3          R1\n",
      "2     4         L4     4          R2\n"
     ]
    }
   ],
   "source": [
    " print(pd.merge(left, right, left_on='keyL', right_on='keyR'))"
   ]
  },
  {
   "cell_type": "markdown",
   "metadata": {},
   "source": [
    "* If our key columns had *different names*, we could have used the **`left_on`** and **`right_on`** parameters to specify which fields to join from each frame.\n",
    "```python\n",
    "    pd.merge(left, right, left_on='left_key', right_on='right_key')\n",
    "```\n",
    "* If our key columns were *indexes*, we could use the **`left_index`** or **`right_index`** parameters to specify to use the index column, with a True/False value. You can mix and match columns and indexes like so:\n",
    "```python\n",
    "    pd.merge(left, right, left_on='key', right_index=True)\n",
    "```"
   ]
  },
  {
   "cell_type": "markdown",
   "metadata": {},
   "source": [
    "### 3.2 Left Outer Join\n",
    "Returns all rows from the left frame, with the matching rows in the right frame. The result is `NULL` in the right side when there is no match (NaN)."
   ]
  },
  {
   "cell_type": "code",
   "execution_count": 104,
   "metadata": {},
   "outputs": [
    {
     "name": "stdout",
     "output_type": "stream",
     "text": [
      "   keyL left_value  keyR right_value\n",
      "0     0         L0   NaN         NaN\n",
      "1     1         L1   NaN         NaN\n",
      "2     2         L2   2.0          R0\n",
      "3     3         L3   3.0          R1\n",
      "4     4         L4   4.0          R2\n"
     ]
    }
   ],
   "source": [
    "print (pd.merge(left, right, left_on='keyL', right_on='keyR', how='left'))"
   ]
  },
  {
   "cell_type": "markdown",
   "metadata": {},
   "source": [
    "### 3.3 Right Outer Join\n",
    "Returns all rows from the right frame, with the matching rows in the left frame. The result is NULL in the left side when there is no match (NaN)."
   ]
  },
  {
   "cell_type": "code",
   "execution_count": 105,
   "metadata": {},
   "outputs": [
    {
     "name": "stdout",
     "output_type": "stream",
     "text": [
      "   keyL left_value  keyR right_value\n",
      "0   2.0         L2     2          R0\n",
      "1   3.0         L3     3          R1\n",
      "2   4.0         L4     4          R2\n",
      "3   NaN        NaN     5          R3\n",
      "4   NaN        NaN     6          R4\n"
     ]
    }
   ],
   "source": [
    "print (pd.merge(left, right, left_on='keyL', right_on='keyR', how='right'))"
   ]
  },
  {
   "cell_type": "markdown",
   "metadata": {},
   "source": [
    "### 3.4 Full Outer Join\n",
    "Combines the result of both Left Outer Join et Right Outer Join."
   ]
  },
  {
   "cell_type": "code",
   "execution_count": 106,
   "metadata": {},
   "outputs": [
    {
     "name": "stdout",
     "output_type": "stream",
     "text": [
      "   keyL left_value  keyR right_value\n",
      "0   0.0         L0   NaN         NaN\n",
      "1   1.0         L1   NaN         NaN\n",
      "2   2.0         L2   2.0          R0\n",
      "3   3.0         L3   3.0          R1\n",
      "4   4.0         L4   4.0          R2\n",
      "5   NaN        NaN   5.0          R3\n",
      "6   NaN        NaN   6.0          R4\n"
     ]
    }
   ],
   "source": [
    "print (pd.merge(left, right, left_on='keyL', right_on='keyR', how='outer'))"
   ]
  },
  {
   "cell_type": "markdown",
   "metadata": {},
   "source": [
    "## 4. Concatenate\n",
    "\n",
    "Use pandas **`.concat()`** static method to combine Series/DataFrames into one unified object. \n",
    "`pandas.concat()` takes a list of Series or DataFrames and returns a Series or DataFrame of the concatenated objects. Note that because the function takes list, you can combine many objects at once.\n",
    "\n",
    "Use `axis` parameter to define along which axis to concatenate:\n",
    ">    `axis` = 0 : concatenate vertically (default)<br>\n",
    ">    `axis` = 1 : concatenante side-by-side"
   ]
  },
  {
   "cell_type": "code",
   "execution_count": 107,
   "metadata": {},
   "outputs": [
    {
     "data": {
      "text/html": [
       "<div>\n",
       "<style scoped>\n",
       "    .dataframe tbody tr th:only-of-type {\n",
       "        vertical-align: middle;\n",
       "    }\n",
       "\n",
       "    .dataframe tbody tr th {\n",
       "        vertical-align: top;\n",
       "    }\n",
       "\n",
       "    .dataframe thead th {\n",
       "        text-align: right;\n",
       "    }\n",
       "</style>\n",
       "<table border=\"1\" class=\"dataframe\">\n",
       "  <thead>\n",
       "    <tr style=\"text-align: right;\">\n",
       "      <th></th>\n",
       "      <th>keyL</th>\n",
       "      <th>left_value</th>\n",
       "    </tr>\n",
       "  </thead>\n",
       "  <tbody>\n",
       "    <tr>\n",
       "      <th>0</th>\n",
       "      <td>0</td>\n",
       "      <td>L0</td>\n",
       "    </tr>\n",
       "    <tr>\n",
       "      <th>1</th>\n",
       "      <td>1</td>\n",
       "      <td>L1</td>\n",
       "    </tr>\n",
       "    <tr>\n",
       "      <th>2</th>\n",
       "      <td>2</td>\n",
       "      <td>L2</td>\n",
       "    </tr>\n",
       "    <tr>\n",
       "      <th>3</th>\n",
       "      <td>3</td>\n",
       "      <td>L3</td>\n",
       "    </tr>\n",
       "    <tr>\n",
       "      <th>4</th>\n",
       "      <td>4</td>\n",
       "      <td>L4</td>\n",
       "    </tr>\n",
       "  </tbody>\n",
       "</table>\n",
       "</div>"
      ],
      "text/plain": [
       "   keyL left_value\n",
       "0     0         L0\n",
       "1     1         L1\n",
       "2     2         L2\n",
       "3     3         L3\n",
       "4     4         L4"
      ]
     },
     "execution_count": 107,
     "metadata": {},
     "output_type": "execute_result"
    }
   ],
   "source": [
    "left"
   ]
  },
  {
   "cell_type": "code",
   "execution_count": 108,
   "metadata": {},
   "outputs": [
    {
     "data": {
      "text/html": [
       "<div>\n",
       "<style scoped>\n",
       "    .dataframe tbody tr th:only-of-type {\n",
       "        vertical-align: middle;\n",
       "    }\n",
       "\n",
       "    .dataframe tbody tr th {\n",
       "        vertical-align: top;\n",
       "    }\n",
       "\n",
       "    .dataframe thead th {\n",
       "        text-align: right;\n",
       "    }\n",
       "</style>\n",
       "<table border=\"1\" class=\"dataframe\">\n",
       "  <thead>\n",
       "    <tr style=\"text-align: right;\">\n",
       "      <th></th>\n",
       "      <th>keyR</th>\n",
       "      <th>right_value</th>\n",
       "    </tr>\n",
       "  </thead>\n",
       "  <tbody>\n",
       "    <tr>\n",
       "      <th>0</th>\n",
       "      <td>2</td>\n",
       "      <td>R0</td>\n",
       "    </tr>\n",
       "    <tr>\n",
       "      <th>1</th>\n",
       "      <td>3</td>\n",
       "      <td>R1</td>\n",
       "    </tr>\n",
       "    <tr>\n",
       "      <th>2</th>\n",
       "      <td>4</td>\n",
       "      <td>R2</td>\n",
       "    </tr>\n",
       "    <tr>\n",
       "      <th>3</th>\n",
       "      <td>5</td>\n",
       "      <td>R3</td>\n",
       "    </tr>\n",
       "    <tr>\n",
       "      <th>4</th>\n",
       "      <td>6</td>\n",
       "      <td>R4</td>\n",
       "    </tr>\n",
       "  </tbody>\n",
       "</table>\n",
       "</div>"
      ],
      "text/plain": [
       "   keyR right_value\n",
       "0     2          R0\n",
       "1     3          R1\n",
       "2     4          R2\n",
       "3     5          R3\n",
       "4     6          R4"
      ]
     },
     "execution_count": 108,
     "metadata": {},
     "output_type": "execute_result"
    }
   ],
   "source": [
    "right"
   ]
  },
  {
   "cell_type": "code",
   "execution_count": 109,
   "metadata": {},
   "outputs": [
    {
     "data": {
      "text/html": [
       "<div>\n",
       "<style scoped>\n",
       "    .dataframe tbody tr th:only-of-type {\n",
       "        vertical-align: middle;\n",
       "    }\n",
       "\n",
       "    .dataframe tbody tr th {\n",
       "        vertical-align: top;\n",
       "    }\n",
       "\n",
       "    .dataframe thead th {\n",
       "        text-align: right;\n",
       "    }\n",
       "</style>\n",
       "<table border=\"1\" class=\"dataframe\">\n",
       "  <thead>\n",
       "    <tr style=\"text-align: right;\">\n",
       "      <th></th>\n",
       "      <th>keyL</th>\n",
       "      <th>left_value</th>\n",
       "      <th>keyR</th>\n",
       "      <th>right_value</th>\n",
       "    </tr>\n",
       "  </thead>\n",
       "  <tbody>\n",
       "    <tr>\n",
       "      <th>0</th>\n",
       "      <td>0</td>\n",
       "      <td>L0</td>\n",
       "      <td>2</td>\n",
       "      <td>R0</td>\n",
       "    </tr>\n",
       "    <tr>\n",
       "      <th>1</th>\n",
       "      <td>1</td>\n",
       "      <td>L1</td>\n",
       "      <td>3</td>\n",
       "      <td>R1</td>\n",
       "    </tr>\n",
       "    <tr>\n",
       "      <th>2</th>\n",
       "      <td>2</td>\n",
       "      <td>L2</td>\n",
       "      <td>4</td>\n",
       "      <td>R2</td>\n",
       "    </tr>\n",
       "    <tr>\n",
       "      <th>3</th>\n",
       "      <td>3</td>\n",
       "      <td>L3</td>\n",
       "      <td>5</td>\n",
       "      <td>R3</td>\n",
       "    </tr>\n",
       "    <tr>\n",
       "      <th>4</th>\n",
       "      <td>4</td>\n",
       "      <td>L4</td>\n",
       "      <td>6</td>\n",
       "      <td>R4</td>\n",
       "    </tr>\n",
       "  </tbody>\n",
       "</table>\n",
       "</div>"
      ],
      "text/plain": [
       "   keyL left_value  keyR right_value\n",
       "0     0         L0     2          R0\n",
       "1     1         L1     3          R1\n",
       "2     2         L2     4          R2\n",
       "3     3         L3     5          R3\n",
       "4     4         L4     6          R4"
      ]
     },
     "execution_count": 109,
     "metadata": {},
     "output_type": "execute_result"
    }
   ],
   "source": [
    "pd.concat([left, right], axis=1)"
   ]
  },
  {
   "cell_type": "code",
   "execution_count": 110,
   "metadata": {},
   "outputs": [
    {
     "data": {
      "text/html": [
       "<div>\n",
       "<style scoped>\n",
       "    .dataframe tbody tr th:only-of-type {\n",
       "        vertical-align: middle;\n",
       "    }\n",
       "\n",
       "    .dataframe tbody tr th {\n",
       "        vertical-align: top;\n",
       "    }\n",
       "\n",
       "    .dataframe thead th {\n",
       "        text-align: right;\n",
       "    }\n",
       "</style>\n",
       "<table border=\"1\" class=\"dataframe\">\n",
       "  <thead>\n",
       "    <tr style=\"text-align: right;\">\n",
       "      <th></th>\n",
       "      <th>keyL</th>\n",
       "      <th>left_value</th>\n",
       "      <th>keyR</th>\n",
       "      <th>right_value</th>\n",
       "    </tr>\n",
       "  </thead>\n",
       "  <tbody>\n",
       "    <tr>\n",
       "      <th>0</th>\n",
       "      <td>0.0</td>\n",
       "      <td>L0</td>\n",
       "      <td>NaN</td>\n",
       "      <td>NaN</td>\n",
       "    </tr>\n",
       "    <tr>\n",
       "      <th>1</th>\n",
       "      <td>1.0</td>\n",
       "      <td>L1</td>\n",
       "      <td>NaN</td>\n",
       "      <td>NaN</td>\n",
       "    </tr>\n",
       "    <tr>\n",
       "      <th>2</th>\n",
       "      <td>2.0</td>\n",
       "      <td>L2</td>\n",
       "      <td>NaN</td>\n",
       "      <td>NaN</td>\n",
       "    </tr>\n",
       "    <tr>\n",
       "      <th>3</th>\n",
       "      <td>3.0</td>\n",
       "      <td>L3</td>\n",
       "      <td>NaN</td>\n",
       "      <td>NaN</td>\n",
       "    </tr>\n",
       "    <tr>\n",
       "      <th>4</th>\n",
       "      <td>4.0</td>\n",
       "      <td>L4</td>\n",
       "      <td>NaN</td>\n",
       "      <td>NaN</td>\n",
       "    </tr>\n",
       "    <tr>\n",
       "      <th>0</th>\n",
       "      <td>NaN</td>\n",
       "      <td>NaN</td>\n",
       "      <td>2.0</td>\n",
       "      <td>R0</td>\n",
       "    </tr>\n",
       "    <tr>\n",
       "      <th>1</th>\n",
       "      <td>NaN</td>\n",
       "      <td>NaN</td>\n",
       "      <td>3.0</td>\n",
       "      <td>R1</td>\n",
       "    </tr>\n",
       "    <tr>\n",
       "      <th>2</th>\n",
       "      <td>NaN</td>\n",
       "      <td>NaN</td>\n",
       "      <td>4.0</td>\n",
       "      <td>R2</td>\n",
       "    </tr>\n",
       "    <tr>\n",
       "      <th>3</th>\n",
       "      <td>NaN</td>\n",
       "      <td>NaN</td>\n",
       "      <td>5.0</td>\n",
       "      <td>R3</td>\n",
       "    </tr>\n",
       "    <tr>\n",
       "      <th>4</th>\n",
       "      <td>NaN</td>\n",
       "      <td>NaN</td>\n",
       "      <td>6.0</td>\n",
       "      <td>R4</td>\n",
       "    </tr>\n",
       "  </tbody>\n",
       "</table>\n",
       "</div>"
      ],
      "text/plain": [
       "   keyL left_value  keyR right_value\n",
       "0   0.0         L0   NaN         NaN\n",
       "1   1.0         L1   NaN         NaN\n",
       "2   2.0         L2   NaN         NaN\n",
       "3   3.0         L3   NaN         NaN\n",
       "4   4.0         L4   NaN         NaN\n",
       "0   NaN        NaN   2.0          R0\n",
       "1   NaN        NaN   3.0          R1\n",
       "2   NaN        NaN   4.0          R2\n",
       "3   NaN        NaN   5.0          R3\n",
       "4   NaN        NaN   6.0          R4"
      ]
     },
     "execution_count": 110,
     "metadata": {},
     "output_type": "execute_result"
    }
   ],
   "source": [
    "pd.concat([left, right], axis=0)"
   ]
  },
  {
   "cell_type": "code",
   "execution_count": null,
   "metadata": {},
   "outputs": [],
   "source": []
  }
 ],
 "metadata": {
  "kernelspec": {
   "display_name": "Python 3",
   "language": "python",
   "name": "python3"
  },
  "language_info": {
   "codemirror_mode": {
    "name": "ipython",
    "version": 3
   },
   "file_extension": ".py",
   "mimetype": "text/x-python",
   "name": "python",
   "nbconvert_exporter": "python",
   "pygments_lexer": "ipython3",
   "version": "3.7.4"
  }
 },
 "nbformat": 4,
 "nbformat_minor": 1
}
