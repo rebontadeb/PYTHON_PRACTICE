{
 "cells": [
  {
   "cell_type": "markdown",
   "metadata": {},
   "source": [
    "## Excel like lIke operation in python"
   ]
  },
  {
   "cell_type": "markdown",
   "metadata": {},
   "source": [
    "### Create a Pivot Table in Python using Pandas"
   ]
  },
  {
   "cell_type": "code",
   "execution_count": 1,
   "metadata": {},
   "outputs": [
    {
     "name": "stdout",
     "output_type": "stream",
     "text": [
      "   Name of Employee  Sales  Quarter Country\n",
      "0               Jon   1000        1      US\n",
      "1              Mark    300        1   Japan\n",
      "2              Tina    400        1  Brazil\n",
      "3             Maria    500        1      UK\n",
      "4              Bill    800        1      US\n",
      "5               Jon   1000        2  Brazil\n",
      "6              Mark    500        2   Japan\n",
      "7              Tina    700        2  Brazil\n",
      "8             Maria     50        2      US\n",
      "9              Bill     60        2      US\n",
      "10              Jon   1000        3      US\n",
      "11             Mark    900        3   Japan\n",
      "12             Tina    750        3  Brazil\n",
      "13            Maria    200        3      UK\n",
      "14             Bill    300        3  Brazil\n",
      "15              Jon   1000        4   Japan\n",
      "16             Mark    900        4   Japan\n",
      "17             Tina    250        4  Brazil\n",
      "18            Maria    750        4      UK\n",
      "19             Bill     50        4      US\n"
     ]
    }
   ],
   "source": [
    "import pandas as pd\n",
    "\n",
    "employees = {'Name of Employee': ['Jon','Mark','Tina','Maria','Bill','Jon','Mark','Tina','Maria','Bill','Jon','Mark','Tina','Maria','Bill','Jon','Mark','Tina','Maria','Bill'],\n",
    "             'Sales': [1000,300,400,500,800,1000,500,700,50,60,1000,900,750,200,300,1000,900,250,750,50],\n",
    "             'Quarter': [1,1,1,1,1,2,2,2,2,2,3,3,3,3,3,4,4,4,4,4],\n",
    "             'Country': ['US','Japan','Brazil','UK','US','Brazil','Japan','Brazil','US','US','US','Japan','Brazil','UK','Brazil','Japan','Japan','Brazil','UK','US']\n",
    "            }\n",
    "\n",
    "df = pd.DataFrame(employees, columns= ['Name of Employee','Sales','Quarter','Country'])\n",
    "\n",
    "print (df)"
   ]
  },
  {
   "cell_type": "markdown",
   "metadata": {},
   "source": [
    "## Scenario 1: Total sales per employee"
   ]
  },
  {
   "cell_type": "code",
   "execution_count": 2,
   "metadata": {},
   "outputs": [
    {
     "name": "stdout",
     "output_type": "stream",
     "text": [
      "                  Sales\n",
      "Name of Employee       \n",
      "Bill               1210\n",
      "Jon                4000\n",
      "Maria              1500\n",
      "Mark               2600\n",
      "Tina               2100\n"
     ]
    }
   ],
   "source": [
    "pivot = df.pivot_table(index=['Name of Employee'], values=['Sales'], aggfunc='sum')\n",
    "print(pivot)"
   ]
  },
  {
   "cell_type": "markdown",
   "metadata": {},
   "source": [
    "### Scenario 2: Total sales by country\n"
   ]
  },
  {
   "cell_type": "code",
   "execution_count": 3,
   "metadata": {},
   "outputs": [
    {
     "name": "stdout",
     "output_type": "stream",
     "text": [
      "         Sales\n",
      "Country       \n",
      "Brazil    3400\n",
      "Japan     3600\n",
      "UK        1450\n",
      "US        2960\n"
     ]
    }
   ],
   "source": [
    "pivot = df.pivot_table(index=['Country'], values=['Sales'], aggfunc='sum')\n",
    "print(pivot)"
   ]
  },
  {
   "cell_type": "code",
   "execution_count": 4,
   "metadata": {},
   "outputs": [],
   "source": [
    "import matplotlib.pyplot as plt"
   ]
  },
  {
   "cell_type": "code",
   "execution_count": 5,
   "metadata": {},
   "outputs": [
    {
     "data": {
      "text/plain": [
       "<function matplotlib.pyplot.show(*args, **kw)>"
      ]
     },
     "execution_count": 5,
     "metadata": {},
     "output_type": "execute_result"
    },
    {
     "data": {
      "image/png": "[encoded data removed]",
      "text/plain": [
       "<Figure size 432x288 with 1 Axes>"
      ]
     },
     "metadata": {
      "needs_background": "light"
     },
     "output_type": "display_data"
    }
   ],
   "source": [
    "pivot = df.pivot_table(index=['Country'], values=['Sales'], aggfunc='sum').plot()\n",
    "plt.show"
   ]
  },
  {
   "cell_type": "markdown",
   "metadata": {},
   "source": [
    "## Scenario 3: Sales by both employee and country"
   ]
  },
  {
   "cell_type": "code",
   "execution_count": 6,
   "metadata": {},
   "outputs": [
    {
     "name": "stdout",
     "output_type": "stream",
     "text": [
      "                          Sales\n",
      "Name of Employee Country       \n",
      "Bill             Brazil     300\n",
      "                 US         910\n",
      "Jon              Brazil    1000\n",
      "                 Japan     1000\n",
      "                 US        2000\n",
      "Maria            UK        1450\n",
      "                 US          50\n",
      "Mark             Japan     2600\n",
      "Tina             Brazil    2100\n"
     ]
    }
   ],
   "source": [
    "pivot = df.pivot_table(index=['Name of Employee','Country'], values=['Sales'], aggfunc='sum')\n",
    "\n",
    "print (pivot)"
   ]
  },
  {
   "cell_type": "markdown",
   "metadata": {},
   "source": [
    "### Scenario 4: Maximum individual sale by country\n"
   ]
  },
  {
   "cell_type": "code",
   "execution_count": 7,
   "metadata": {},
   "outputs": [
    {
     "name": "stdout",
     "output_type": "stream",
     "text": [
      "         Sales\n",
      "Country       \n",
      "Brazil    1000\n",
      "Japan     1000\n",
      "UK         750\n",
      "US        1000\n"
     ]
    }
   ],
   "source": [
    "pivot = df.pivot_table(index=['Country'], values=['Sales'], aggfunc='max')\n",
    "\n",
    "print (pivot)"
   ]
  },
  {
   "cell_type": "code",
   "execution_count": 8,
   "metadata": {},
   "outputs": [],
   "source": [
    "## aggfunc={'median','mean','min'}"
   ]
  },
  {
   "cell_type": "code",
   "execution_count": 9,
   "metadata": {},
   "outputs": [
    {
     "name": "stdout",
     "output_type": "stream",
     "text": [
      "              Sales              \n",
      "               mean median    min\n",
      "Country                          \n",
      "Brazil   566.666667  550.0  250.0\n",
      "Japan    720.000000  900.0  300.0\n",
      "UK       483.333333  500.0  200.0\n",
      "US       493.333333  430.0   50.0\n"
     ]
    }
   ],
   "source": [
    "pivot = df.pivot_table(index=['Country'], values=['Sales'], aggfunc={'median','mean','min'})\n",
    "\n",
    "print (pivot)"
   ]
  },
  {
   "cell_type": "code",
   "execution_count": 10,
   "metadata": {},
   "outputs": [
    {
     "data": {
      "image/png": "[encoded data removed]",
      "text/plain": [
       "<Figure size 432x288 with 1 Axes>"
      ]
     },
     "metadata": {
      "needs_background": "light"
     },
     "output_type": "display_data"
    }
   ],
   "source": [
    "pivot = df.pivot_table(index=['Country'], values=['Sales'], aggfunc={'median','mean','min'}).plot()\n",
    "\n",
    "plt.show()"
   ]
  },
  {
   "cell_type": "code",
   "execution_count": 2,
   "metadata": {},
   "outputs": [],
   "source": [
    "### Read data from the Excel file\n",
    "import pandas as pd"
   ]
  },
  {
   "cell_type": "markdown",
   "metadata": {},
   "source": [
    "By default the following values are interpreted\n",
    "    as NaN: '', '#N/A', '#N/A N/A', '#NA', '-1.#IND', '-1.#QNAN', '-NaN', '-nan',\n",
    "    '1.#IND', '1.#QNAN', 'N/A', 'NA', 'NULL', 'NaN', 'n/a', 'nan',\n",
    "    'null'."
   ]
  },
  {
   "cell_type": "code",
   "execution_count": 12,
   "metadata": {},
   "outputs": [],
   "source": [
    "excel_file = 'movies.xls'\n",
    "movies = pd.read_excel(excel_file)"
   ]
  },
  {
   "cell_type": "code",
   "execution_count": 13,
   "metadata": {},
   "outputs": [
    {
     "data": {
      "text/html": [
       "<div>\n",
       "<style scoped>\n",
       "    .dataframe tbody tr th:only-of-type {\n",
       "        vertical-align: middle;\n",
       "    }\n",
       "\n",
       "    .dataframe tbody tr th {\n",
       "        vertical-align: top;\n",
       "    }\n",
       "\n",
       "    .dataframe thead th {\n",
       "        text-align: right;\n",
       "    }\n",
       "</style>\n",
       "<table border=\"1\" class=\"dataframe\">\n",
       "  <thead>\n",
       "    <tr style=\"text-align: right;\">\n",
       "      <th></th>\n",
       "      <th>Year</th>\n",
       "      <th>Genres</th>\n",
       "      <th>Language</th>\n",
       "      <th>Country</th>\n",
       "      <th>Content Rating</th>\n",
       "      <th>Duration</th>\n",
       "      <th>Aspect Ratio</th>\n",
       "      <th>Budget</th>\n",
       "      <th>Gross Earnings</th>\n",
       "      <th>Director</th>\n",
       "      <th>...</th>\n",
       "      <th>Facebook Likes - Actor 1</th>\n",
       "      <th>Facebook Likes - Actor 2</th>\n",
       "      <th>Facebook Likes - Actor 3</th>\n",
       "      <th>Facebook Likes - cast Total</th>\n",
       "      <th>Facebook likes - Movie</th>\n",
       "      <th>Facenumber in posters</th>\n",
       "      <th>User Votes</th>\n",
       "      <th>Reviews by Users</th>\n",
       "      <th>Reviews by Crtiics</th>\n",
       "      <th>IMDB Score</th>\n",
       "    </tr>\n",
       "    <tr>\n",
       "      <th>Title</th>\n",
       "      <th></th>\n",
       "      <th></th>\n",
       "      <th></th>\n",
       "      <th></th>\n",
       "      <th></th>\n",
       "      <th></th>\n",
       "      <th></th>\n",
       "      <th></th>\n",
       "      <th></th>\n",
       "      <th></th>\n",
       "      <th></th>\n",
       "      <th></th>\n",
       "      <th></th>\n",
       "      <th></th>\n",
       "      <th></th>\n",
       "      <th></th>\n",
       "      <th></th>\n",
       "      <th></th>\n",
       "      <th></th>\n",
       "      <th></th>\n",
       "      <th></th>\n",
       "    </tr>\n",
       "  </thead>\n",
       "  <tbody>\n",
       "    <tr>\n",
       "      <td>Intolerance: Love's Struggle Throughout the Ages</td>\n",
       "      <td>1916</td>\n",
       "      <td>Drama|History|War</td>\n",
       "      <td>NaN</td>\n",
       "      <td>USA</td>\n",
       "      <td>Not Rated</td>\n",
       "      <td>123</td>\n",
       "      <td>1.33</td>\n",
       "      <td>385907.0</td>\n",
       "      <td>NaN</td>\n",
       "      <td>D.W. Griffith</td>\n",
       "      <td>...</td>\n",
       "      <td>436</td>\n",
       "      <td>22</td>\n",
       "      <td>9.0</td>\n",
       "      <td>481</td>\n",
       "      <td>691</td>\n",
       "      <td>1</td>\n",
       "      <td>10718</td>\n",
       "      <td>88</td>\n",
       "      <td>69.0</td>\n",
       "      <td>8.0</td>\n",
       "    </tr>\n",
       "    <tr>\n",
       "      <td>Over the Hill to the Poorhouse</td>\n",
       "      <td>1920</td>\n",
       "      <td>Crime|Drama</td>\n",
       "      <td>NaN</td>\n",
       "      <td>USA</td>\n",
       "      <td>NaN</td>\n",
       "      <td>110</td>\n",
       "      <td>1.33</td>\n",
       "      <td>100000.0</td>\n",
       "      <td>3000000.0</td>\n",
       "      <td>Harry F. Millarde</td>\n",
       "      <td>...</td>\n",
       "      <td>2</td>\n",
       "      <td>2</td>\n",
       "      <td>0.0</td>\n",
       "      <td>4</td>\n",
       "      <td>0</td>\n",
       "      <td>1</td>\n",
       "      <td>5</td>\n",
       "      <td>1</td>\n",
       "      <td>1.0</td>\n",
       "      <td>4.8</td>\n",
       "    </tr>\n",
       "    <tr>\n",
       "      <td>The Big Parade</td>\n",
       "      <td>1925</td>\n",
       "      <td>Drama|Romance|War</td>\n",
       "      <td>NaN</td>\n",
       "      <td>USA</td>\n",
       "      <td>Not Rated</td>\n",
       "      <td>151</td>\n",
       "      <td>1.33</td>\n",
       "      <td>245000.0</td>\n",
       "      <td>NaN</td>\n",
       "      <td>King Vidor</td>\n",
       "      <td>...</td>\n",
       "      <td>81</td>\n",
       "      <td>12</td>\n",
       "      <td>6.0</td>\n",
       "      <td>108</td>\n",
       "      <td>226</td>\n",
       "      <td>0</td>\n",
       "      <td>4849</td>\n",
       "      <td>45</td>\n",
       "      <td>48.0</td>\n",
       "      <td>8.3</td>\n",
       "    </tr>\n",
       "    <tr>\n",
       "      <td>Metropolis</td>\n",
       "      <td>1927</td>\n",
       "      <td>Drama|Sci-Fi</td>\n",
       "      <td>German</td>\n",
       "      <td>Germany</td>\n",
       "      <td>Not Rated</td>\n",
       "      <td>145</td>\n",
       "      <td>1.33</td>\n",
       "      <td>6000000.0</td>\n",
       "      <td>26435.0</td>\n",
       "      <td>Fritz Lang</td>\n",
       "      <td>...</td>\n",
       "      <td>136</td>\n",
       "      <td>23</td>\n",
       "      <td>18.0</td>\n",
       "      <td>203</td>\n",
       "      <td>12000</td>\n",
       "      <td>1</td>\n",
       "      <td>111841</td>\n",
       "      <td>413</td>\n",
       "      <td>260.0</td>\n",
       "      <td>8.3</td>\n",
       "    </tr>\n",
       "    <tr>\n",
       "      <td>Pandora's Box</td>\n",
       "      <td>1929</td>\n",
       "      <td>Crime|Drama|Romance</td>\n",
       "      <td>German</td>\n",
       "      <td>Germany</td>\n",
       "      <td>Not Rated</td>\n",
       "      <td>110</td>\n",
       "      <td>1.33</td>\n",
       "      <td>NaN</td>\n",
       "      <td>9950.0</td>\n",
       "      <td>Georg Wilhelm Pabst</td>\n",
       "      <td>...</td>\n",
       "      <td>426</td>\n",
       "      <td>20</td>\n",
       "      <td>3.0</td>\n",
       "      <td>455</td>\n",
       "      <td>926</td>\n",
       "      <td>1</td>\n",
       "      <td>7431</td>\n",
       "      <td>84</td>\n",
       "      <td>71.0</td>\n",
       "      <td>8.0</td>\n",
       "    </tr>\n",
       "  </tbody>\n",
       "</table>\n",
       "<p>5 rows × 24 columns</p>\n",
       "</div>"
      ],
      "text/plain": [
       "                                                   Year               Genres  \\\n",
       "Title                                                                          \n",
       "Intolerance: Love's Struggle Throughout the Ages   1916    Drama|History|War   \n",
       "Over the Hill to the Poorhouse                     1920          Crime|Drama   \n",
       "The Big Parade                                     1925    Drama|Romance|War   \n",
       "Metropolis                                         1927         Drama|Sci-Fi   \n",
       "Pandora's Box                                      1929  Crime|Drama|Romance   \n",
       "\n",
       "                                                  Language  Country  \\\n",
       "Title                                                                 \n",
       "Intolerance: Love's Struggle Throughout the Ages       NaN      USA   \n",
       "Over the Hill to the Poorhouse                         NaN      USA   \n",
       "The Big Parade                                         NaN      USA   \n",
       "Metropolis                                          German  Germany   \n",
       "Pandora's Box                                       German  Germany   \n",
       "\n",
       "                                                  Content Rating  Duration  \\\n",
       "Title                                                                        \n",
       "Intolerance: Love's Struggle Throughout the Ages       Not Rated       123   \n",
       "Over the Hill to the Poorhouse                               NaN       110   \n",
       "The Big Parade                                         Not Rated       151   \n",
       "Metropolis                                             Not Rated       145   \n",
       "Pandora's Box                                          Not Rated       110   \n",
       "\n",
       "                                                   Aspect Ratio     Budget  \\\n",
       "Title                                                                        \n",
       "Intolerance: Love's Struggle Throughout the Ages           1.33   385907.0   \n",
       "Over the Hill to the Poorhouse                             1.33   100000.0   \n",
       "The Big Parade                                             1.33   245000.0   \n",
       "Metropolis                                                 1.33  6000000.0   \n",
       "Pandora's Box                                              1.33        NaN   \n",
       "\n",
       "                                                   Gross Earnings  \\\n",
       "Title                                                               \n",
       "Intolerance: Love's Struggle Throughout the Ages              NaN   \n",
       "Over the Hill to the Poorhouse                          3000000.0   \n",
       "The Big Parade                                                NaN   \n",
       "Metropolis                                                26435.0   \n",
       "Pandora's Box                                              9950.0   \n",
       "\n",
       "                                                              Director  ...  \\\n",
       "Title                                                                   ...   \n",
       "Intolerance: Love's Struggle Throughout the Ages         D.W. Griffith  ...   \n",
       "Over the Hill to the Poorhouse                       Harry F. Millarde  ...   \n",
       "The Big Parade                                              King Vidor  ...   \n",
       "Metropolis                                                  Fritz Lang  ...   \n",
       "Pandora's Box                                      Georg Wilhelm Pabst  ...   \n",
       "\n",
       "                                                  Facebook Likes - Actor 1  \\\n",
       "Title                                                                        \n",
       "Intolerance: Love's Struggle Throughout the Ages                       436   \n",
       "Over the Hill to the Poorhouse                                           2   \n",
       "The Big Parade                                                          81   \n",
       "Metropolis                                                             136   \n",
       "Pandora's Box                                                          426   \n",
       "\n",
       "                                                  Facebook Likes - Actor 2  \\\n",
       "Title                                                                        \n",
       "Intolerance: Love's Struggle Throughout the Ages                        22   \n",
       "Over the Hill to the Poorhouse                                           2   \n",
       "The Big Parade                                                          12   \n",
       "Metropolis                                                              23   \n",
       "Pandora's Box                                                           20   \n",
       "\n",
       "                                                  Facebook Likes - Actor 3  \\\n",
       "Title                                                                        \n",
       "Intolerance: Love's Struggle Throughout the Ages                       9.0   \n",
       "Over the Hill to the Poorhouse                                         0.0   \n",
       "The Big Parade                                                         6.0   \n",
       "Metropolis                                                            18.0   \n",
       "Pandora's Box                                                          3.0   \n",
       "\n",
       "                                                   Facebook Likes - cast Total  \\\n",
       "Title                                                                            \n",
       "Intolerance: Love's Struggle Throughout the Ages                           481   \n",
       "Over the Hill to the Poorhouse                                               4   \n",
       "The Big Parade                                                             108   \n",
       "Metropolis                                                                 203   \n",
       "Pandora's Box                                                              455   \n",
       "\n",
       "                                                   Facebook likes - Movie  \\\n",
       "Title                                                                       \n",
       "Intolerance: Love's Struggle Throughout the Ages                      691   \n",
       "Over the Hill to the Poorhouse                                          0   \n",
       "The Big Parade                                                        226   \n",
       "Metropolis                                                          12000   \n",
       "Pandora's Box                                                         926   \n",
       "\n",
       "                                                   Facenumber in posters  \\\n",
       "Title                                                                      \n",
       "Intolerance: Love's Struggle Throughout the Ages                       1   \n",
       "Over the Hill to the Poorhouse                                         1   \n",
       "The Big Parade                                                         0   \n",
       "Metropolis                                                             1   \n",
       "Pandora's Box                                                          1   \n",
       "\n",
       "                                                   User Votes  \\\n",
       "Title                                                           \n",
       "Intolerance: Love's Struggle Throughout the Ages        10718   \n",
       "Over the Hill to the Poorhouse                              5   \n",
       "The Big Parade                                           4849   \n",
       "Metropolis                                             111841   \n",
       "Pandora's Box                                            7431   \n",
       "\n",
       "                                                   Reviews by Users  \\\n",
       "Title                                                                 \n",
       "Intolerance: Love's Struggle Throughout the Ages                 88   \n",
       "Over the Hill to the Poorhouse                                    1   \n",
       "The Big Parade                                                   45   \n",
       "Metropolis                                                      413   \n",
       "Pandora's Box                                                    84   \n",
       "\n",
       "                                                   Reviews by Crtiics  \\\n",
       "Title                                                                   \n",
       "Intolerance: Love's Struggle Throughout the Ages                 69.0   \n",
       "Over the Hill to the Poorhouse                                    1.0   \n",
       "The Big Parade                                                   48.0   \n",
       "Metropolis                                                      260.0   \n",
       "Pandora's Box                                                    71.0   \n",
       "\n",
       "                                                   IMDB Score  \n",
       "Title                                                          \n",
       "Intolerance: Love's Struggle Throughout the Ages          8.0  \n",
       "Over the Hill to the Poorhouse                            4.8  \n",
       "The Big Parade                                            8.3  \n",
       "Metropolis                                                8.3  \n",
       "Pandora's Box                                             8.0  \n",
       "\n",
       "[5 rows x 24 columns]"
      ]
     },
     "execution_count": 13,
     "metadata": {},
     "output_type": "execute_result"
    }
   ],
   "source": [
    "movies_sheet1 = pd.read_excel(excel_file, sheet_name= '1900s', index_col=0)\n",
    "movies_sheet1.head()"
   ]
  },
  {
   "cell_type": "code",
   "execution_count": 14,
   "metadata": {},
   "outputs": [
    {
     "data": {
      "text/html": [
       "<div>\n",
       "<style scoped>\n",
       "    .dataframe tbody tr th:only-of-type {\n",
       "        vertical-align: middle;\n",
       "    }\n",
       "\n",
       "    .dataframe tbody tr th {\n",
       "        vertical-align: top;\n",
       "    }\n",
       "\n",
       "    .dataframe thead th {\n",
       "        text-align: right;\n",
       "    }\n",
       "</style>\n",
       "<table border=\"1\" class=\"dataframe\">\n",
       "  <thead>\n",
       "    <tr style=\"text-align: right;\">\n",
       "      <th></th>\n",
       "      <th>Year</th>\n",
       "      <th>Genres</th>\n",
       "      <th>Language</th>\n",
       "      <th>Country</th>\n",
       "      <th>Content Rating</th>\n",
       "      <th>Duration</th>\n",
       "      <th>Aspect Ratio</th>\n",
       "      <th>Budget</th>\n",
       "      <th>Gross Earnings</th>\n",
       "      <th>Director</th>\n",
       "      <th>...</th>\n",
       "      <th>Facebook Likes - Actor 1</th>\n",
       "      <th>Facebook Likes - Actor 2</th>\n",
       "      <th>Facebook Likes - Actor 3</th>\n",
       "      <th>Facebook Likes - cast Total</th>\n",
       "      <th>Facebook likes - Movie</th>\n",
       "      <th>Facenumber in posters</th>\n",
       "      <th>User Votes</th>\n",
       "      <th>Reviews by Users</th>\n",
       "      <th>Reviews by Crtiics</th>\n",
       "      <th>IMDB Score</th>\n",
       "    </tr>\n",
       "    <tr>\n",
       "      <th>Title</th>\n",
       "      <th></th>\n",
       "      <th></th>\n",
       "      <th></th>\n",
       "      <th></th>\n",
       "      <th></th>\n",
       "      <th></th>\n",
       "      <th></th>\n",
       "      <th></th>\n",
       "      <th></th>\n",
       "      <th></th>\n",
       "      <th></th>\n",
       "      <th></th>\n",
       "      <th></th>\n",
       "      <th></th>\n",
       "      <th></th>\n",
       "      <th></th>\n",
       "      <th></th>\n",
       "      <th></th>\n",
       "      <th></th>\n",
       "      <th></th>\n",
       "      <th></th>\n",
       "    </tr>\n",
       "  </thead>\n",
       "  <tbody>\n",
       "    <tr>\n",
       "      <td>102 Dalmatians</td>\n",
       "      <td>2000</td>\n",
       "      <td>Adventure|Comedy|Family</td>\n",
       "      <td>English</td>\n",
       "      <td>USA</td>\n",
       "      <td>G</td>\n",
       "      <td>100.0</td>\n",
       "      <td>1.85</td>\n",
       "      <td>85000000.0</td>\n",
       "      <td>66941559.0</td>\n",
       "      <td>Kevin Lima</td>\n",
       "      <td>...</td>\n",
       "      <td>2000.0</td>\n",
       "      <td>795.0</td>\n",
       "      <td>439.0</td>\n",
       "      <td>4182</td>\n",
       "      <td>372</td>\n",
       "      <td>1</td>\n",
       "      <td>26413</td>\n",
       "      <td>77.0</td>\n",
       "      <td>84.0</td>\n",
       "      <td>4.8</td>\n",
       "    </tr>\n",
       "    <tr>\n",
       "      <td>28 Days</td>\n",
       "      <td>2000</td>\n",
       "      <td>Comedy|Drama</td>\n",
       "      <td>English</td>\n",
       "      <td>USA</td>\n",
       "      <td>PG-13</td>\n",
       "      <td>103.0</td>\n",
       "      <td>1.37</td>\n",
       "      <td>43000000.0</td>\n",
       "      <td>37035515.0</td>\n",
       "      <td>Betty Thomas</td>\n",
       "      <td>...</td>\n",
       "      <td>12000.0</td>\n",
       "      <td>10000.0</td>\n",
       "      <td>664.0</td>\n",
       "      <td>23864</td>\n",
       "      <td>0</td>\n",
       "      <td>1</td>\n",
       "      <td>34597</td>\n",
       "      <td>194.0</td>\n",
       "      <td>116.0</td>\n",
       "      <td>6.0</td>\n",
       "    </tr>\n",
       "    <tr>\n",
       "      <td>3 Strikes</td>\n",
       "      <td>2000</td>\n",
       "      <td>Comedy</td>\n",
       "      <td>English</td>\n",
       "      <td>USA</td>\n",
       "      <td>R</td>\n",
       "      <td>82.0</td>\n",
       "      <td>1.85</td>\n",
       "      <td>6000000.0</td>\n",
       "      <td>9821335.0</td>\n",
       "      <td>DJ Pooh</td>\n",
       "      <td>...</td>\n",
       "      <td>939.0</td>\n",
       "      <td>706.0</td>\n",
       "      <td>585.0</td>\n",
       "      <td>3354</td>\n",
       "      <td>118</td>\n",
       "      <td>1</td>\n",
       "      <td>1415</td>\n",
       "      <td>10.0</td>\n",
       "      <td>22.0</td>\n",
       "      <td>4.0</td>\n",
       "    </tr>\n",
       "    <tr>\n",
       "      <td>Aberdeen</td>\n",
       "      <td>2000</td>\n",
       "      <td>Drama</td>\n",
       "      <td>English</td>\n",
       "      <td>UK</td>\n",
       "      <td>NaN</td>\n",
       "      <td>106.0</td>\n",
       "      <td>1.85</td>\n",
       "      <td>6500000.0</td>\n",
       "      <td>64148.0</td>\n",
       "      <td>Hans Petter Moland</td>\n",
       "      <td>...</td>\n",
       "      <td>844.0</td>\n",
       "      <td>2.0</td>\n",
       "      <td>0.0</td>\n",
       "      <td>846</td>\n",
       "      <td>260</td>\n",
       "      <td>0</td>\n",
       "      <td>2601</td>\n",
       "      <td>35.0</td>\n",
       "      <td>28.0</td>\n",
       "      <td>7.3</td>\n",
       "    </tr>\n",
       "    <tr>\n",
       "      <td>All the Pretty Horses</td>\n",
       "      <td>2000</td>\n",
       "      <td>Drama|Romance|Western</td>\n",
       "      <td>English</td>\n",
       "      <td>USA</td>\n",
       "      <td>PG-13</td>\n",
       "      <td>220.0</td>\n",
       "      <td>2.35</td>\n",
       "      <td>57000000.0</td>\n",
       "      <td>15527125.0</td>\n",
       "      <td>Billy Bob Thornton</td>\n",
       "      <td>...</td>\n",
       "      <td>13000.0</td>\n",
       "      <td>861.0</td>\n",
       "      <td>820.0</td>\n",
       "      <td>15006</td>\n",
       "      <td>652</td>\n",
       "      <td>2</td>\n",
       "      <td>11388</td>\n",
       "      <td>183.0</td>\n",
       "      <td>85.0</td>\n",
       "      <td>5.8</td>\n",
       "    </tr>\n",
       "  </tbody>\n",
       "</table>\n",
       "<p>5 rows × 24 columns</p>\n",
       "</div>"
      ],
      "text/plain": [
       "                        Year                   Genres Language Country  \\\n",
       "Title                                                                    \n",
       "102 Dalmatians          2000  Adventure|Comedy|Family  English     USA   \n",
       "28 Days                 2000             Comedy|Drama  English     USA   \n",
       "3 Strikes               2000                   Comedy  English     USA   \n",
       "Aberdeen                2000                    Drama  English      UK   \n",
       "All the Pretty Horses   2000    Drama|Romance|Western  English     USA   \n",
       "\n",
       "                       Content Rating  Duration  Aspect Ratio      Budget  \\\n",
       "Title                                                                       \n",
       "102 Dalmatians                      G     100.0          1.85  85000000.0   \n",
       "28 Days                         PG-13     103.0          1.37  43000000.0   \n",
       "3 Strikes                           R      82.0          1.85   6000000.0   \n",
       "Aberdeen                          NaN     106.0          1.85   6500000.0   \n",
       "All the Pretty Horses           PG-13     220.0          2.35  57000000.0   \n",
       "\n",
       "                        Gross Earnings            Director  ...  \\\n",
       "Title                                                       ...   \n",
       "102 Dalmatians              66941559.0          Kevin Lima  ...   \n",
       "28 Days                     37035515.0        Betty Thomas  ...   \n",
       "3 Strikes                    9821335.0             DJ Pooh  ...   \n",
       "Aberdeen                       64148.0  Hans Petter Moland  ...   \n",
       "All the Pretty Horses       15527125.0  Billy Bob Thornton  ...   \n",
       "\n",
       "                       Facebook Likes - Actor 1 Facebook Likes - Actor 2  \\\n",
       "Title                                                                      \n",
       "102 Dalmatians                           2000.0                    795.0   \n",
       "28 Days                                 12000.0                  10000.0   \n",
       "3 Strikes                                 939.0                    706.0   \n",
       "Aberdeen                                  844.0                      2.0   \n",
       "All the Pretty Horses                   13000.0                    861.0   \n",
       "\n",
       "                       Facebook Likes - Actor 3  Facebook Likes - cast Total  \\\n",
       "Title                                                                          \n",
       "102 Dalmatians                            439.0                         4182   \n",
       "28 Days                                   664.0                        23864   \n",
       "3 Strikes                                 585.0                         3354   \n",
       "Aberdeen                                    0.0                          846   \n",
       "All the Pretty Horses                     820.0                        15006   \n",
       "\n",
       "                        Facebook likes - Movie  Facenumber in posters  \\\n",
       "Title                                                                   \n",
       "102 Dalmatians                             372                      1   \n",
       "28 Days                                      0                      1   \n",
       "3 Strikes                                  118                      1   \n",
       "Aberdeen                                   260                      0   \n",
       "All the Pretty Horses                      652                      2   \n",
       "\n",
       "                        User Votes  Reviews by Users  Reviews by Crtiics  \\\n",
       "Title                                                                      \n",
       "102 Dalmatians               26413              77.0                84.0   \n",
       "28 Days                      34597             194.0               116.0   \n",
       "3 Strikes                     1415              10.0                22.0   \n",
       "Aberdeen                      2601              35.0                28.0   \n",
       "All the Pretty Horses        11388             183.0                85.0   \n",
       "\n",
       "                        IMDB Score  \n",
       "Title                               \n",
       "102 Dalmatians                 4.8  \n",
       "28 Days                        6.0  \n",
       "3 Strikes                      4.0  \n",
       "Aberdeen                       7.3  \n",
       "All the Pretty Horses          5.8  \n",
       "\n",
       "[5 rows x 24 columns]"
      ]
     },
     "execution_count": 14,
     "metadata": {},
     "output_type": "execute_result"
    }
   ],
   "source": [
    "movies_sheet2 = pd.read_excel(excel_file, sheet_name=\"2000s\", index_col=0)\n",
    "movies_sheet2.head()"
   ]
  },
  {
   "cell_type": "code",
   "execution_count": 15,
   "metadata": {},
   "outputs": [
    {
     "data": {
      "text/html": [
       "<div>\n",
       "<style scoped>\n",
       "    .dataframe tbody tr th:only-of-type {\n",
       "        vertical-align: middle;\n",
       "    }\n",
       "\n",
       "    .dataframe tbody tr th {\n",
       "        vertical-align: top;\n",
       "    }\n",
       "\n",
       "    .dataframe thead th {\n",
       "        text-align: right;\n",
       "    }\n",
       "</style>\n",
       "<table border=\"1\" class=\"dataframe\">\n",
       "  <thead>\n",
       "    <tr style=\"text-align: right;\">\n",
       "      <th></th>\n",
       "      <th>Year</th>\n",
       "      <th>Genres</th>\n",
       "      <th>Language</th>\n",
       "      <th>Country</th>\n",
       "      <th>Content Rating</th>\n",
       "      <th>Duration</th>\n",
       "      <th>Aspect Ratio</th>\n",
       "      <th>Budget</th>\n",
       "      <th>Gross Earnings</th>\n",
       "      <th>Director</th>\n",
       "      <th>...</th>\n",
       "      <th>Facebook Likes - Actor 1</th>\n",
       "      <th>Facebook Likes - Actor 2</th>\n",
       "      <th>Facebook Likes - Actor 3</th>\n",
       "      <th>Facebook Likes - cast Total</th>\n",
       "      <th>Facebook likes - Movie</th>\n",
       "      <th>Facenumber in posters</th>\n",
       "      <th>User Votes</th>\n",
       "      <th>Reviews by Users</th>\n",
       "      <th>Reviews by Crtiics</th>\n",
       "      <th>IMDB Score</th>\n",
       "    </tr>\n",
       "    <tr>\n",
       "      <th>Title</th>\n",
       "      <th></th>\n",
       "      <th></th>\n",
       "      <th></th>\n",
       "      <th></th>\n",
       "      <th></th>\n",
       "      <th></th>\n",
       "      <th></th>\n",
       "      <th></th>\n",
       "      <th></th>\n",
       "      <th></th>\n",
       "      <th></th>\n",
       "      <th></th>\n",
       "      <th></th>\n",
       "      <th></th>\n",
       "      <th></th>\n",
       "      <th></th>\n",
       "      <th></th>\n",
       "      <th></th>\n",
       "      <th></th>\n",
       "      <th></th>\n",
       "      <th></th>\n",
       "    </tr>\n",
       "  </thead>\n",
       "  <tbody>\n",
       "    <tr>\n",
       "      <td>127 Hours</td>\n",
       "      <td>2010.0</td>\n",
       "      <td>Adventure|Biography|Drama|Thriller</td>\n",
       "      <td>English</td>\n",
       "      <td>USA</td>\n",
       "      <td>R</td>\n",
       "      <td>94.0</td>\n",
       "      <td>1.85</td>\n",
       "      <td>18000000.0</td>\n",
       "      <td>18329466.0</td>\n",
       "      <td>Danny Boyle</td>\n",
       "      <td>...</td>\n",
       "      <td>11000.0</td>\n",
       "      <td>642.0</td>\n",
       "      <td>223.0</td>\n",
       "      <td>11984</td>\n",
       "      <td>63000</td>\n",
       "      <td>0.0</td>\n",
       "      <td>279179</td>\n",
       "      <td>440.0</td>\n",
       "      <td>450.0</td>\n",
       "      <td>7.6</td>\n",
       "    </tr>\n",
       "    <tr>\n",
       "      <td>3 Backyards</td>\n",
       "      <td>2010.0</td>\n",
       "      <td>Drama</td>\n",
       "      <td>English</td>\n",
       "      <td>USA</td>\n",
       "      <td>R</td>\n",
       "      <td>88.0</td>\n",
       "      <td>NaN</td>\n",
       "      <td>300000.0</td>\n",
       "      <td>NaN</td>\n",
       "      <td>Eric Mendelsohn</td>\n",
       "      <td>...</td>\n",
       "      <td>795.0</td>\n",
       "      <td>659.0</td>\n",
       "      <td>301.0</td>\n",
       "      <td>1884</td>\n",
       "      <td>92</td>\n",
       "      <td>0.0</td>\n",
       "      <td>554</td>\n",
       "      <td>23.0</td>\n",
       "      <td>20.0</td>\n",
       "      <td>5.2</td>\n",
       "    </tr>\n",
       "    <tr>\n",
       "      <td>3</td>\n",
       "      <td>2010.0</td>\n",
       "      <td>Comedy|Drama|Romance</td>\n",
       "      <td>German</td>\n",
       "      <td>Germany</td>\n",
       "      <td>Unrated</td>\n",
       "      <td>119.0</td>\n",
       "      <td>2.35</td>\n",
       "      <td>NaN</td>\n",
       "      <td>59774.0</td>\n",
       "      <td>Tom Tykwer</td>\n",
       "      <td>...</td>\n",
       "      <td>24.0</td>\n",
       "      <td>20.0</td>\n",
       "      <td>9.0</td>\n",
       "      <td>69</td>\n",
       "      <td>2000</td>\n",
       "      <td>0.0</td>\n",
       "      <td>4212</td>\n",
       "      <td>18.0</td>\n",
       "      <td>76.0</td>\n",
       "      <td>6.8</td>\n",
       "    </tr>\n",
       "    <tr>\n",
       "      <td>8: The Mormon Proposition</td>\n",
       "      <td>2010.0</td>\n",
       "      <td>Documentary</td>\n",
       "      <td>English</td>\n",
       "      <td>USA</td>\n",
       "      <td>R</td>\n",
       "      <td>80.0</td>\n",
       "      <td>1.78</td>\n",
       "      <td>2500000.0</td>\n",
       "      <td>99851.0</td>\n",
       "      <td>Reed Cowan</td>\n",
       "      <td>...</td>\n",
       "      <td>191.0</td>\n",
       "      <td>12.0</td>\n",
       "      <td>5.0</td>\n",
       "      <td>210</td>\n",
       "      <td>0</td>\n",
       "      <td>0.0</td>\n",
       "      <td>1138</td>\n",
       "      <td>30.0</td>\n",
       "      <td>28.0</td>\n",
       "      <td>7.1</td>\n",
       "    </tr>\n",
       "    <tr>\n",
       "      <td>A Turtle's Tale: Sammy's Adventures</td>\n",
       "      <td>2010.0</td>\n",
       "      <td>Adventure|Animation|Family</td>\n",
       "      <td>English</td>\n",
       "      <td>France</td>\n",
       "      <td>PG</td>\n",
       "      <td>88.0</td>\n",
       "      <td>2.35</td>\n",
       "      <td>NaN</td>\n",
       "      <td>NaN</td>\n",
       "      <td>Ben Stassen</td>\n",
       "      <td>...</td>\n",
       "      <td>783.0</td>\n",
       "      <td>749.0</td>\n",
       "      <td>602.0</td>\n",
       "      <td>3874</td>\n",
       "      <td>0</td>\n",
       "      <td>2.0</td>\n",
       "      <td>5385</td>\n",
       "      <td>22.0</td>\n",
       "      <td>56.0</td>\n",
       "      <td>6.1</td>\n",
       "    </tr>\n",
       "  </tbody>\n",
       "</table>\n",
       "<p>5 rows × 24 columns</p>\n",
       "</div>"
      ],
      "text/plain": [
       "                                        Year  \\\n",
       "Title                                          \n",
       "127 Hours                             2010.0   \n",
       "3 Backyards                           2010.0   \n",
       "3                                     2010.0   \n",
       "8: The Mormon Proposition             2010.0   \n",
       "A Turtle's Tale: Sammy's Adventures   2010.0   \n",
       "\n",
       "                                                                  Genres  \\\n",
       "Title                                                                      \n",
       "127 Hours                             Adventure|Biography|Drama|Thriller   \n",
       "3 Backyards                                                        Drama   \n",
       "3                                                   Comedy|Drama|Romance   \n",
       "8: The Mormon Proposition                                    Documentary   \n",
       "A Turtle's Tale: Sammy's Adventures           Adventure|Animation|Family   \n",
       "\n",
       "                                     Language  Country Content Rating  \\\n",
       "Title                                                                   \n",
       "127 Hours                             English      USA              R   \n",
       "3 Backyards                           English      USA              R   \n",
       "3                                      German  Germany        Unrated   \n",
       "8: The Mormon Proposition             English      USA              R   \n",
       "A Turtle's Tale: Sammy's Adventures   English   France             PG   \n",
       "\n",
       "                                      Duration  Aspect Ratio      Budget  \\\n",
       "Title                                                                      \n",
       "127 Hours                                 94.0          1.85  18000000.0   \n",
       "3 Backyards                               88.0           NaN    300000.0   \n",
       "3                                        119.0          2.35         NaN   \n",
       "8: The Mormon Proposition                 80.0          1.78   2500000.0   \n",
       "A Turtle's Tale: Sammy's Adventures       88.0          2.35         NaN   \n",
       "\n",
       "                                      Gross Earnings         Director  ...  \\\n",
       "Title                                                                  ...   \n",
       "127 Hours                                 18329466.0      Danny Boyle  ...   \n",
       "3 Backyards                                      NaN  Eric Mendelsohn  ...   \n",
       "3                                            59774.0       Tom Tykwer  ...   \n",
       "8: The Mormon Proposition                    99851.0       Reed Cowan  ...   \n",
       "A Turtle's Tale: Sammy's Adventures              NaN      Ben Stassen  ...   \n",
       "\n",
       "                                     Facebook Likes - Actor 1  \\\n",
       "Title                                                           \n",
       "127 Hours                                             11000.0   \n",
       "3 Backyards                                             795.0   \n",
       "3                                                        24.0   \n",
       "8: The Mormon Proposition                               191.0   \n",
       "A Turtle's Tale: Sammy's Adventures                     783.0   \n",
       "\n",
       "                                     Facebook Likes - Actor 2  \\\n",
       "Title                                                           \n",
       "127 Hours                                               642.0   \n",
       "3 Backyards                                             659.0   \n",
       "3                                                        20.0   \n",
       "8: The Mormon Proposition                                12.0   \n",
       "A Turtle's Tale: Sammy's Adventures                     749.0   \n",
       "\n",
       "                                     Facebook Likes - Actor 3  \\\n",
       "Title                                                           \n",
       "127 Hours                                               223.0   \n",
       "3 Backyards                                             301.0   \n",
       "3                                                         9.0   \n",
       "8: The Mormon Proposition                                 5.0   \n",
       "A Turtle's Tale: Sammy's Adventures                     602.0   \n",
       "\n",
       "                                      Facebook Likes - cast Total  \\\n",
       "Title                                                               \n",
       "127 Hours                                                   11984   \n",
       "3 Backyards                                                  1884   \n",
       "3                                                              69   \n",
       "8: The Mormon Proposition                                     210   \n",
       "A Turtle's Tale: Sammy's Adventures                          3874   \n",
       "\n",
       "                                      Facebook likes - Movie  \\\n",
       "Title                                                          \n",
       "127 Hours                                              63000   \n",
       "3 Backyards                                               92   \n",
       "3                                                       2000   \n",
       "8: The Mormon Proposition                                  0   \n",
       "A Turtle's Tale: Sammy's Adventures                        0   \n",
       "\n",
       "                                      Facenumber in posters  User Votes  \\\n",
       "Title                                                                     \n",
       "127 Hours                                               0.0      279179   \n",
       "3 Backyards                                             0.0         554   \n",
       "3                                                       0.0        4212   \n",
       "8: The Mormon Proposition                               0.0        1138   \n",
       "A Turtle's Tale: Sammy's Adventures                     2.0        5385   \n",
       "\n",
       "                                      Reviews by Users  Reviews by Crtiics  \\\n",
       "Title                                                                        \n",
       "127 Hours                                        440.0               450.0   \n",
       "3 Backyards                                       23.0                20.0   \n",
       "3                                                 18.0                76.0   \n",
       "8: The Mormon Proposition                         30.0                28.0   \n",
       "A Turtle's Tale: Sammy's Adventures               22.0                56.0   \n",
       "\n",
       "                                      IMDB Score  \n",
       "Title                                             \n",
       "127 Hours                                    7.6  \n",
       "3 Backyards                                  5.2  \n",
       "3                                            6.8  \n",
       "8: The Mormon Proposition                    7.1  \n",
       "A Turtle's Tale: Sammy's Adventures          6.1  \n",
       "\n",
       "[5 rows x 24 columns]"
      ]
     },
     "execution_count": 15,
     "metadata": {},
     "output_type": "execute_result"
    }
   ],
   "source": [
    "movies_sheet3 = pd.read_excel(excel_file, sheet_name=\"2010s\", index_col=0)\n",
    "movies_sheet3.head()"
   ]
  },
  {
   "cell_type": "code",
   "execution_count": 16,
   "metadata": {},
   "outputs": [],
   "source": [
    "movies = pd.concat([movies_sheet1, movies_sheet2, movies_sheet3])"
   ]
  },
  {
   "cell_type": "code",
   "execution_count": 17,
   "metadata": {},
   "outputs": [
    {
     "data": {
      "text/plain": [
       "(5042, 24)"
      ]
     },
     "execution_count": 17,
     "metadata": {},
     "output_type": "execute_result"
    }
   ],
   "source": [
    "movies.shape"
   ]
  },
  {
   "cell_type": "code",
   "execution_count": 18,
   "metadata": {},
   "outputs": [],
   "source": [
    "xlsx = pd.ExcelFile(excel_file)\n",
    "movies_sheets = []\n",
    "for sheet in xlsx.sheet_names:\n",
    "       movies_sheets.append(xlsx.parse(sheet))\n",
    "movies = pd.concat(movies_sheets)"
   ]
  },
  {
   "cell_type": "code",
   "execution_count": 19,
   "metadata": {},
   "outputs": [
    {
     "data": {
      "text/plain": [
       "(5042, 25)"
      ]
     },
     "execution_count": 19,
     "metadata": {},
     "output_type": "execute_result"
    }
   ],
   "source": [
    "movies.shape"
   ]
  },
  {
   "cell_type": "code",
   "execution_count": 20,
   "metadata": {},
   "outputs": [],
   "source": [
    "sorted_by_gross = movies.sort_values(['Gross Earnings'], ascending=False)"
   ]
  },
  {
   "cell_type": "code",
   "execution_count": 21,
   "metadata": {},
   "outputs": [
    {
     "data": {
      "text/plain": [
       "1867    760505847.0\n",
       "1027    658672302.0\n",
       "1263    652177271.0\n",
       "610     623279547.0\n",
       "611     623279547.0\n",
       "1774    533316061.0\n",
       "1281    474544677.0\n",
       "226     460935665.0\n",
       "1183    458991599.0\n",
       "618     448130642.0\n",
       "Name: Gross Earnings, dtype: float64"
      ]
     },
     "execution_count": 21,
     "metadata": {},
     "output_type": "execute_result"
    }
   ],
   "source": [
    "sorted_by_gross[\"Gross Earnings\"].head(10)"
   ]
  },
  {
   "cell_type": "code",
   "execution_count": 22,
   "metadata": {},
   "outputs": [],
   "source": [
    "import matplotlib.pyplot as plt"
   ]
  },
  {
   "cell_type": "code",
   "execution_count": 23,
   "metadata": {},
   "outputs": [
    {
     "data": {
      "image/png": "[encoded data removed]",
      "text/plain": [
       "<Figure size 432x288 with 1 Axes>"
      ]
     },
     "metadata": {
      "needs_background": "light"
     },
     "output_type": "display_data"
    }
   ],
   "source": [
    "sorted_by_gross['Gross Earnings'].head(10).plot(kind=\"barh\")\n",
    "plt.show()"
   ]
  },
  {
   "cell_type": "code",
   "execution_count": 24,
   "metadata": {},
   "outputs": [
    {
     "data": {
      "image/png": "[encoded data removed]",
      "text/plain": [
       "<Figure size 432x288 with 1 Axes>"
      ]
     },
     "metadata": {
      "needs_background": "light"
     },
     "output_type": "display_data"
    }
   ],
   "source": [
    "movies['IMDB Score'].plot(kind=\"hist\")\n",
    "plt.show()"
   ]
  },
  {
   "cell_type": "code",
   "execution_count": 25,
   "metadata": {},
   "outputs": [
    {
     "data": {
      "text/plain": [
       "48468407.52680933"
      ]
     },
     "execution_count": 25,
     "metadata": {},
     "output_type": "execute_result"
    }
   ],
   "source": [
    "movies[\"Gross Earnings\"].mean()"
   ]
  },
  {
   "cell_type": "code",
   "execution_count": null,
   "metadata": {},
   "outputs": [],
   "source": []
  },
  {
   "cell_type": "code",
   "execution_count": null,
   "metadata": {},
   "outputs": [],
   "source": []
  },
  {
   "cell_type": "code",
   "execution_count": null,
   "metadata": {},
   "outputs": [],
   "source": []
  },
  {
   "cell_type": "code",
   "execution_count": null,
   "metadata": {},
   "outputs": [],
   "source": []
  },
  {
   "cell_type": "code",
   "execution_count": null,
   "metadata": {},
   "outputs": [],
   "source": []
  },
  {
   "cell_type": "code",
   "execution_count": null,
   "metadata": {},
   "outputs": [],
   "source": []
  },
  {
   "cell_type": "markdown",
   "metadata": {},
   "source": [
    "# Openpyxl"
   ]
  },
  {
   "cell_type": "code",
   "execution_count": 26,
   "metadata": {},
   "outputs": [],
   "source": [
    "## conda install -c anaconda openpyxl"
   ]
  },
  {
   "cell_type": "code",
   "execution_count": 27,
   "metadata": {},
   "outputs": [],
   "source": [
    "import openpyxl"
   ]
  },
  {
   "cell_type": "markdown",
   "metadata": {},
   "source": [
    "### Creating New .xlsx File\n",
    "In this program, we are going to create a new .xlsx file."
   ]
  },
  {
   "cell_type": "code",
   "execution_count": 28,
   "metadata": {},
   "outputs": [],
   "source": [
    "import openpyxl\n",
    "\n",
    "## CREATING XLSX FILE\n",
    "\n",
    "## initializing the xlsx\n",
    "xlsx = openpyxl.Workbook()\n",
    "\n",
    "## creating an active sheet to enter data\n",
    "sheet = xlsx.active\n",
    "\n",
    "## entering data into the A1 and B1 cells in the sheet\n",
    "sheet['A1'] = 'Studytonight'\n",
    "sheet['B1'] = 'A Programming Site'\n",
    "\n",
    "## saving the xlsx file using 'save' method\n",
    "xlsx.save('sample.xlsx')"
   ]
  },
  {
   "cell_type": "markdown",
   "metadata": {},
   "source": [
    "### Appending Data to a .xlsx file\n",
    "The append() method is used to append the data to any cell. Here is an example:"
   ]
  },
  {
   "cell_type": "code",
   "execution_count": 29,
   "metadata": {},
   "outputs": [],
   "source": [
    "import openpyxl\n",
    "\n",
    "## initializing the xlsx\n",
    "xlsx = openpyxl.Workbook()\n",
    "\n",
    "## creating an active sheet to enter data\n",
    "sheet = xlsx.active\n",
    "\n",
    "## creating data to append\n",
    "data = [\n",
    "         [1, 2, 3],\n",
    "         [4, 5, 6],\n",
    "         [7, 8, 9],\n",
    "         [10, 11, 12]\n",
    "       ]\n",
    "\n",
    "## appending row by row to the sheet\n",
    "for row in data:\n",
    "    ## append method is used to append the data to a cell\n",
    "    sheet.append(row)\n",
    "\n",
    "## saving the xlsx file using 'save' method\n",
    "xlsx.save('appending.xlsx')"
   ]
  },
  {
   "cell_type": "markdown",
   "metadata": {},
   "source": [
    "## Reading Data from a Cell\n",
    "We are now going to learn how to read data from a cell in a xlsx file. We will use the previously created .xlsx file to read data from the cell."
   ]
  },
  {
   "cell_type": "code",
   "execution_count": 30,
   "metadata": {},
   "outputs": [
    {
     "name": "stdout",
     "output_type": "stream",
     "text": [
      "Studytonight\n",
      "A Programming Site\n"
     ]
    }
   ],
   "source": [
    "import openpyxl\n",
    "\n",
    "## opening the previously created xlsx file using 'load_workbook()' method\n",
    "xlsx = openpyxl.load_workbook('sample.xlsx')\n",
    "\n",
    "## getting the sheet to active\n",
    "sheet = xlsx.active\n",
    "\n",
    "## getting the reference of the cells which we want to get the data from\n",
    "name = sheet['A1']\n",
    "tag = sheet.cell(row = 1, column = 2)\n",
    "\n",
    "## printing the values of cells\n",
    "print(name.value)\n",
    "print(tag.value)"
   ]
  },
  {
   "cell_type": "markdown",
   "metadata": {},
   "source": [
    "### Reading Data from Multiple Cells\n",
    "Now we are going to use the appending.xlsx file to read data. It contains numeric values from 1 to 12 saved in the cells in form of 4 rows and 3 columns."
   ]
  },
  {
   "cell_type": "code",
   "execution_count": 31,
   "metadata": {},
   "outputs": [
    {
     "name": "stdout",
     "output_type": "stream",
     "text": [
      "1 2 3\n",
      "4 5 6\n",
      "7 8 9\n",
      "10 11 12\n"
     ]
    }
   ],
   "source": [
    "import openpyxl\n",
    "\n",
    "## opening the previously created xlsx file using 'load_workbook()' method\n",
    "xlsx = openpyxl.load_workbook('appending.xlsx')\n",
    "\n",
    "## getting the sheet to active\n",
    "sheet = xlsx.active\n",
    "\n",
    "## getting the reference of the cells which we want to get the data from\n",
    "values = sheet['A1' : 'C4']\n",
    "\n",
    "## printing the values of cells\n",
    "for c1, c2, c3 in values:\n",
    "    print(\"{} {} {}\".format(c1.value, c2.value, c3.value))"
   ]
  },
  {
   "cell_type": "markdown",
   "metadata": {},
   "source": [
    "### Getting Dimensions of an .xlsx Sheet\n",
    "Getting the dimensions of an .xlsx sheet is also possible and super-easy using the dimensions method. "
   ]
  },
  {
   "cell_type": "code",
   "execution_count": 32,
   "metadata": {},
   "outputs": [
    {
     "name": "stdout",
     "output_type": "stream",
     "text": [
      "A1:C4\n"
     ]
    }
   ],
   "source": [
    "## opening the previously created xlsx file using 'load_workbook()' method\n",
    "xlsx = openpyxl.load_workbook('appending.xlsx')\n",
    "\n",
    "## getting the sheet to active\n",
    "sheet = xlsx.active\n",
    "\n",
    "## getting the reference of the cells which we want to get the data from\n",
    "dimensions = sheet.dimensions\n",
    "\n",
    "## printing the dimensions of the sheet\n",
    "print(dimensions)"
   ]
  },
  {
   "cell_type": "markdown",
   "metadata": {},
   "source": [
    "## Getting Data from Rows of .xlsx File\n",
    "We can also get data from all the rows of an xlsx file by using the rows method."
   ]
  },
  {
   "cell_type": "code",
   "execution_count": 33,
   "metadata": {},
   "outputs": [
    {
     "name": "stdout",
     "output_type": "stream",
     "text": [
      "1 2 3 \n",
      "\n",
      "4 5 6 \n",
      "\n",
      "7 8 9 \n",
      "\n",
      "10 11 12 \n",
      "\n"
     ]
    }
   ],
   "source": [
    "## opening the previously created xlsx file using 'load_workbook()' method\n",
    "xlsx = openpyxl.load_workbook('appending.xlsx')\n",
    "\n",
    "## getting the sheet to active\n",
    "sheet = xlsx.active\n",
    "\n",
    "## getting the reference of the cells which we want to get the data from\n",
    "rows = sheet.rows\n",
    "\n",
    "## printing the values of cells using rows\n",
    "for row in rows:\n",
    "    for cell in row:\n",
    "        print(cell.value, end = ' ')\n",
    "\n",
    "    print(\"\\n\")"
   ]
  },
  {
   "cell_type": "markdown",
   "metadata": {},
   "source": [
    "### Getting Data from Columns of .xlsx File\n",
    "We can get data from all the columns of an xlsx file by using the columns method."
   ]
  },
  {
   "cell_type": "code",
   "execution_count": 34,
   "metadata": {},
   "outputs": [
    {
     "name": "stdout",
     "output_type": "stream",
     "text": [
      "1 4 7 10 \n",
      "\n",
      "2 5 8 11 \n",
      "\n",
      "3 6 9 12 \n",
      "\n"
     ]
    }
   ],
   "source": [
    "## opening the previously created xlsx file using 'load_workbook()' method\n",
    "xlsx = openpyxl.load_workbook('appending.xlsx')\n",
    "\n",
    "## getting the sheet to active\n",
    "sheet = xlsx.active\n",
    "\n",
    "## getting the reference of the cells which we want to get the data from\n",
    "columns = sheet.columns\n",
    "\n",
    "## printing the values of cells using rows\n",
    "for column in columns:\n",
    "    for cell in column:\n",
    "        print(cell.value, end = ' ')\n",
    "    print(\"\\n\")"
   ]
  },
  {
   "cell_type": "markdown",
   "metadata": {},
   "source": [
    "## Working with Excel Sheets\n",
    "In this section we will see how we can create more sheets, get name of sheets and even change the name of any given sheet etc.\n",
    "\n",
    "### 1. Changing the name of an Excel Sheet\n",
    "We can also change the name of a given excel sheet using the title variable. Let's see an example:"
   ]
  },
  {
   "cell_type": "code",
   "execution_count": 35,
   "metadata": {},
   "outputs": [],
   "source": [
    "## initializing the xlsx\n",
    "xlsx = openpyxl.Workbook()\n",
    "\n",
    "## creating an active sheet to enter data\n",
    "sheet = xlsx.active\n",
    "\n",
    "## entering data into the A1 and B1 cells in the sheet\n",
    "sheet['A1'] = 'Studytonight'\n",
    "sheet['B1'] = 'A Programming Site'\n",
    "\n",
    "## setting the title for the sheet\n",
    "sheet.title = \"Sample\"\n",
    "\n",
    "## saving the xlsx file using 'save' method\n",
    "xlsx.save('sample.xlsx')"
   ]
  },
  {
   "cell_type": "markdown",
   "metadata": {},
   "source": [
    "#### 2. Getting Excel Sheet name\n",
    "Getting the names of all the sheets present in xlsx file is super easy using the openpyxl module. We can use the method called get_sheet_names() to get names of all the sheets present in the excel file."
   ]
  },
  {
   "cell_type": "code",
   "execution_count": 36,
   "metadata": {},
   "outputs": [
    {
     "name": "stdout",
     "output_type": "stream",
     "text": [
      "['Sample']\n"
     ]
    },
    {
     "name": "stderr",
     "output_type": "stream",
     "text": [
      "/opt/anaconda3/lib/python3.7/site-packages/ipykernel_launcher.py:5: DeprecationWarning: Call to deprecated function get_sheet_names (Use wb.sheetnames).\n",
      "  \"\"\"\n"
     ]
    }
   ],
   "source": [
    "## initializing the xlsx\n",
    "xlsx = openpyxl.load_workbook('sample.xlsx')\n",
    "\n",
    "## getting all sheet names\n",
    "names = xlsx.get_sheet_names()\n",
    "\n",
    "print(names)"
   ]
  },
  {
   "cell_type": "markdown",
   "metadata": {},
   "source": [
    "### 3. Creating more than one Sheet in an Excel File\n",
    "When creating our first xlsx file, we only created one sheet. Let's see how to create multiple sheets and give names to them."
   ]
  },
  {
   "cell_type": "code",
   "execution_count": 37,
   "metadata": {},
   "outputs": [],
   "source": [
    "import openpyxl\n",
    "\n",
    "## initializing the xlsx\n",
    "xlsx = openpyxl.Workbook()\n",
    "\n",
    "## creating sheets\n",
    "xlsx.create_sheet(\"School\")\n",
    "xlsx.create_sheet(\"College\")\n",
    "xlsx.create_sheet(\"University\")\n",
    "\n",
    "## saving the xlsx file using 'save' method\n",
    "xlsx.save('multiple_sheets.xlsx')\n",
    "\n",
    "# As you can see in the snapshot above that a new excel file is created with 3 new sheets with different names provided by us in the program.\n"
   ]
  },
  {
   "cell_type": "markdown",
   "metadata": {},
   "source": [
    "## 4. Adding Data to Multiple Sheets\n",
    "Entering data into different sheets present in xlsx file can also be done easily. In the program below, we will get the sheets by their names individually or all at once as we have done above. Let's see how to get sheets using their name and enter data into them.\n",
    "\n",
    "We will use previously created xlsx file called multiple_sheets.xlsx to enter the data into sheets."
   ]
  },
  {
   "cell_type": "code",
   "execution_count": 38,
   "metadata": {},
   "outputs": [
    {
     "name": "stderr",
     "output_type": "stream",
     "text": [
      "/opt/anaconda3/lib/python3.7/site-packages/ipykernel_launcher.py:10: DeprecationWarning: Call to deprecated function get_sheet_by_name (Use wb[sheetname]).\n",
      "  # Remove the CWD from sys.path while we load stuff.\n",
      "/opt/anaconda3/lib/python3.7/site-packages/ipykernel_launcher.py:14: DeprecationWarning: Call to deprecated function get_sheet_by_name (Use wb[sheetname]).\n",
      "  \n",
      "/opt/anaconda3/lib/python3.7/site-packages/ipykernel_launcher.py:18: DeprecationWarning: Call to deprecated function get_sheet_by_name (Use wb[sheetname]).\n"
     ]
    }
   ],
   "source": [
    "## initializing the xlsx\n",
    "xlsx = openpyxl.Workbook()\n",
    "\n",
    "## creating sheets\n",
    "xlsx.create_sheet(\"School\")\n",
    "xlsx.create_sheet(\"College\")\n",
    "xlsx.create_sheet(\"University\")\n",
    "\n",
    "## getting sheet by it's name\n",
    "school = xlsx.get_sheet_by_name(\"School\")\n",
    "school['A1'] = 1\n",
    "\n",
    "## getting sheet by it's name\n",
    "college = xlsx.get_sheet_by_name(\"College\")\n",
    "college['A1'] = 2\n",
    "\n",
    "## getting sheet by it's name\n",
    "university = xlsx.get_sheet_by_name(\"University\")\n",
    "university['A1'] = 3\n",
    "\n",
    "## saving the xlsx file using 'save' method\n",
    "xlsx.save('multiple_sheets.xlsx')"
   ]
  },
  {
   "cell_type": "code",
   "execution_count": null,
   "metadata": {},
   "outputs": [],
   "source": []
  }
 ],
 "metadata": {
  "kernelspec": {
   "display_name": "Python 3",
   "language": "python",
   "name": "python3"
  },
  "language_info": {
   "codemirror_mode": {
    "name": "ipython",
    "version": 3
   },
   "file_extension": ".py",
   "mimetype": "text/x-python",
   "name": "python",
   "nbconvert_exporter": "python",
   "pygments_lexer": "ipython3",
   "version": "3.7.4"
  }
 },
 "nbformat": 4,
 "nbformat_minor": 2
}
